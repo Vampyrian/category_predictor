{
 "cells": [
  {
   "metadata": {},
   "cell_type": "markdown",
   "source": "# Logins",
   "id": "98e56972f1fe689"
  },
  {
   "metadata": {
    "ExecuteTime": {
     "end_time": "2024-11-07T15:00:13.541086Z",
     "start_time": "2024-11-07T15:00:13.539003Z"
    }
   },
   "cell_type": "code",
   "source": [
    "# from huggingface_hub import notebook_login\n",
    "# notebook_login()"
   ],
   "id": "352ab15f9a963b3b",
   "outputs": [],
   "execution_count": 2
  },
  {
   "metadata": {},
   "cell_type": "markdown",
   "source": "# Settings",
   "id": "8f9d2677405e6df0"
  },
  {
   "metadata": {},
   "cell_type": "code",
   "outputs": [],
   "execution_count": null,
   "source": [
    "# checkpoint = 'google-bert/bert-base-multilingual-cased'\n",
    "checkpoint = 'amberoad/bert-multilingual-passage-reranking-msmarco'\n",
    "\n",
    "# my_model_name = 'category_predictor_for_household_equipments'\n",
    "my_model_name = 'category_predictor'\n",
    "\n",
    "# dataset_name = 'Vampyrian/products_with_category_household_equipments'\n",
    "dataset_name = 'Vampyrian/products_with_category'"
   ],
   "id": "43c0c207f22be19c"
  },
  {
   "metadata": {},
   "cell_type": "markdown",
   "source": "# Prepare dataset",
   "id": "a7055365bed99b83"
  },
  {
   "metadata": {
    "ExecuteTime": {
     "end_time": "2024-11-07T15:00:14.645108Z",
     "start_time": "2024-11-07T15:00:13.576210Z"
    }
   },
   "cell_type": "code",
   "source": "from datasets import load_dataset, Dataset",
   "id": "fbc121e30a2defb3",
   "outputs": [],
   "execution_count": 3
  },
  {
   "metadata": {
    "ExecuteTime": {
     "end_time": "2024-11-07T15:00:17.783646Z",
     "start_time": "2024-11-07T15:00:14.651092Z"
    }
   },
   "cell_type": "code",
   "source": "dataset = load_dataset('Vampyrian/products_with_category_household_equipments')",
   "id": "f76cd9fc45d425d2",
   "outputs": [],
   "execution_count": 4
  },
  {
   "metadata": {
    "ExecuteTime": {
     "end_time": "2024-11-07T15:00:17.793889Z",
     "start_time": "2024-11-07T15:00:17.791771Z"
    }
   },
   "cell_type": "code",
   "source": "dataset",
   "id": "469e83f6263a2cee",
   "outputs": [
    {
     "data": {
      "text/plain": [
       "DatasetDict({\n",
       "    train: Dataset({\n",
       "        features: ['text', 'label', 'label_text'],\n",
       "        num_rows: 26056\n",
       "    })\n",
       "    validation: Dataset({\n",
       "        features: ['text', 'label', 'label_text'],\n",
       "        num_rows: 3453\n",
       "    })\n",
       "    test: Dataset({\n",
       "        features: ['text', 'label', 'label_text'],\n",
       "        num_rows: 3453\n",
       "    })\n",
       "})"
      ]
     },
     "execution_count": 5,
     "metadata": {},
     "output_type": "execute_result"
    }
   ],
   "execution_count": 5
  },
  {
   "metadata": {
    "ExecuteTime": {
     "end_time": "2024-11-07T15:00:17.873807Z",
     "start_time": "2024-11-07T15:00:17.869726Z"
    }
   },
   "cell_type": "code",
   "source": "dataset = dataset.remove_columns('label')",
   "id": "e2e1fe8be63993a9",
   "outputs": [],
   "execution_count": 6
  },
  {
   "metadata": {
    "ExecuteTime": {
     "end_time": "2024-11-07T15:00:17.913301Z",
     "start_time": "2024-11-07T15:00:17.892230Z"
    }
   },
   "cell_type": "code",
   "source": [
    "unique_categories = set(dataset['train']['label_text'])\n",
    "id2label = {idx: label for idx, label in enumerate(unique_categories)}\n",
    "label2id = {label: idx for idx, label in enumerate(unique_categories)}"
   ],
   "id": "a4d9cf0e5b9f9a27",
   "outputs": [],
   "execution_count": 7
  },
  {
   "metadata": {
    "ExecuteTime": {
     "end_time": "2024-11-07T15:00:17.924578Z",
     "start_time": "2024-11-07T15:00:17.922135Z"
    }
   },
   "cell_type": "code",
   "source": [
    "print(len(id2label))\n",
    "print('----')\n",
    "print(\"id2label:\", id2label)\n",
    "print('----')\n",
    "print(\"label2id:\", label2id)"
   ],
   "id": "36769af76420bf86",
   "outputs": [
    {
     "name": "stdout",
     "output_type": "stream",
     "text": [
      "79\n",
      "----\n",
      "id2label: {0: 'Dulkių siurblių maišai', 1: 'Skrudintuvai', 2: 'Pjaustyklės', 3: 'Dulkių siurbliai robotai', 4: 'Dulkių siurbliai', 5: 'Ledų gaminimo aparatai', 6: 'Elektriniai šildytuvai', 7: 'Pieno šaldytuvai', 8: 'Plakikliai mikseriai', 9: 'Kavos aparatai', 10: 'Kaitlentės', 11: 'Cikloninės krosnelės', 12: 'Oro jonizatoriai', 13: 'Ozono generatoriai', 14: 'Oro drėkintuvai', 15: 'Barzdaskutės', 16: 'Oro kondicionieriai', 17: 'Plaukų džiovintuvai', 18: 'Plaukų formavimo prietaisai', 19: 'Cukraus vatos aparatai', 20: 'Daugiafunkciniai puodai', 21: 'Šilumos siurbliai oras-oras', 22: 'Geoterminiai šilumos siurbliai', 23: 'Dujiniai šildytuvai', 24: 'Hepa filtrai', 25: 'Blenderiai', 26: 'Konvekciniai radiatoriai', 27: 'Vakuumatoriai', 28: 'Griliai ir keptuvės', 29: 'Epiliatoriai', 30: 'Rekuperatoriai', 31: 'Džiovyklės', 32: 'Kavamalės', 33: 'Virtuvinės svarstyklės', 34: 'Indaplovės', 35: 'Oro valytuvai', 36: 'Oro šildytuvai', 37: 'Ventiliatoriniai šildytuvai', 38: 'Šaldytuvai', 39: 'Skalbyklių ir džiovyklių sujungimo rėmeliai', 40: 'Lygintuvai', 41: 'Drabužių garintuvai', 42: 'Svarstyklės', 43: 'Mėsmalės', 44: 'Sulčiaspaudės', 45: 'Gartraukių filtrai', 46: 'Sieniniai ventiliatoriai', 47: 'Skalbyklės - džiovyklės', 48: 'Nešiojami oro kondicionieriai', 49: 'Duonkepės', 50: 'Orkaitės', 51: 'Rankiniai dulkių siurbliai', 52: 'Skalbimo mašinos', 53: 'Virtuviniai kombainai', 54: 'Garų puodai', 55: 'Pūkų rinkikliai', 56: 'Kiaušinių virimo aparatai', 57: 'Šaldikliai', 58: 'Dulkių siurblių antgaliai', 59: 'Lubiniai ventiliatoriai', 60: 'Viryklės', 61: 'Gruzdintuvės', 62: 'Sumuštinių keptuvės', 63: 'Elektriniai dantų šepetėliai', 64: 'Vaflinės', 65: 'Langų valytuvai', 66: 'Mikrobangų krosnelės', 67: 'Vaisių džiovintuvai', 68: 'Šilumos siurbliai oras-vanduo', 69: 'Ventiliatoriai', 70: 'Įmontuojamos indaplovės', 71: 'Plaukų kirpimo mašinėlės', 72: 'Gartraukiai', 73: 'Platforminės svarstyklės', 74: 'Maisto atliekų smulkintuvai', 75: 'Infraraudonųjų spindulių šildytuvai', 76: 'Pramoniniai dulkių siurbliai', 77: 'Siuvimo mašinos', 78: 'Virduliai'}\n",
      "----\n",
      "label2id: {'Dulkių siurblių maišai': 0, 'Skrudintuvai': 1, 'Pjaustyklės': 2, 'Dulkių siurbliai robotai': 3, 'Dulkių siurbliai': 4, 'Ledų gaminimo aparatai': 5, 'Elektriniai šildytuvai': 6, 'Pieno šaldytuvai': 7, 'Plakikliai mikseriai': 8, 'Kavos aparatai': 9, 'Kaitlentės': 10, 'Cikloninės krosnelės': 11, 'Oro jonizatoriai': 12, 'Ozono generatoriai': 13, 'Oro drėkintuvai': 14, 'Barzdaskutės': 15, 'Oro kondicionieriai': 16, 'Plaukų džiovintuvai': 17, 'Plaukų formavimo prietaisai': 18, 'Cukraus vatos aparatai': 19, 'Daugiafunkciniai puodai': 20, 'Šilumos siurbliai oras-oras': 21, 'Geoterminiai šilumos siurbliai': 22, 'Dujiniai šildytuvai': 23, 'Hepa filtrai': 24, 'Blenderiai': 25, 'Konvekciniai radiatoriai': 26, 'Vakuumatoriai': 27, 'Griliai ir keptuvės': 28, 'Epiliatoriai': 29, 'Rekuperatoriai': 30, 'Džiovyklės': 31, 'Kavamalės': 32, 'Virtuvinės svarstyklės': 33, 'Indaplovės': 34, 'Oro valytuvai': 35, 'Oro šildytuvai': 36, 'Ventiliatoriniai šildytuvai': 37, 'Šaldytuvai': 38, 'Skalbyklių ir džiovyklių sujungimo rėmeliai': 39, 'Lygintuvai': 40, 'Drabužių garintuvai': 41, 'Svarstyklės': 42, 'Mėsmalės': 43, 'Sulčiaspaudės': 44, 'Gartraukių filtrai': 45, 'Sieniniai ventiliatoriai': 46, 'Skalbyklės - džiovyklės': 47, 'Nešiojami oro kondicionieriai': 48, 'Duonkepės': 49, 'Orkaitės': 50, 'Rankiniai dulkių siurbliai': 51, 'Skalbimo mašinos': 52, 'Virtuviniai kombainai': 53, 'Garų puodai': 54, 'Pūkų rinkikliai': 55, 'Kiaušinių virimo aparatai': 56, 'Šaldikliai': 57, 'Dulkių siurblių antgaliai': 58, 'Lubiniai ventiliatoriai': 59, 'Viryklės': 60, 'Gruzdintuvės': 61, 'Sumuštinių keptuvės': 62, 'Elektriniai dantų šepetėliai': 63, 'Vaflinės': 64, 'Langų valytuvai': 65, 'Mikrobangų krosnelės': 66, 'Vaisių džiovintuvai': 67, 'Šilumos siurbliai oras-vanduo': 68, 'Ventiliatoriai': 69, 'Įmontuojamos indaplovės': 70, 'Plaukų kirpimo mašinėlės': 71, 'Gartraukiai': 72, 'Platforminės svarstyklės': 73, 'Maisto atliekų smulkintuvai': 74, 'Infraraudonųjų spindulių šildytuvai': 75, 'Pramoniniai dulkių siurbliai': 76, 'Siuvimo mašinos': 77, 'Virduliai': 78}\n"
     ]
    }
   ],
   "execution_count": 8
  },
  {
   "metadata": {
    "ExecuteTime": {
     "end_time": "2024-11-07T15:00:18.000116Z",
     "start_time": "2024-11-07T15:00:17.998026Z"
    }
   },
   "cell_type": "code",
   "source": [
    "def replace_category_with_id(example):\n",
    "    example['label'] = label2id[example.pop('label_text')]\n",
    "    return example"
   ],
   "id": "84677a6b9a6290fd",
   "outputs": [],
   "execution_count": 9
  },
  {
   "metadata": {
    "ExecuteTime": {
     "end_time": "2024-11-07T15:00:18.439701Z",
     "start_time": "2024-11-07T15:00:18.024101Z"
    }
   },
   "cell_type": "code",
   "source": "dataset = dataset.map(replace_category_with_id)",
   "id": "9373a1ea204fee6",
   "outputs": [
    {
     "data": {
      "text/plain": [
       "Map:   0%|          | 0/26056 [00:00<?, ? examples/s]"
      ],
      "application/vnd.jupyter.widget-view+json": {
       "version_major": 2,
       "version_minor": 0,
       "model_id": "ef9ba255e95c4aa2922b240ac2cf9019"
      }
     },
     "metadata": {},
     "output_type": "display_data"
    },
    {
     "data": {
      "text/plain": [
       "Map:   0%|          | 0/3453 [00:00<?, ? examples/s]"
      ],
      "application/vnd.jupyter.widget-view+json": {
       "version_major": 2,
       "version_minor": 0,
       "model_id": "f87f1472569d48a9a55e493ad10c1fb7"
      }
     },
     "metadata": {},
     "output_type": "display_data"
    },
    {
     "data": {
      "text/plain": [
       "Map:   0%|          | 0/3453 [00:00<?, ? examples/s]"
      ],
      "application/vnd.jupyter.widget-view+json": {
       "version_major": 2,
       "version_minor": 0,
       "model_id": "48e35498ff644e1bb3bcd693771f1207"
      }
     },
     "metadata": {},
     "output_type": "display_data"
    }
   ],
   "execution_count": 10
  },
  {
   "metadata": {
    "ExecuteTime": {
     "end_time": "2024-11-07T15:00:18.455938Z",
     "start_time": "2024-11-07T15:00:18.445834Z"
    }
   },
   "cell_type": "code",
   "source": "dataset = dataset.shuffle(seed=42)",
   "id": "3e13871ce8fd6de9",
   "outputs": [],
   "execution_count": 11
  },
  {
   "metadata": {
    "ExecuteTime": {
     "end_time": "2024-11-07T15:00:18.467790Z",
     "start_time": "2024-11-07T15:00:18.464224Z"
    }
   },
   "cell_type": "code",
   "source": "dataset['train'][12]",
   "id": "bd9e138e17109ec1",
   "outputs": [
    {
     "data": {
      "text/plain": [
       "{'text': 'BAGGED VACUUM CLEANER ERIS 750W', 'label': 4}"
      ]
     },
     "execution_count": 12,
     "metadata": {},
     "output_type": "execute_result"
    }
   ],
   "execution_count": 12
  },
  {
   "metadata": {},
   "cell_type": "markdown",
   "source": "# Tokenizing",
   "id": "eee83b2296828a77"
  },
  {
   "metadata": {
    "ExecuteTime": {
     "end_time": "2024-11-07T15:00:19.676972Z",
     "start_time": "2024-11-07T15:00:18.502593Z"
    }
   },
   "cell_type": "code",
   "source": "from transformers import AutoTokenizer",
   "id": "da95845c79168f3e",
   "outputs": [],
   "execution_count": 14
  },
  {
   "metadata": {
    "ExecuteTime": {
     "end_time": "2024-11-07T15:00:19.987468Z",
     "start_time": "2024-11-07T15:00:19.681771Z"
    }
   },
   "cell_type": "code",
   "source": "tokenizer = AutoTokenizer.from_pretrained(checkpoint)",
   "id": "fb1c397a657e7e31",
   "outputs": [
    {
     "name": "stderr",
     "output_type": "stream",
     "text": [
      "/Users/zilvinasmacius/PycharmProjects/kategorijos_huggin_face/.venv/lib/python3.12/site-packages/transformers/tokenization_utils_base.py:1617: FutureWarning: `clean_up_tokenization_spaces` was not set. It will be set to `True` by default. This behavior will be deprecated in transformers v4.45, and will be then set to `False` by default. For more details check this issue: https://github.com/huggingface/transformers/issues/31884\n",
      "  warnings.warn(\n"
     ]
    }
   ],
   "execution_count": 15
  },
  {
   "metadata": {
    "ExecuteTime": {
     "end_time": "2024-11-07T15:00:20.056906Z",
     "start_time": "2024-11-07T15:00:20.054815Z"
    }
   },
   "cell_type": "code",
   "source": [
    "def preprocess_function(examples):\n",
    "    return tokenizer(examples[\"text\"], truncation=True)"
   ],
   "id": "d7ca7fbc690744ba",
   "outputs": [],
   "execution_count": 16
  },
  {
   "metadata": {
    "ExecuteTime": {
     "end_time": "2024-11-07T15:00:20.722440Z",
     "start_time": "2024-11-07T15:00:20.075898Z"
    }
   },
   "cell_type": "code",
   "source": "tokenized_dataset = dataset.map(preprocess_function, batched=True)",
   "id": "92fd83743ac238cc",
   "outputs": [
    {
     "data": {
      "text/plain": [
       "Map:   0%|          | 0/26056 [00:00<?, ? examples/s]"
      ],
      "application/vnd.jupyter.widget-view+json": {
       "version_major": 2,
       "version_minor": 0,
       "model_id": "27fae12ffac045acba86244a96376d75"
      }
     },
     "metadata": {},
     "output_type": "display_data"
    },
    {
     "data": {
      "text/plain": [
       "Map:   0%|          | 0/3453 [00:00<?, ? examples/s]"
      ],
      "application/vnd.jupyter.widget-view+json": {
       "version_major": 2,
       "version_minor": 0,
       "model_id": "cb480b500b7c4fdc8c96695f5fa08e8a"
      }
     },
     "metadata": {},
     "output_type": "display_data"
    },
    {
     "data": {
      "text/plain": [
       "Map:   0%|          | 0/3453 [00:00<?, ? examples/s]"
      ],
      "application/vnd.jupyter.widget-view+json": {
       "version_major": 2,
       "version_minor": 0,
       "model_id": "3e425151d8bd484d971961d81f6fbc23"
      }
     },
     "metadata": {},
     "output_type": "display_data"
    }
   ],
   "execution_count": 17
  },
  {
   "metadata": {
    "ExecuteTime": {
     "end_time": "2024-11-07T15:00:25.129155Z",
     "start_time": "2024-11-07T15:00:20.739188Z"
    }
   },
   "cell_type": "code",
   "source": [
    "from transformers import DataCollatorWithPadding\n",
    "\n",
    "data_collator = DataCollatorWithPadding(tokenizer=tokenizer)"
   ],
   "id": "6e8f806b4c89b99d",
   "outputs": [],
   "execution_count": 18
  },
  {
   "metadata": {},
   "cell_type": "markdown",
   "source": "# Evaluate",
   "id": "6dbcfad0fab4b24b"
  },
  {
   "metadata": {
    "ExecuteTime": {
     "end_time": "2024-11-07T15:00:26.955189Z",
     "start_time": "2024-11-07T15:00:25.147172Z"
    }
   },
   "cell_type": "code",
   "source": [
    "import evaluate\n",
    "accuracy = evaluate.load(\"accuracy\")"
   ],
   "id": "f554203dfb3156cc",
   "outputs": [],
   "execution_count": 19
  },
  {
   "metadata": {
    "ExecuteTime": {
     "end_time": "2024-11-07T15:00:26.971658Z",
     "start_time": "2024-11-07T15:00:26.960695Z"
    }
   },
   "cell_type": "code",
   "source": [
    "import numpy as np\n",
    "\n",
    "def compute_metrics(eval_pred):\n",
    "    predictions, labels = eval_pred\n",
    "    predictions = np.argmax(predictions, axis=1)\n",
    "    return accuracy.compute(predictions=predictions, references=labels)"
   ],
   "id": "1004b6af74618aa6",
   "outputs": [],
   "execution_count": 20
  },
  {
   "metadata": {},
   "cell_type": "markdown",
   "source": "# Train",
   "id": "4960247872004275"
  },
  {
   "metadata": {
    "ExecuteTime": {
     "end_time": "2024-11-07T15:00:27.189175Z",
     "start_time": "2024-11-07T15:00:26.986573Z"
    }
   },
   "cell_type": "code",
   "source": "from transformers import TrainingArguments, Trainer, AutoModelForSequenceClassification",
   "id": "d152b32b47be31c3",
   "outputs": [],
   "execution_count": 21
  },
  {
   "metadata": {
    "ExecuteTime": {
     "end_time": "2024-11-07T15:00:29.154670Z",
     "start_time": "2024-11-07T15:00:27.211140Z"
    }
   },
   "cell_type": "code",
   "source": "model = AutoModelForSequenceClassification.from_pretrained(checkpoint, num_labels=len(id2label), id2label=id2label, label2id=label2id, ignore_mismatched_sizes=True)",
   "id": "c591732acc3144e6",
   "outputs": [
    {
     "name": "stderr",
     "output_type": "stream",
     "text": [
      "Some weights of BertForSequenceClassification were not initialized from the model checkpoint at google-bert/bert-base-multilingual-cased and are newly initialized: ['classifier.bias', 'classifier.weight']\n",
      "You should probably TRAIN this model on a down-stream task to be able to use it for predictions and inference.\n"
     ]
    }
   ],
   "execution_count": 23
  },
  {
   "metadata": {
    "ExecuteTime": {
     "end_time": "2024-11-07T15:00:29.230600Z",
     "start_time": "2024-11-07T15:00:29.209777Z"
    }
   },
   "cell_type": "code",
   "source": [
    "training_args = TrainingArguments(\n",
    "    output_dir=my_model_name,\n",
    "    learning_rate=2e-5,\n",
    "    per_device_train_batch_size=4,\n",
    "    per_device_eval_batch_size=4,\n",
    "    num_train_epochs=3,\n",
    "    weight_decay=0.01,\n",
    "    eval_strategy=\"epoch\",\n",
    "    save_strategy=\"epoch\",\n",
    "    load_best_model_at_end=True,\n",
    "    push_to_hub=True,\n",
    ")"
   ],
   "id": "22619744d21cda0c",
   "outputs": [],
   "execution_count": 24
  },
  {
   "metadata": {
    "ExecuteTime": {
     "end_time": "2024-11-07T15:00:34.051298Z",
     "start_time": "2024-11-07T15:00:29.242572Z"
    }
   },
   "cell_type": "code",
   "source": [
    "trainer = Trainer(\n",
    "    model=model,\n",
    "    args=training_args,\n",
    "    train_dataset=tokenized_dataset[\"train\"],\n",
    "    eval_dataset=tokenized_dataset[\"test\"],\n",
    "    data_collator=data_collator,\n",
    "    compute_metrics=compute_metrics,\n",
    ")"
   ],
   "id": "d0aed8492ecc72d2",
   "outputs": [
    {
     "name": "stderr",
     "output_type": "stream",
     "text": [
      "huggingface/tokenizers: The current process just got forked, after parallelism has already been used. Disabling parallelism to avoid deadlocks...\n",
      "To disable this warning, you can either:\n",
      "\t- Avoid using `tokenizers` before the fork if possible\n",
      "\t- Explicitly set the environment variable TOKENIZERS_PARALLELISM=(true | false)\n",
      "[codecarbon INFO @ 17:00:30] [setup] RAM Tracking...\n",
      "[codecarbon INFO @ 17:00:30] [setup] GPU Tracking...\n",
      "[codecarbon INFO @ 17:00:30] No GPU found.\n",
      "[codecarbon INFO @ 17:00:30] [setup] CPU Tracking...\n",
      "huggingface/tokenizers: The current process just got forked, after parallelism has already been used. Disabling parallelism to avoid deadlocks...\n",
      "To disable this warning, you can either:\n",
      "\t- Avoid using `tokenizers` before the fork if possible\n",
      "\t- Explicitly set the environment variable TOKENIZERS_PARALLELISM=(true | false)\n",
      "huggingface/tokenizers: The current process just got forked, after parallelism has already been used. Disabling parallelism to avoid deadlocks...\n",
      "To disable this warning, you can either:\n",
      "\t- Avoid using `tokenizers` before the fork if possible\n",
      "\t- Explicitly set the environment variable TOKENIZERS_PARALLELISM=(true | false)\n",
      "[codecarbon WARNING @ 17:00:30] No CPU tracking mode found. Falling back on CPU constant mode.\n",
      "huggingface/tokenizers: The current process just got forked, after parallelism has already been used. Disabling parallelism to avoid deadlocks...\n",
      "To disable this warning, you can either:\n",
      "\t- Avoid using `tokenizers` before the fork if possible\n",
      "\t- Explicitly set the environment variable TOKENIZERS_PARALLELISM=(true | false)\n",
      "[codecarbon WARNING @ 17:00:30] We saw that you have a Apple M2 but we don't know it. Please contact us.\n",
      "[codecarbon INFO @ 17:00:30] CPU Model on constant consumption mode: Apple M2\n",
      "[codecarbon INFO @ 17:00:30] >>> Tracker's metadata:\n",
      "[codecarbon INFO @ 17:00:30]   Platform system: macOS-15.1-arm64-arm-64bit\n",
      "[codecarbon INFO @ 17:00:30]   Python version: 3.12.3\n",
      "[codecarbon INFO @ 17:00:30]   CodeCarbon version: 2.3.5\n",
      "[codecarbon INFO @ 17:00:30]   Available RAM : 16.000 GB\n",
      "[codecarbon INFO @ 17:00:30]   CPU count: 8\n",
      "[codecarbon INFO @ 17:00:30]   CPU model: Apple M2\n",
      "[codecarbon INFO @ 17:00:30]   GPU count: None\n",
      "[codecarbon INFO @ 17:00:30]   GPU model: None\n"
     ]
    }
   ],
   "execution_count": 25
  },
  {
   "metadata": {
    "ExecuteTime": {
     "end_time": "2024-11-07T15:29:29.096280Z",
     "start_time": "2024-11-07T15:00:34.085763Z"
    }
   },
   "cell_type": "code",
   "source": "trainer.train()",
   "id": "ad1280c4cc2933ab",
   "outputs": [
    {
     "data": {
      "text/plain": [
       "<IPython.core.display.HTML object>"
      ],
      "text/html": [
       "\n",
       "    <div>\n",
       "      \n",
       "      <progress value='5250' max='19542' style='width:300px; height:20px; vertical-align: middle;'></progress>\n",
       "      [ 5250/19542 28:52 < 1:18:38, 3.03 it/s, Epoch 0.81/3]\n",
       "    </div>\n",
       "    <table border=\"1\" class=\"dataframe\">\n",
       "  <thead>\n",
       " <tr style=\"text-align: left;\">\n",
       "      <th>Epoch</th>\n",
       "      <th>Training Loss</th>\n",
       "      <th>Validation Loss</th>\n",
       "    </tr>\n",
       "  </thead>\n",
       "  <tbody>\n",
       "  </tbody>\n",
       "</table><p>"
      ]
     },
     "metadata": {},
     "output_type": "display_data"
    },
    {
     "name": "stderr",
     "output_type": "stream",
     "text": [
      "[codecarbon INFO @ 17:00:49] Energy consumed for RAM : 0.000025 kWh. RAM Power : 6.0 W\n",
      "[codecarbon INFO @ 17:00:49] Energy consumed for all CPUs : 0.000177 kWh. Total CPU Power : 42.5 W\n",
      "[codecarbon INFO @ 17:00:49] 0.000202 kWh of electricity used since the beginning.\n",
      "[codecarbon INFO @ 17:01:04] Energy consumed for RAM : 0.000050 kWh. RAM Power : 6.0 W\n",
      "[codecarbon INFO @ 17:01:04] Energy consumed for all CPUs : 0.000354 kWh. Total CPU Power : 42.5 W\n",
      "[codecarbon INFO @ 17:01:04] 0.000404 kWh of electricity used since the beginning.\n",
      "[codecarbon INFO @ 17:01:19] Energy consumed for RAM : 0.000075 kWh. RAM Power : 6.0 W\n",
      "[codecarbon INFO @ 17:01:19] Energy consumed for all CPUs : 0.000531 kWh. Total CPU Power : 42.5 W\n",
      "[codecarbon INFO @ 17:01:19] 0.000606 kWh of electricity used since the beginning.\n",
      "[codecarbon INFO @ 17:01:34] Energy consumed for RAM : 0.000100 kWh. RAM Power : 6.0 W\n",
      "[codecarbon INFO @ 17:01:34] Energy consumed for all CPUs : 0.000709 kWh. Total CPU Power : 42.5 W\n",
      "[codecarbon INFO @ 17:01:34] 0.000809 kWh of electricity used since the beginning.\n",
      "[codecarbon INFO @ 17:01:49] Energy consumed for RAM : 0.000125 kWh. RAM Power : 6.0 W\n",
      "[codecarbon INFO @ 17:01:49] Energy consumed for all CPUs : 0.000886 kWh. Total CPU Power : 42.5 W\n",
      "[codecarbon INFO @ 17:01:49] 0.001011 kWh of electricity used since the beginning.\n",
      "[codecarbon INFO @ 17:02:04] Energy consumed for RAM : 0.000150 kWh. RAM Power : 6.0 W\n",
      "[codecarbon INFO @ 17:02:04] Energy consumed for all CPUs : 0.001063 kWh. Total CPU Power : 42.5 W\n",
      "[codecarbon INFO @ 17:02:04] 0.001213 kWh of electricity used since the beginning.\n",
      "[codecarbon INFO @ 17:02:19] Energy consumed for RAM : 0.000175 kWh. RAM Power : 6.0 W\n",
      "[codecarbon INFO @ 17:02:19] Energy consumed for all CPUs : 0.001240 kWh. Total CPU Power : 42.5 W\n",
      "[codecarbon INFO @ 17:02:19] 0.001415 kWh of electricity used since the beginning.\n",
      "[codecarbon INFO @ 17:02:34] Energy consumed for RAM : 0.000200 kWh. RAM Power : 6.0 W\n",
      "[codecarbon INFO @ 17:02:34] Energy consumed for all CPUs : 0.001417 kWh. Total CPU Power : 42.5 W\n",
      "[codecarbon INFO @ 17:02:34] 0.001617 kWh of electricity used since the beginning.\n",
      "[codecarbon INFO @ 17:02:49] Energy consumed for RAM : 0.000225 kWh. RAM Power : 6.0 W\n",
      "[codecarbon INFO @ 17:02:49] Energy consumed for all CPUs : 0.001594 kWh. Total CPU Power : 42.5 W\n",
      "[codecarbon INFO @ 17:02:49] 0.001819 kWh of electricity used since the beginning.\n",
      "[codecarbon INFO @ 17:03:04] Energy consumed for RAM : 0.000250 kWh. RAM Power : 6.0 W\n",
      "[codecarbon INFO @ 17:03:04] Energy consumed for all CPUs : 0.001771 kWh. Total CPU Power : 42.5 W\n",
      "[codecarbon INFO @ 17:03:04] 0.002021 kWh of electricity used since the beginning.\n",
      "[codecarbon INFO @ 17:03:19] Energy consumed for RAM : 0.000275 kWh. RAM Power : 6.0 W\n",
      "[codecarbon INFO @ 17:03:19] Energy consumed for all CPUs : 0.001948 kWh. Total CPU Power : 42.5 W\n",
      "[codecarbon INFO @ 17:03:19] 0.002223 kWh of electricity used since the beginning.\n",
      "[codecarbon INFO @ 17:03:34] Energy consumed for RAM : 0.000300 kWh. RAM Power : 6.0 W\n",
      "[codecarbon INFO @ 17:03:34] Energy consumed for all CPUs : 0.002126 kWh. Total CPU Power : 42.5 W\n",
      "[codecarbon INFO @ 17:03:34] 0.002426 kWh of electricity used since the beginning.\n",
      "[codecarbon INFO @ 17:03:49] Energy consumed for RAM : 0.000325 kWh. RAM Power : 6.0 W\n",
      "[codecarbon INFO @ 17:03:49] Energy consumed for all CPUs : 0.002303 kWh. Total CPU Power : 42.5 W\n",
      "[codecarbon INFO @ 17:03:49] 0.002628 kWh of electricity used since the beginning.\n",
      "[codecarbon INFO @ 17:04:04] Energy consumed for RAM : 0.000350 kWh. RAM Power : 6.0 W\n",
      "[codecarbon INFO @ 17:04:04] Energy consumed for all CPUs : 0.002480 kWh. Total CPU Power : 42.5 W\n",
      "[codecarbon INFO @ 17:04:04] 0.002830 kWh of electricity used since the beginning.\n",
      "[codecarbon INFO @ 17:04:19] Energy consumed for RAM : 0.000375 kWh. RAM Power : 6.0 W\n",
      "[codecarbon INFO @ 17:04:19] Energy consumed for all CPUs : 0.002657 kWh. Total CPU Power : 42.5 W\n",
      "[codecarbon INFO @ 17:04:19] 0.003032 kWh of electricity used since the beginning.\n",
      "[codecarbon INFO @ 17:04:34] Energy consumed for RAM : 0.000400 kWh. RAM Power : 6.0 W\n",
      "[codecarbon INFO @ 17:04:34] Energy consumed for all CPUs : 0.002834 kWh. Total CPU Power : 42.5 W\n",
      "[codecarbon INFO @ 17:04:34] 0.003234 kWh of electricity used since the beginning.\n",
      "[codecarbon INFO @ 17:04:49] Energy consumed for RAM : 0.000425 kWh. RAM Power : 6.0 W\n",
      "[codecarbon INFO @ 17:04:49] Energy consumed for all CPUs : 0.003011 kWh. Total CPU Power : 42.5 W\n",
      "[codecarbon INFO @ 17:04:49] 0.003436 kWh of electricity used since the beginning.\n",
      "[codecarbon INFO @ 17:05:04] Energy consumed for RAM : 0.000450 kWh. RAM Power : 6.0 W\n",
      "[codecarbon INFO @ 17:05:04] Energy consumed for all CPUs : 0.003188 kWh. Total CPU Power : 42.5 W\n",
      "[codecarbon INFO @ 17:05:04] 0.003638 kWh of electricity used since the beginning.\n",
      "[codecarbon INFO @ 17:05:19] Energy consumed for RAM : 0.000475 kWh. RAM Power : 6.0 W\n",
      "[codecarbon INFO @ 17:05:19] Energy consumed for all CPUs : 0.003365 kWh. Total CPU Power : 42.5 W\n",
      "[codecarbon INFO @ 17:05:19] 0.003840 kWh of electricity used since the beginning.\n",
      "[codecarbon INFO @ 17:05:34] Energy consumed for RAM : 0.000500 kWh. RAM Power : 6.0 W\n",
      "[codecarbon INFO @ 17:05:34] Energy consumed for all CPUs : 0.003542 kWh. Total CPU Power : 42.5 W\n",
      "[codecarbon INFO @ 17:05:34] 0.004043 kWh of electricity used since the beginning.\n",
      "[codecarbon INFO @ 17:05:49] Energy consumed for RAM : 0.000525 kWh. RAM Power : 6.0 W\n",
      "[codecarbon INFO @ 17:05:49] Energy consumed for all CPUs : 0.003720 kWh. Total CPU Power : 42.5 W\n",
      "[codecarbon INFO @ 17:05:49] 0.004245 kWh of electricity used since the beginning.\n",
      "[codecarbon INFO @ 17:06:04] Energy consumed for RAM : 0.000550 kWh. RAM Power : 6.0 W\n",
      "[codecarbon INFO @ 17:06:04] Energy consumed for all CPUs : 0.003897 kWh. Total CPU Power : 42.5 W\n",
      "[codecarbon INFO @ 17:06:04] 0.004447 kWh of electricity used since the beginning.\n",
      "[codecarbon INFO @ 17:06:19] Energy consumed for RAM : 0.000575 kWh. RAM Power : 6.0 W\n",
      "[codecarbon INFO @ 17:06:19] Energy consumed for all CPUs : 0.004074 kWh. Total CPU Power : 42.5 W\n",
      "[codecarbon INFO @ 17:06:19] 0.004649 kWh of electricity used since the beginning.\n",
      "[codecarbon INFO @ 17:06:34] Energy consumed for RAM : 0.000600 kWh. RAM Power : 6.0 W\n",
      "[codecarbon INFO @ 17:06:34] Energy consumed for all CPUs : 0.004251 kWh. Total CPU Power : 42.5 W\n",
      "[codecarbon INFO @ 17:06:34] 0.004851 kWh of electricity used since the beginning.\n",
      "[codecarbon INFO @ 17:06:49] Energy consumed for RAM : 0.000625 kWh. RAM Power : 6.0 W\n",
      "[codecarbon INFO @ 17:06:49] Energy consumed for all CPUs : 0.004428 kWh. Total CPU Power : 42.5 W\n",
      "[codecarbon INFO @ 17:06:49] 0.005053 kWh of electricity used since the beginning.\n",
      "[codecarbon INFO @ 17:07:04] Energy consumed for RAM : 0.000650 kWh. RAM Power : 6.0 W\n",
      "[codecarbon INFO @ 17:07:04] Energy consumed for all CPUs : 0.004605 kWh. Total CPU Power : 42.5 W\n",
      "[codecarbon INFO @ 17:07:04] 0.005255 kWh of electricity used since the beginning.\n",
      "[codecarbon INFO @ 17:07:19] Energy consumed for RAM : 0.000675 kWh. RAM Power : 6.0 W\n",
      "[codecarbon INFO @ 17:07:19] Energy consumed for all CPUs : 0.004782 kWh. Total CPU Power : 42.5 W\n",
      "[codecarbon INFO @ 17:07:19] 0.005457 kWh of electricity used since the beginning.\n",
      "[codecarbon INFO @ 17:07:34] Energy consumed for RAM : 0.000700 kWh. RAM Power : 6.0 W\n",
      "[codecarbon INFO @ 17:07:34] Energy consumed for all CPUs : 0.004959 kWh. Total CPU Power : 42.5 W\n",
      "[codecarbon INFO @ 17:07:34] 0.005660 kWh of electricity used since the beginning.\n",
      "[codecarbon INFO @ 17:07:49] Energy consumed for RAM : 0.000725 kWh. RAM Power : 6.0 W\n",
      "[codecarbon INFO @ 17:07:49] Energy consumed for all CPUs : 0.005137 kWh. Total CPU Power : 42.5 W\n",
      "[codecarbon INFO @ 17:07:49] 0.005862 kWh of electricity used since the beginning.\n",
      "[codecarbon INFO @ 17:08:04] Energy consumed for RAM : 0.000750 kWh. RAM Power : 6.0 W\n",
      "[codecarbon INFO @ 17:08:04] Energy consumed for all CPUs : 0.005314 kWh. Total CPU Power : 42.5 W\n",
      "[codecarbon INFO @ 17:08:04] 0.006064 kWh of electricity used since the beginning.\n",
      "[codecarbon INFO @ 17:08:19] Energy consumed for RAM : 0.000775 kWh. RAM Power : 6.0 W\n",
      "[codecarbon INFO @ 17:08:19] Energy consumed for all CPUs : 0.005491 kWh. Total CPU Power : 42.5 W\n",
      "[codecarbon INFO @ 17:08:19] 0.006266 kWh of electricity used since the beginning.\n",
      "[codecarbon INFO @ 17:08:34] Energy consumed for RAM : 0.000800 kWh. RAM Power : 6.0 W\n",
      "[codecarbon INFO @ 17:08:34] Energy consumed for all CPUs : 0.005668 kWh. Total CPU Power : 42.5 W\n",
      "[codecarbon INFO @ 17:08:34] 0.006468 kWh of electricity used since the beginning.\n",
      "[codecarbon INFO @ 17:08:49] Energy consumed for RAM : 0.000825 kWh. RAM Power : 6.0 W\n",
      "[codecarbon INFO @ 17:08:49] Energy consumed for all CPUs : 0.005845 kWh. Total CPU Power : 42.5 W\n",
      "[codecarbon INFO @ 17:08:49] 0.006670 kWh of electricity used since the beginning.\n",
      "[codecarbon INFO @ 17:09:04] Energy consumed for RAM : 0.000850 kWh. RAM Power : 6.0 W\n",
      "[codecarbon INFO @ 17:09:04] Energy consumed for all CPUs : 0.006022 kWh. Total CPU Power : 42.5 W\n",
      "[codecarbon INFO @ 17:09:04] 0.006872 kWh of electricity used since the beginning.\n",
      "[codecarbon INFO @ 17:09:19] Energy consumed for RAM : 0.000875 kWh. RAM Power : 6.0 W\n",
      "[codecarbon INFO @ 17:09:19] Energy consumed for all CPUs : 0.006199 kWh. Total CPU Power : 42.5 W\n",
      "[codecarbon INFO @ 17:09:19] 0.007074 kWh of electricity used since the beginning.\n",
      "[codecarbon INFO @ 17:09:34] Energy consumed for RAM : 0.000900 kWh. RAM Power : 6.0 W\n",
      "[codecarbon INFO @ 17:09:34] Energy consumed for all CPUs : 0.006376 kWh. Total CPU Power : 42.5 W\n",
      "[codecarbon INFO @ 17:09:34] 0.007277 kWh of electricity used since the beginning.\n",
      "[codecarbon INFO @ 17:09:49] Energy consumed for RAM : 0.000925 kWh. RAM Power : 6.0 W\n",
      "[codecarbon INFO @ 17:09:49] Energy consumed for all CPUs : 0.006554 kWh. Total CPU Power : 42.5 W\n",
      "[codecarbon INFO @ 17:09:49] 0.007479 kWh of electricity used since the beginning.\n",
      "[codecarbon INFO @ 17:10:04] Energy consumed for RAM : 0.000950 kWh. RAM Power : 6.0 W\n",
      "[codecarbon INFO @ 17:10:04] Energy consumed for all CPUs : 0.006731 kWh. Total CPU Power : 42.5 W\n",
      "[codecarbon INFO @ 17:10:04] 0.007681 kWh of electricity used since the beginning.\n",
      "[codecarbon INFO @ 17:10:19] Energy consumed for RAM : 0.000975 kWh. RAM Power : 6.0 W\n",
      "[codecarbon INFO @ 17:10:19] Energy consumed for all CPUs : 0.006908 kWh. Total CPU Power : 42.5 W\n",
      "[codecarbon INFO @ 17:10:19] 0.007883 kWh of electricity used since the beginning.\n",
      "[codecarbon INFO @ 17:10:34] Energy consumed for RAM : 0.001000 kWh. RAM Power : 6.0 W\n",
      "[codecarbon INFO @ 17:10:34] Energy consumed for all CPUs : 0.007085 kWh. Total CPU Power : 42.5 W\n",
      "[codecarbon INFO @ 17:10:34] 0.008085 kWh of electricity used since the beginning.\n",
      "[codecarbon INFO @ 17:10:49] Energy consumed for RAM : 0.001025 kWh. RAM Power : 6.0 W\n",
      "[codecarbon INFO @ 17:10:49] Energy consumed for all CPUs : 0.007262 kWh. Total CPU Power : 42.5 W\n",
      "[codecarbon INFO @ 17:10:49] 0.008287 kWh of electricity used since the beginning.\n",
      "[codecarbon INFO @ 17:11:04] Energy consumed for RAM : 0.001050 kWh. RAM Power : 6.0 W\n",
      "[codecarbon INFO @ 17:11:04] Energy consumed for all CPUs : 0.007439 kWh. Total CPU Power : 42.5 W\n",
      "[codecarbon INFO @ 17:11:04] 0.008489 kWh of electricity used since the beginning.\n",
      "[codecarbon INFO @ 17:11:19] Energy consumed for RAM : 0.001075 kWh. RAM Power : 6.0 W\n",
      "[codecarbon INFO @ 17:11:19] Energy consumed for all CPUs : 0.007616 kWh. Total CPU Power : 42.5 W\n",
      "[codecarbon INFO @ 17:11:19] 0.008692 kWh of electricity used since the beginning.\n",
      "[codecarbon INFO @ 17:11:34] Energy consumed for RAM : 0.001100 kWh. RAM Power : 6.0 W\n",
      "[codecarbon INFO @ 17:11:34] Energy consumed for all CPUs : 0.007793 kWh. Total CPU Power : 42.5 W\n",
      "[codecarbon INFO @ 17:11:34] 0.008894 kWh of electricity used since the beginning.\n",
      "[codecarbon INFO @ 17:11:49] Energy consumed for RAM : 0.001125 kWh. RAM Power : 6.0 W\n",
      "[codecarbon INFO @ 17:11:49] Energy consumed for all CPUs : 0.007971 kWh. Total CPU Power : 42.5 W\n",
      "[codecarbon INFO @ 17:11:49] 0.009096 kWh of electricity used since the beginning.\n",
      "[codecarbon INFO @ 17:12:04] Energy consumed for RAM : 0.001150 kWh. RAM Power : 6.0 W\n",
      "[codecarbon INFO @ 17:12:04] Energy consumed for all CPUs : 0.008148 kWh. Total CPU Power : 42.5 W\n",
      "[codecarbon INFO @ 17:12:04] 0.009298 kWh of electricity used since the beginning.\n",
      "[codecarbon INFO @ 17:12:19] Energy consumed for RAM : 0.001175 kWh. RAM Power : 6.0 W\n",
      "[codecarbon INFO @ 17:12:19] Energy consumed for all CPUs : 0.008325 kWh. Total CPU Power : 42.5 W\n",
      "[codecarbon INFO @ 17:12:19] 0.009500 kWh of electricity used since the beginning.\n",
      "[codecarbon INFO @ 17:12:34] Energy consumed for RAM : 0.001200 kWh. RAM Power : 6.0 W\n",
      "[codecarbon INFO @ 17:12:34] Energy consumed for all CPUs : 0.008502 kWh. Total CPU Power : 42.5 W\n",
      "[codecarbon INFO @ 17:12:34] 0.009702 kWh of electricity used since the beginning.\n",
      "[codecarbon INFO @ 17:12:49] Energy consumed for RAM : 0.001225 kWh. RAM Power : 6.0 W\n",
      "[codecarbon INFO @ 17:12:49] Energy consumed for all CPUs : 0.008679 kWh. Total CPU Power : 42.5 W\n",
      "[codecarbon INFO @ 17:12:49] 0.009904 kWh of electricity used since the beginning.\n",
      "[codecarbon INFO @ 17:13:04] Energy consumed for RAM : 0.001250 kWh. RAM Power : 6.0 W\n",
      "[codecarbon INFO @ 17:13:04] Energy consumed for all CPUs : 0.008856 kWh. Total CPU Power : 42.5 W\n",
      "[codecarbon INFO @ 17:13:04] 0.010106 kWh of electricity used since the beginning.\n",
      "[codecarbon INFO @ 17:13:19] Energy consumed for RAM : 0.001275 kWh. RAM Power : 6.0 W\n",
      "[codecarbon INFO @ 17:13:19] Energy consumed for all CPUs : 0.009033 kWh. Total CPU Power : 42.5 W\n",
      "[codecarbon INFO @ 17:13:19] 0.010309 kWh of electricity used since the beginning.\n",
      "[codecarbon INFO @ 17:13:34] Energy consumed for RAM : 0.001300 kWh. RAM Power : 6.0 W\n",
      "[codecarbon INFO @ 17:13:34] Energy consumed for all CPUs : 0.009211 kWh. Total CPU Power : 42.5 W\n",
      "[codecarbon INFO @ 17:13:34] 0.010511 kWh of electricity used since the beginning.\n",
      "[codecarbon INFO @ 17:13:49] Energy consumed for RAM : 0.001325 kWh. RAM Power : 6.0 W\n",
      "[codecarbon INFO @ 17:13:49] Energy consumed for all CPUs : 0.009388 kWh. Total CPU Power : 42.5 W\n",
      "[codecarbon INFO @ 17:13:49] 0.010713 kWh of electricity used since the beginning.\n",
      "[codecarbon INFO @ 17:14:04] Energy consumed for RAM : 0.001350 kWh. RAM Power : 6.0 W\n",
      "[codecarbon INFO @ 17:14:04] Energy consumed for all CPUs : 0.009565 kWh. Total CPU Power : 42.5 W\n",
      "[codecarbon INFO @ 17:14:04] 0.010915 kWh of electricity used since the beginning.\n",
      "[codecarbon INFO @ 17:14:19] Energy consumed for RAM : 0.001375 kWh. RAM Power : 6.0 W\n",
      "[codecarbon INFO @ 17:14:19] Energy consumed for all CPUs : 0.009742 kWh. Total CPU Power : 42.5 W\n",
      "[codecarbon INFO @ 17:14:19] 0.011117 kWh of electricity used since the beginning.\n",
      "[codecarbon INFO @ 17:14:34] Energy consumed for RAM : 0.001400 kWh. RAM Power : 6.0 W\n",
      "[codecarbon INFO @ 17:14:34] Energy consumed for all CPUs : 0.009919 kWh. Total CPU Power : 42.5 W\n",
      "[codecarbon INFO @ 17:14:34] 0.011319 kWh of electricity used since the beginning.\n",
      "[codecarbon INFO @ 17:14:49] Energy consumed for RAM : 0.001425 kWh. RAM Power : 6.0 W\n",
      "[codecarbon INFO @ 17:14:49] Energy consumed for all CPUs : 0.010096 kWh. Total CPU Power : 42.5 W\n",
      "[codecarbon INFO @ 17:14:49] 0.011522 kWh of electricity used since the beginning.\n",
      "[codecarbon INFO @ 17:15:04] Energy consumed for RAM : 0.001450 kWh. RAM Power : 6.0 W\n",
      "[codecarbon INFO @ 17:15:04] Energy consumed for all CPUs : 0.010273 kWh. Total CPU Power : 42.5 W\n",
      "[codecarbon INFO @ 17:15:04] 0.011724 kWh of electricity used since the beginning.\n",
      "[codecarbon INFO @ 17:15:19] Energy consumed for RAM : 0.001475 kWh. RAM Power : 6.0 W\n",
      "[codecarbon INFO @ 17:15:19] Energy consumed for all CPUs : 0.010450 kWh. Total CPU Power : 42.5 W\n",
      "[codecarbon INFO @ 17:15:19] 0.011926 kWh of electricity used since the beginning.\n",
      "[codecarbon INFO @ 17:15:34] Energy consumed for RAM : 0.001500 kWh. RAM Power : 6.0 W\n",
      "[codecarbon INFO @ 17:15:34] Energy consumed for all CPUs : 0.010628 kWh. Total CPU Power : 42.5 W\n",
      "[codecarbon INFO @ 17:15:34] 0.012128 kWh of electricity used since the beginning.\n",
      "[codecarbon INFO @ 17:15:49] Energy consumed for RAM : 0.001525 kWh. RAM Power : 6.0 W\n",
      "[codecarbon INFO @ 17:15:49] Energy consumed for all CPUs : 0.010805 kWh. Total CPU Power : 42.5 W\n",
      "[codecarbon INFO @ 17:15:49] 0.012330 kWh of electricity used since the beginning.\n",
      "[codecarbon INFO @ 17:16:04] Energy consumed for RAM : 0.001550 kWh. RAM Power : 6.0 W\n",
      "[codecarbon INFO @ 17:16:04] Energy consumed for all CPUs : 0.010982 kWh. Total CPU Power : 42.5 W\n",
      "[codecarbon INFO @ 17:16:04] 0.012532 kWh of electricity used since the beginning.\n",
      "[codecarbon INFO @ 17:16:19] Energy consumed for RAM : 0.001575 kWh. RAM Power : 6.0 W\n",
      "[codecarbon INFO @ 17:16:19] Energy consumed for all CPUs : 0.011159 kWh. Total CPU Power : 42.5 W\n",
      "[codecarbon INFO @ 17:16:19] 0.012734 kWh of electricity used since the beginning.\n",
      "[codecarbon INFO @ 17:16:34] Energy consumed for RAM : 0.001600 kWh. RAM Power : 6.0 W\n",
      "[codecarbon INFO @ 17:16:34] Energy consumed for all CPUs : 0.011336 kWh. Total CPU Power : 42.5 W\n",
      "[codecarbon INFO @ 17:16:34] 0.012937 kWh of electricity used since the beginning.\n",
      "[codecarbon INFO @ 17:16:49] Energy consumed for RAM : 0.001625 kWh. RAM Power : 6.0 W\n",
      "[codecarbon INFO @ 17:16:49] Energy consumed for all CPUs : 0.011513 kWh. Total CPU Power : 42.5 W\n",
      "[codecarbon INFO @ 17:16:49] 0.013139 kWh of electricity used since the beginning.\n",
      "[codecarbon INFO @ 17:17:04] Energy consumed for RAM : 0.001650 kWh. RAM Power : 6.0 W\n",
      "[codecarbon INFO @ 17:17:04] Energy consumed for all CPUs : 0.011691 kWh. Total CPU Power : 42.5 W\n",
      "[codecarbon INFO @ 17:17:04] 0.013341 kWh of electricity used since the beginning.\n",
      "[codecarbon INFO @ 17:17:19] Energy consumed for RAM : 0.001675 kWh. RAM Power : 6.0 W\n",
      "[codecarbon INFO @ 17:17:19] Energy consumed for all CPUs : 0.011868 kWh. Total CPU Power : 42.5 W\n",
      "[codecarbon INFO @ 17:17:19] 0.013543 kWh of electricity used since the beginning.\n",
      "[codecarbon INFO @ 17:17:34] Energy consumed for RAM : 0.001700 kWh. RAM Power : 6.0 W\n",
      "[codecarbon INFO @ 17:17:34] Energy consumed for all CPUs : 0.012045 kWh. Total CPU Power : 42.5 W\n",
      "[codecarbon INFO @ 17:17:34] 0.013745 kWh of electricity used since the beginning.\n",
      "[codecarbon INFO @ 17:17:49] Energy consumed for RAM : 0.001725 kWh. RAM Power : 6.0 W\n",
      "[codecarbon INFO @ 17:17:49] Energy consumed for all CPUs : 0.012222 kWh. Total CPU Power : 42.5 W\n",
      "[codecarbon INFO @ 17:17:49] 0.013948 kWh of electricity used since the beginning.\n",
      "[codecarbon INFO @ 17:18:04] Energy consumed for RAM : 0.001750 kWh. RAM Power : 6.0 W\n",
      "[codecarbon INFO @ 17:18:04] Energy consumed for all CPUs : 0.012399 kWh. Total CPU Power : 42.5 W\n",
      "[codecarbon INFO @ 17:18:04] 0.014150 kWh of electricity used since the beginning.\n",
      "[codecarbon INFO @ 17:18:19] Energy consumed for RAM : 0.001775 kWh. RAM Power : 6.0 W\n",
      "[codecarbon INFO @ 17:18:19] Energy consumed for all CPUs : 0.012577 kWh. Total CPU Power : 42.5 W\n",
      "[codecarbon INFO @ 17:18:19] 0.014352 kWh of electricity used since the beginning.\n",
      "[codecarbon INFO @ 17:18:34] Energy consumed for RAM : 0.001800 kWh. RAM Power : 6.0 W\n",
      "[codecarbon INFO @ 17:18:34] Energy consumed for all CPUs : 0.012754 kWh. Total CPU Power : 42.5 W\n",
      "[codecarbon INFO @ 17:18:34] 0.014554 kWh of electricity used since the beginning.\n",
      "[codecarbon INFO @ 17:18:49] Energy consumed for RAM : 0.001825 kWh. RAM Power : 6.0 W\n",
      "[codecarbon INFO @ 17:18:49] Energy consumed for all CPUs : 0.012931 kWh. Total CPU Power : 42.5 W\n",
      "[codecarbon INFO @ 17:18:49] 0.014756 kWh of electricity used since the beginning.\n",
      "[codecarbon INFO @ 17:19:04] Energy consumed for RAM : 0.001850 kWh. RAM Power : 6.0 W\n",
      "[codecarbon INFO @ 17:19:04] Energy consumed for all CPUs : 0.013108 kWh. Total CPU Power : 42.5 W\n",
      "[codecarbon INFO @ 17:19:04] 0.014958 kWh of electricity used since the beginning.\n",
      "[codecarbon INFO @ 17:19:19] Energy consumed for RAM : 0.001875 kWh. RAM Power : 6.0 W\n",
      "[codecarbon INFO @ 17:19:19] Energy consumed for all CPUs : 0.013285 kWh. Total CPU Power : 42.5 W\n",
      "[codecarbon INFO @ 17:19:19] 0.015160 kWh of electricity used since the beginning.\n",
      "[codecarbon INFO @ 17:19:34] Energy consumed for RAM : 0.001900 kWh. RAM Power : 6.0 W\n",
      "[codecarbon INFO @ 17:19:34] Energy consumed for all CPUs : 0.013462 kWh. Total CPU Power : 42.5 W\n",
      "[codecarbon INFO @ 17:19:34] 0.015363 kWh of electricity used since the beginning.\n",
      "[codecarbon INFO @ 17:19:49] Energy consumed for RAM : 0.001925 kWh. RAM Power : 6.0 W\n",
      "[codecarbon INFO @ 17:19:49] Energy consumed for all CPUs : 0.013639 kWh. Total CPU Power : 42.5 W\n",
      "[codecarbon INFO @ 17:19:49] 0.015565 kWh of electricity used since the beginning.\n",
      "[codecarbon INFO @ 17:20:04] Energy consumed for RAM : 0.001950 kWh. RAM Power : 6.0 W\n",
      "[codecarbon INFO @ 17:20:04] Energy consumed for all CPUs : 0.013816 kWh. Total CPU Power : 42.5 W\n",
      "[codecarbon INFO @ 17:20:04] 0.015767 kWh of electricity used since the beginning.\n",
      "[codecarbon INFO @ 17:20:19] Energy consumed for RAM : 0.001975 kWh. RAM Power : 6.0 W\n",
      "[codecarbon INFO @ 17:20:19] Energy consumed for all CPUs : 0.013994 kWh. Total CPU Power : 42.5 W\n",
      "[codecarbon INFO @ 17:20:19] 0.015969 kWh of electricity used since the beginning.\n",
      "[codecarbon INFO @ 17:20:34] Energy consumed for RAM : 0.002000 kWh. RAM Power : 6.0 W\n",
      "[codecarbon INFO @ 17:20:34] Energy consumed for all CPUs : 0.014171 kWh. Total CPU Power : 42.5 W\n",
      "[codecarbon INFO @ 17:20:34] 0.016171 kWh of electricity used since the beginning.\n",
      "[codecarbon INFO @ 17:20:49] Energy consumed for RAM : 0.002025 kWh. RAM Power : 6.0 W\n",
      "[codecarbon INFO @ 17:20:49] Energy consumed for all CPUs : 0.014348 kWh. Total CPU Power : 42.5 W\n",
      "[codecarbon INFO @ 17:20:49] 0.016373 kWh of electricity used since the beginning.\n",
      "[codecarbon INFO @ 17:21:04] Energy consumed for RAM : 0.002050 kWh. RAM Power : 6.0 W\n",
      "[codecarbon INFO @ 17:21:04] Energy consumed for all CPUs : 0.014525 kWh. Total CPU Power : 42.5 W\n",
      "[codecarbon INFO @ 17:21:04] 0.016575 kWh of electricity used since the beginning.\n",
      "[codecarbon INFO @ 17:21:19] Energy consumed for RAM : 0.002075 kWh. RAM Power : 6.0 W\n",
      "[codecarbon INFO @ 17:21:19] Energy consumed for all CPUs : 0.014702 kWh. Total CPU Power : 42.5 W\n",
      "[codecarbon INFO @ 17:21:19] 0.016777 kWh of electricity used since the beginning.\n",
      "[codecarbon INFO @ 17:21:34] Energy consumed for RAM : 0.002100 kWh. RAM Power : 6.0 W\n",
      "[codecarbon INFO @ 17:21:34] Energy consumed for all CPUs : 0.014879 kWh. Total CPU Power : 42.5 W\n",
      "[codecarbon INFO @ 17:21:34] 0.016980 kWh of electricity used since the beginning.\n",
      "[codecarbon INFO @ 17:21:49] Energy consumed for RAM : 0.002125 kWh. RAM Power : 6.0 W\n",
      "[codecarbon INFO @ 17:21:49] Energy consumed for all CPUs : 0.015056 kWh. Total CPU Power : 42.5 W\n",
      "[codecarbon INFO @ 17:21:49] 0.017182 kWh of electricity used since the beginning.\n",
      "[codecarbon INFO @ 17:22:04] Energy consumed for RAM : 0.002150 kWh. RAM Power : 6.0 W\n",
      "[codecarbon INFO @ 17:22:04] Energy consumed for all CPUs : 0.015233 kWh. Total CPU Power : 42.5 W\n",
      "[codecarbon INFO @ 17:22:04] 0.017384 kWh of electricity used since the beginning.\n",
      "[codecarbon INFO @ 17:22:19] Energy consumed for RAM : 0.002175 kWh. RAM Power : 6.0 W\n",
      "[codecarbon INFO @ 17:22:19] Energy consumed for all CPUs : 0.015411 kWh. Total CPU Power : 42.5 W\n",
      "[codecarbon INFO @ 17:22:19] 0.017586 kWh of electricity used since the beginning.\n",
      "[codecarbon INFO @ 17:22:34] Energy consumed for RAM : 0.002200 kWh. RAM Power : 6.0 W\n",
      "[codecarbon INFO @ 17:22:34] Energy consumed for all CPUs : 0.015588 kWh. Total CPU Power : 42.5 W\n",
      "[codecarbon INFO @ 17:22:34] 0.017788 kWh of electricity used since the beginning.\n",
      "[codecarbon INFO @ 17:22:49] Energy consumed for RAM : 0.002225 kWh. RAM Power : 6.0 W\n",
      "[codecarbon INFO @ 17:22:49] Energy consumed for all CPUs : 0.015765 kWh. Total CPU Power : 42.5 W\n",
      "[codecarbon INFO @ 17:22:49] 0.017990 kWh of electricity used since the beginning.\n",
      "[codecarbon INFO @ 17:23:04] Energy consumed for RAM : 0.002250 kWh. RAM Power : 6.0 W\n",
      "[codecarbon INFO @ 17:23:04] Energy consumed for all CPUs : 0.015942 kWh. Total CPU Power : 42.5 W\n",
      "[codecarbon INFO @ 17:23:04] 0.018192 kWh of electricity used since the beginning.\n",
      "[codecarbon INFO @ 17:23:19] Energy consumed for RAM : 0.002275 kWh. RAM Power : 6.0 W\n",
      "[codecarbon INFO @ 17:23:19] Energy consumed for all CPUs : 0.016119 kWh. Total CPU Power : 42.5 W\n",
      "[codecarbon INFO @ 17:23:19] 0.018395 kWh of electricity used since the beginning.\n",
      "[codecarbon INFO @ 17:23:34] Energy consumed for RAM : 0.002301 kWh. RAM Power : 6.0 W\n",
      "[codecarbon INFO @ 17:23:34] Energy consumed for all CPUs : 0.016296 kWh. Total CPU Power : 42.5 W\n",
      "[codecarbon INFO @ 17:23:34] 0.018597 kWh of electricity used since the beginning.\n",
      "[codecarbon INFO @ 17:23:49] Energy consumed for RAM : 0.002326 kWh. RAM Power : 6.0 W\n",
      "[codecarbon INFO @ 17:23:49] Energy consumed for all CPUs : 0.016473 kWh. Total CPU Power : 42.5 W\n",
      "[codecarbon INFO @ 17:23:49] 0.018799 kWh of electricity used since the beginning.\n",
      "[codecarbon INFO @ 17:24:04] Energy consumed for RAM : 0.002351 kWh. RAM Power : 6.0 W\n",
      "[codecarbon INFO @ 17:24:04] Energy consumed for all CPUs : 0.016650 kWh. Total CPU Power : 42.5 W\n",
      "[codecarbon INFO @ 17:24:04] 0.019001 kWh of electricity used since the beginning.\n",
      "[codecarbon INFO @ 17:24:19] Energy consumed for RAM : 0.002376 kWh. RAM Power : 6.0 W\n",
      "[codecarbon INFO @ 17:24:19] Energy consumed for all CPUs : 0.016828 kWh. Total CPU Power : 42.5 W\n",
      "[codecarbon INFO @ 17:24:19] 0.019203 kWh of electricity used since the beginning.\n",
      "[codecarbon INFO @ 17:24:34] Energy consumed for RAM : 0.002401 kWh. RAM Power : 6.0 W\n",
      "[codecarbon INFO @ 17:24:34] Energy consumed for all CPUs : 0.017005 kWh. Total CPU Power : 42.5 W\n",
      "[codecarbon INFO @ 17:24:34] 0.019405 kWh of electricity used since the beginning.\n",
      "[codecarbon INFO @ 17:24:49] Energy consumed for RAM : 0.002426 kWh. RAM Power : 6.0 W\n",
      "[codecarbon INFO @ 17:24:49] Energy consumed for all CPUs : 0.017182 kWh. Total CPU Power : 42.5 W\n",
      "[codecarbon INFO @ 17:24:49] 0.019607 kWh of electricity used since the beginning.\n",
      "[codecarbon INFO @ 17:25:04] Energy consumed for RAM : 0.002451 kWh. RAM Power : 6.0 W\n",
      "[codecarbon INFO @ 17:25:04] Energy consumed for all CPUs : 0.017359 kWh. Total CPU Power : 42.5 W\n",
      "[codecarbon INFO @ 17:25:04] 0.019809 kWh of electricity used since the beginning.\n",
      "[codecarbon INFO @ 17:25:19] Energy consumed for RAM : 0.002476 kWh. RAM Power : 6.0 W\n",
      "[codecarbon INFO @ 17:25:19] Energy consumed for all CPUs : 0.017536 kWh. Total CPU Power : 42.5 W\n",
      "[codecarbon INFO @ 17:25:19] 0.020012 kWh of electricity used since the beginning.\n",
      "[codecarbon INFO @ 17:25:34] Energy consumed for RAM : 0.002501 kWh. RAM Power : 6.0 W\n",
      "[codecarbon INFO @ 17:25:34] Energy consumed for all CPUs : 0.017713 kWh. Total CPU Power : 42.5 W\n",
      "[codecarbon INFO @ 17:25:34] 0.020214 kWh of electricity used since the beginning.\n",
      "[codecarbon INFO @ 17:25:49] Energy consumed for RAM : 0.002526 kWh. RAM Power : 6.0 W\n",
      "[codecarbon INFO @ 17:25:49] Energy consumed for all CPUs : 0.017891 kWh. Total CPU Power : 42.5 W\n",
      "[codecarbon INFO @ 17:25:49] 0.020416 kWh of electricity used since the beginning.\n",
      "[codecarbon INFO @ 17:26:04] Energy consumed for RAM : 0.002551 kWh. RAM Power : 6.0 W\n",
      "[codecarbon INFO @ 17:26:04] Energy consumed for all CPUs : 0.018068 kWh. Total CPU Power : 42.5 W\n",
      "[codecarbon INFO @ 17:26:04] 0.020619 kWh of electricity used since the beginning.\n",
      "[codecarbon INFO @ 17:26:19] Energy consumed for RAM : 0.002576 kWh. RAM Power : 6.0 W\n",
      "[codecarbon INFO @ 17:26:19] Energy consumed for all CPUs : 0.018245 kWh. Total CPU Power : 42.5 W\n",
      "[codecarbon INFO @ 17:26:19] 0.020821 kWh of electricity used since the beginning.\n",
      "[codecarbon INFO @ 17:26:34] Energy consumed for RAM : 0.002601 kWh. RAM Power : 6.0 W\n",
      "[codecarbon INFO @ 17:26:34] Energy consumed for all CPUs : 0.018422 kWh. Total CPU Power : 42.5 W\n",
      "[codecarbon INFO @ 17:26:34] 0.021023 kWh of electricity used since the beginning.\n",
      "[codecarbon INFO @ 17:26:49] Energy consumed for RAM : 0.002626 kWh. RAM Power : 6.0 W\n",
      "[codecarbon INFO @ 17:26:49] Energy consumed for all CPUs : 0.018599 kWh. Total CPU Power : 42.5 W\n",
      "[codecarbon INFO @ 17:26:49] 0.021225 kWh of electricity used since the beginning.\n",
      "[codecarbon INFO @ 17:27:04] Energy consumed for RAM : 0.002651 kWh. RAM Power : 6.0 W\n",
      "[codecarbon INFO @ 17:27:04] Energy consumed for all CPUs : 0.018777 kWh. Total CPU Power : 42.5 W\n",
      "[codecarbon INFO @ 17:27:04] 0.021427 kWh of electricity used since the beginning.\n",
      "[codecarbon INFO @ 17:27:19] Energy consumed for RAM : 0.002676 kWh. RAM Power : 6.0 W\n",
      "[codecarbon INFO @ 17:27:19] Energy consumed for all CPUs : 0.018954 kWh. Total CPU Power : 42.5 W\n",
      "[codecarbon INFO @ 17:27:19] 0.021629 kWh of electricity used since the beginning.\n",
      "[codecarbon INFO @ 17:27:34] Energy consumed for RAM : 0.002701 kWh. RAM Power : 6.0 W\n",
      "[codecarbon INFO @ 17:27:34] Energy consumed for all CPUs : 0.019131 kWh. Total CPU Power : 42.5 W\n",
      "[codecarbon INFO @ 17:27:34] 0.021832 kWh of electricity used since the beginning.\n",
      "[codecarbon INFO @ 17:27:49] Energy consumed for RAM : 0.002726 kWh. RAM Power : 6.0 W\n",
      "[codecarbon INFO @ 17:27:49] Energy consumed for all CPUs : 0.019308 kWh. Total CPU Power : 42.5 W\n",
      "[codecarbon INFO @ 17:27:49] 0.022034 kWh of electricity used since the beginning.\n",
      "[codecarbon INFO @ 17:28:04] Energy consumed for RAM : 0.002751 kWh. RAM Power : 6.0 W\n",
      "[codecarbon INFO @ 17:28:04] Energy consumed for all CPUs : 0.019485 kWh. Total CPU Power : 42.5 W\n",
      "[codecarbon INFO @ 17:28:04] 0.022236 kWh of electricity used since the beginning.\n",
      "[codecarbon INFO @ 17:28:19] Energy consumed for RAM : 0.002776 kWh. RAM Power : 6.0 W\n",
      "[codecarbon INFO @ 17:28:19] Energy consumed for all CPUs : 0.019662 kWh. Total CPU Power : 42.5 W\n",
      "[codecarbon INFO @ 17:28:19] 0.022438 kWh of electricity used since the beginning.\n",
      "[codecarbon INFO @ 17:28:34] Energy consumed for RAM : 0.002801 kWh. RAM Power : 6.0 W\n",
      "[codecarbon INFO @ 17:28:34] Energy consumed for all CPUs : 0.019839 kWh. Total CPU Power : 42.5 W\n",
      "[codecarbon INFO @ 17:28:34] 0.022640 kWh of electricity used since the beginning.\n",
      "[codecarbon INFO @ 17:28:49] Energy consumed for RAM : 0.002826 kWh. RAM Power : 6.0 W\n",
      "[codecarbon INFO @ 17:28:49] Energy consumed for all CPUs : 0.020017 kWh. Total CPU Power : 42.5 W\n",
      "[codecarbon INFO @ 17:28:49] 0.022842 kWh of electricity used since the beginning.\n",
      "[codecarbon INFO @ 17:29:04] Energy consumed for RAM : 0.002851 kWh. RAM Power : 6.0 W\n",
      "[codecarbon INFO @ 17:29:04] Energy consumed for all CPUs : 0.020194 kWh. Total CPU Power : 42.5 W\n",
      "[codecarbon INFO @ 17:29:04] 0.023044 kWh of electricity used since the beginning.\n",
      "[codecarbon INFO @ 17:29:19] Energy consumed for RAM : 0.002876 kWh. RAM Power : 6.0 W\n",
      "[codecarbon INFO @ 17:29:19] Energy consumed for all CPUs : 0.020371 kWh. Total CPU Power : 42.5 W\n",
      "[codecarbon INFO @ 17:29:19] 0.023247 kWh of electricity used since the beginning.\n"
     ]
    },
    {
     "ename": "RuntimeError",
     "evalue": "MPS backend out of memory (MPS allocated: 4.12 GB, other allocations: 13.75 GB, max allowed: 18.13 GB). Tried to allocate 350.24 MB on private pool. Use PYTORCH_MPS_HIGH_WATERMARK_RATIO=0.0 to disable upper limit for memory allocations (may cause system failure).",
     "output_type": "error",
     "traceback": [
      "\u001B[0;31m---------------------------------------------------------------------------\u001B[0m",
      "\u001B[0;31mRuntimeError\u001B[0m                              Traceback (most recent call last)",
      "Cell \u001B[0;32mIn[26], line 1\u001B[0m\n\u001B[0;32m----> 1\u001B[0m \u001B[43mtrainer\u001B[49m\u001B[38;5;241;43m.\u001B[39;49m\u001B[43mtrain\u001B[49m\u001B[43m(\u001B[49m\u001B[43m)\u001B[49m\n",
      "File \u001B[0;32m~/PycharmProjects/kategorijos_huggin_face/.venv/lib/python3.12/site-packages/transformers/trainer.py:2043\u001B[0m, in \u001B[0;36mTrainer.train\u001B[0;34m(self, resume_from_checkpoint, trial, ignore_keys_for_eval, **kwargs)\u001B[0m\n\u001B[1;32m   2040\u001B[0m \u001B[38;5;28;01mtry\u001B[39;00m:\n\u001B[1;32m   2041\u001B[0m     \u001B[38;5;66;03m# Disable progress bars when uploading models during checkpoints to avoid polluting stdout\u001B[39;00m\n\u001B[1;32m   2042\u001B[0m     hf_hub_utils\u001B[38;5;241m.\u001B[39mdisable_progress_bars()\n\u001B[0;32m-> 2043\u001B[0m     \u001B[38;5;28;01mreturn\u001B[39;00m \u001B[43minner_training_loop\u001B[49m\u001B[43m(\u001B[49m\n\u001B[1;32m   2044\u001B[0m \u001B[43m        \u001B[49m\u001B[43margs\u001B[49m\u001B[38;5;241;43m=\u001B[39;49m\u001B[43margs\u001B[49m\u001B[43m,\u001B[49m\n\u001B[1;32m   2045\u001B[0m \u001B[43m        \u001B[49m\u001B[43mresume_from_checkpoint\u001B[49m\u001B[38;5;241;43m=\u001B[39;49m\u001B[43mresume_from_checkpoint\u001B[49m\u001B[43m,\u001B[49m\n\u001B[1;32m   2046\u001B[0m \u001B[43m        \u001B[49m\u001B[43mtrial\u001B[49m\u001B[38;5;241;43m=\u001B[39;49m\u001B[43mtrial\u001B[49m\u001B[43m,\u001B[49m\n\u001B[1;32m   2047\u001B[0m \u001B[43m        \u001B[49m\u001B[43mignore_keys_for_eval\u001B[49m\u001B[38;5;241;43m=\u001B[39;49m\u001B[43mignore_keys_for_eval\u001B[49m\u001B[43m,\u001B[49m\n\u001B[1;32m   2048\u001B[0m \u001B[43m    \u001B[49m\u001B[43m)\u001B[49m\n\u001B[1;32m   2049\u001B[0m \u001B[38;5;28;01mfinally\u001B[39;00m:\n\u001B[1;32m   2050\u001B[0m     hf_hub_utils\u001B[38;5;241m.\u001B[39menable_progress_bars()\n",
      "File \u001B[0;32m~/PycharmProjects/kategorijos_huggin_face/.venv/lib/python3.12/site-packages/transformers/trainer.py:2452\u001B[0m, in \u001B[0;36mTrainer._inner_training_loop\u001B[0;34m(self, batch_size, args, resume_from_checkpoint, trial, ignore_keys_for_eval)\u001B[0m\n\u001B[1;32m   2448\u001B[0m         grad_norm \u001B[38;5;241m=\u001B[39m _grad_norm\n\u001B[1;32m   2450\u001B[0m \u001B[38;5;28mself\u001B[39m\u001B[38;5;241m.\u001B[39mcontrol \u001B[38;5;241m=\u001B[39m \u001B[38;5;28mself\u001B[39m\u001B[38;5;241m.\u001B[39mcallback_handler\u001B[38;5;241m.\u001B[39mon_pre_optimizer_step(args, \u001B[38;5;28mself\u001B[39m\u001B[38;5;241m.\u001B[39mstate, \u001B[38;5;28mself\u001B[39m\u001B[38;5;241m.\u001B[39mcontrol)\n\u001B[0;32m-> 2452\u001B[0m \u001B[38;5;28;43mself\u001B[39;49m\u001B[38;5;241;43m.\u001B[39;49m\u001B[43moptimizer\u001B[49m\u001B[38;5;241;43m.\u001B[39;49m\u001B[43mstep\u001B[49m\u001B[43m(\u001B[49m\u001B[43m)\u001B[49m\n\u001B[1;32m   2454\u001B[0m \u001B[38;5;28mself\u001B[39m\u001B[38;5;241m.\u001B[39mcontrol \u001B[38;5;241m=\u001B[39m \u001B[38;5;28mself\u001B[39m\u001B[38;5;241m.\u001B[39mcallback_handler\u001B[38;5;241m.\u001B[39mon_optimizer_step(args, \u001B[38;5;28mself\u001B[39m\u001B[38;5;241m.\u001B[39mstate, \u001B[38;5;28mself\u001B[39m\u001B[38;5;241m.\u001B[39mcontrol)\n\u001B[1;32m   2456\u001B[0m optimizer_was_run \u001B[38;5;241m=\u001B[39m \u001B[38;5;129;01mnot\u001B[39;00m \u001B[38;5;28mself\u001B[39m\u001B[38;5;241m.\u001B[39maccelerator\u001B[38;5;241m.\u001B[39moptimizer_step_was_skipped\n",
      "File \u001B[0;32m~/PycharmProjects/kategorijos_huggin_face/.venv/lib/python3.12/site-packages/accelerate/optimizer.py:172\u001B[0m, in \u001B[0;36mAcceleratedOptimizer.step\u001B[0;34m(self, closure)\u001B[0m\n\u001B[1;32m    170\u001B[0m         \u001B[38;5;28mself\u001B[39m\u001B[38;5;241m.\u001B[39m_accelerate_step_called \u001B[38;5;241m=\u001B[39m \u001B[38;5;28;01mFalse\u001B[39;00m\n\u001B[1;32m    171\u001B[0m     \u001B[38;5;28;01melse\u001B[39;00m:\n\u001B[0;32m--> 172\u001B[0m         \u001B[38;5;28;43mself\u001B[39;49m\u001B[38;5;241;43m.\u001B[39;49m\u001B[43moptimizer\u001B[49m\u001B[38;5;241;43m.\u001B[39;49m\u001B[43mstep\u001B[49m\u001B[43m(\u001B[49m\u001B[43mclosure\u001B[49m\u001B[43m)\u001B[49m\n\u001B[1;32m    173\u001B[0m \u001B[38;5;28;01mif\u001B[39;00m \u001B[38;5;28mself\u001B[39m\u001B[38;5;241m.\u001B[39maccelerator_state\u001B[38;5;241m.\u001B[39mdistributed_type \u001B[38;5;241m==\u001B[39m DistributedType\u001B[38;5;241m.\u001B[39mXLA:\n\u001B[1;32m    174\u001B[0m     \u001B[38;5;28mself\u001B[39m\u001B[38;5;241m.\u001B[39mgradient_state\u001B[38;5;241m.\u001B[39mis_xla_gradients_synced \u001B[38;5;241m=\u001B[39m \u001B[38;5;28;01mFalse\u001B[39;00m\n",
      "File \u001B[0;32m~/PycharmProjects/kategorijos_huggin_face/.venv/lib/python3.12/site-packages/torch/optim/lr_scheduler.py:137\u001B[0m, in \u001B[0;36mLRScheduler.__init__.<locals>.patch_track_step_called.<locals>.wrap_step.<locals>.wrapper\u001B[0;34m(*args, **kwargs)\u001B[0m\n\u001B[1;32m    135\u001B[0m opt \u001B[38;5;241m=\u001B[39m opt_ref()\n\u001B[1;32m    136\u001B[0m opt\u001B[38;5;241m.\u001B[39m_opt_called \u001B[38;5;241m=\u001B[39m \u001B[38;5;28;01mTrue\u001B[39;00m  \u001B[38;5;66;03m# type: ignore[union-attr]\u001B[39;00m\n\u001B[0;32m--> 137\u001B[0m \u001B[38;5;28;01mreturn\u001B[39;00m \u001B[43mfunc\u001B[49m\u001B[38;5;241;43m.\u001B[39;49m\u001B[38;5;21;43m__get__\u001B[39;49m\u001B[43m(\u001B[49m\u001B[43mopt\u001B[49m\u001B[43m,\u001B[49m\u001B[43m \u001B[49m\u001B[43mopt\u001B[49m\u001B[38;5;241;43m.\u001B[39;49m\u001B[38;5;18;43m__class__\u001B[39;49m\u001B[43m)\u001B[49m\u001B[43m(\u001B[49m\u001B[38;5;241;43m*\u001B[39;49m\u001B[43margs\u001B[49m\u001B[43m,\u001B[49m\u001B[43m \u001B[49m\u001B[38;5;241;43m*\u001B[39;49m\u001B[38;5;241;43m*\u001B[39;49m\u001B[43mkwargs\u001B[49m\u001B[43m)\u001B[49m\n",
      "File \u001B[0;32m~/PycharmProjects/kategorijos_huggin_face/.venv/lib/python3.12/site-packages/torch/optim/optimizer.py:487\u001B[0m, in \u001B[0;36mOptimizer.profile_hook_step.<locals>.wrapper\u001B[0;34m(*args, **kwargs)\u001B[0m\n\u001B[1;32m    482\u001B[0m         \u001B[38;5;28;01melse\u001B[39;00m:\n\u001B[1;32m    483\u001B[0m             \u001B[38;5;28;01mraise\u001B[39;00m \u001B[38;5;167;01mRuntimeError\u001B[39;00m(\n\u001B[1;32m    484\u001B[0m                 \u001B[38;5;124mf\u001B[39m\u001B[38;5;124m\"\u001B[39m\u001B[38;5;132;01m{\u001B[39;00mfunc\u001B[38;5;132;01m}\u001B[39;00m\u001B[38;5;124m must return None or a tuple of (new_args, new_kwargs), but got \u001B[39m\u001B[38;5;132;01m{\u001B[39;00mresult\u001B[38;5;132;01m}\u001B[39;00m\u001B[38;5;124m.\u001B[39m\u001B[38;5;124m\"\u001B[39m\n\u001B[1;32m    485\u001B[0m             )\n\u001B[0;32m--> 487\u001B[0m out \u001B[38;5;241m=\u001B[39m \u001B[43mfunc\u001B[49m\u001B[43m(\u001B[49m\u001B[38;5;241;43m*\u001B[39;49m\u001B[43margs\u001B[49m\u001B[43m,\u001B[49m\u001B[43m \u001B[49m\u001B[38;5;241;43m*\u001B[39;49m\u001B[38;5;241;43m*\u001B[39;49m\u001B[43mkwargs\u001B[49m\u001B[43m)\u001B[49m\n\u001B[1;32m    488\u001B[0m \u001B[38;5;28mself\u001B[39m\u001B[38;5;241m.\u001B[39m_optimizer_step_code()\n\u001B[1;32m    490\u001B[0m \u001B[38;5;66;03m# call optimizer step post hooks\u001B[39;00m\n",
      "File \u001B[0;32m~/PycharmProjects/kategorijos_huggin_face/.venv/lib/python3.12/site-packages/torch/optim/optimizer.py:91\u001B[0m, in \u001B[0;36m_use_grad_for_differentiable.<locals>._use_grad\u001B[0;34m(self, *args, **kwargs)\u001B[0m\n\u001B[1;32m     89\u001B[0m     torch\u001B[38;5;241m.\u001B[39mset_grad_enabled(\u001B[38;5;28mself\u001B[39m\u001B[38;5;241m.\u001B[39mdefaults[\u001B[38;5;124m\"\u001B[39m\u001B[38;5;124mdifferentiable\u001B[39m\u001B[38;5;124m\"\u001B[39m])\n\u001B[1;32m     90\u001B[0m     torch\u001B[38;5;241m.\u001B[39m_dynamo\u001B[38;5;241m.\u001B[39mgraph_break()\n\u001B[0;32m---> 91\u001B[0m     ret \u001B[38;5;241m=\u001B[39m \u001B[43mfunc\u001B[49m\u001B[43m(\u001B[49m\u001B[38;5;28;43mself\u001B[39;49m\u001B[43m,\u001B[49m\u001B[43m \u001B[49m\u001B[38;5;241;43m*\u001B[39;49m\u001B[43margs\u001B[49m\u001B[43m,\u001B[49m\u001B[43m \u001B[49m\u001B[38;5;241;43m*\u001B[39;49m\u001B[38;5;241;43m*\u001B[39;49m\u001B[43mkwargs\u001B[49m\u001B[43m)\u001B[49m\n\u001B[1;32m     92\u001B[0m \u001B[38;5;28;01mfinally\u001B[39;00m:\n\u001B[1;32m     93\u001B[0m     torch\u001B[38;5;241m.\u001B[39m_dynamo\u001B[38;5;241m.\u001B[39mgraph_break()\n",
      "File \u001B[0;32m~/PycharmProjects/kategorijos_huggin_face/.venv/lib/python3.12/site-packages/torch/optim/adamw.py:220\u001B[0m, in \u001B[0;36mAdamW.step\u001B[0;34m(self, closure)\u001B[0m\n\u001B[1;32m    207\u001B[0m     beta1, beta2 \u001B[38;5;241m=\u001B[39m cast(Tuple[\u001B[38;5;28mfloat\u001B[39m, \u001B[38;5;28mfloat\u001B[39m], group[\u001B[38;5;124m\"\u001B[39m\u001B[38;5;124mbetas\u001B[39m\u001B[38;5;124m\"\u001B[39m])\n\u001B[1;32m    209\u001B[0m     has_complex \u001B[38;5;241m=\u001B[39m \u001B[38;5;28mself\u001B[39m\u001B[38;5;241m.\u001B[39m_init_group(\n\u001B[1;32m    210\u001B[0m         group,\n\u001B[1;32m    211\u001B[0m         params_with_grad,\n\u001B[0;32m   (...)\u001B[0m\n\u001B[1;32m    217\u001B[0m         state_steps,\n\u001B[1;32m    218\u001B[0m     )\n\u001B[0;32m--> 220\u001B[0m     \u001B[43madamw\u001B[49m\u001B[43m(\u001B[49m\n\u001B[1;32m    221\u001B[0m \u001B[43m        \u001B[49m\u001B[43mparams_with_grad\u001B[49m\u001B[43m,\u001B[49m\n\u001B[1;32m    222\u001B[0m \u001B[43m        \u001B[49m\u001B[43mgrads\u001B[49m\u001B[43m,\u001B[49m\n\u001B[1;32m    223\u001B[0m \u001B[43m        \u001B[49m\u001B[43mexp_avgs\u001B[49m\u001B[43m,\u001B[49m\n\u001B[1;32m    224\u001B[0m \u001B[43m        \u001B[49m\u001B[43mexp_avg_sqs\u001B[49m\u001B[43m,\u001B[49m\n\u001B[1;32m    225\u001B[0m \u001B[43m        \u001B[49m\u001B[43mmax_exp_avg_sqs\u001B[49m\u001B[43m,\u001B[49m\n\u001B[1;32m    226\u001B[0m \u001B[43m        \u001B[49m\u001B[43mstate_steps\u001B[49m\u001B[43m,\u001B[49m\n\u001B[1;32m    227\u001B[0m \u001B[43m        \u001B[49m\u001B[43mamsgrad\u001B[49m\u001B[38;5;241;43m=\u001B[39;49m\u001B[43mamsgrad\u001B[49m\u001B[43m,\u001B[49m\n\u001B[1;32m    228\u001B[0m \u001B[43m        \u001B[49m\u001B[43mbeta1\u001B[49m\u001B[38;5;241;43m=\u001B[39;49m\u001B[43mbeta1\u001B[49m\u001B[43m,\u001B[49m\n\u001B[1;32m    229\u001B[0m \u001B[43m        \u001B[49m\u001B[43mbeta2\u001B[49m\u001B[38;5;241;43m=\u001B[39;49m\u001B[43mbeta2\u001B[49m\u001B[43m,\u001B[49m\n\u001B[1;32m    230\u001B[0m \u001B[43m        \u001B[49m\u001B[43mlr\u001B[49m\u001B[38;5;241;43m=\u001B[39;49m\u001B[43mgroup\u001B[49m\u001B[43m[\u001B[49m\u001B[38;5;124;43m\"\u001B[39;49m\u001B[38;5;124;43mlr\u001B[39;49m\u001B[38;5;124;43m\"\u001B[39;49m\u001B[43m]\u001B[49m\u001B[43m,\u001B[49m\n\u001B[1;32m    231\u001B[0m \u001B[43m        \u001B[49m\u001B[43mweight_decay\u001B[49m\u001B[38;5;241;43m=\u001B[39;49m\u001B[43mgroup\u001B[49m\u001B[43m[\u001B[49m\u001B[38;5;124;43m\"\u001B[39;49m\u001B[38;5;124;43mweight_decay\u001B[39;49m\u001B[38;5;124;43m\"\u001B[39;49m\u001B[43m]\u001B[49m\u001B[43m,\u001B[49m\n\u001B[1;32m    232\u001B[0m \u001B[43m        \u001B[49m\u001B[43meps\u001B[49m\u001B[38;5;241;43m=\u001B[39;49m\u001B[43mgroup\u001B[49m\u001B[43m[\u001B[49m\u001B[38;5;124;43m\"\u001B[39;49m\u001B[38;5;124;43meps\u001B[39;49m\u001B[38;5;124;43m\"\u001B[39;49m\u001B[43m]\u001B[49m\u001B[43m,\u001B[49m\n\u001B[1;32m    233\u001B[0m \u001B[43m        \u001B[49m\u001B[43mmaximize\u001B[49m\u001B[38;5;241;43m=\u001B[39;49m\u001B[43mgroup\u001B[49m\u001B[43m[\u001B[49m\u001B[38;5;124;43m\"\u001B[39;49m\u001B[38;5;124;43mmaximize\u001B[39;49m\u001B[38;5;124;43m\"\u001B[39;49m\u001B[43m]\u001B[49m\u001B[43m,\u001B[49m\n\u001B[1;32m    234\u001B[0m \u001B[43m        \u001B[49m\u001B[43mforeach\u001B[49m\u001B[38;5;241;43m=\u001B[39;49m\u001B[43mgroup\u001B[49m\u001B[43m[\u001B[49m\u001B[38;5;124;43m\"\u001B[39;49m\u001B[38;5;124;43mforeach\u001B[39;49m\u001B[38;5;124;43m\"\u001B[39;49m\u001B[43m]\u001B[49m\u001B[43m,\u001B[49m\n\u001B[1;32m    235\u001B[0m \u001B[43m        \u001B[49m\u001B[43mcapturable\u001B[49m\u001B[38;5;241;43m=\u001B[39;49m\u001B[43mgroup\u001B[49m\u001B[43m[\u001B[49m\u001B[38;5;124;43m\"\u001B[39;49m\u001B[38;5;124;43mcapturable\u001B[39;49m\u001B[38;5;124;43m\"\u001B[39;49m\u001B[43m]\u001B[49m\u001B[43m,\u001B[49m\n\u001B[1;32m    236\u001B[0m \u001B[43m        \u001B[49m\u001B[43mdifferentiable\u001B[49m\u001B[38;5;241;43m=\u001B[39;49m\u001B[43mgroup\u001B[49m\u001B[43m[\u001B[49m\u001B[38;5;124;43m\"\u001B[39;49m\u001B[38;5;124;43mdifferentiable\u001B[39;49m\u001B[38;5;124;43m\"\u001B[39;49m\u001B[43m]\u001B[49m\u001B[43m,\u001B[49m\n\u001B[1;32m    237\u001B[0m \u001B[43m        \u001B[49m\u001B[43mfused\u001B[49m\u001B[38;5;241;43m=\u001B[39;49m\u001B[43mgroup\u001B[49m\u001B[43m[\u001B[49m\u001B[38;5;124;43m\"\u001B[39;49m\u001B[38;5;124;43mfused\u001B[39;49m\u001B[38;5;124;43m\"\u001B[39;49m\u001B[43m]\u001B[49m\u001B[43m,\u001B[49m\n\u001B[1;32m    238\u001B[0m \u001B[43m        \u001B[49m\u001B[43mgrad_scale\u001B[49m\u001B[38;5;241;43m=\u001B[39;49m\u001B[38;5;28;43mgetattr\u001B[39;49m\u001B[43m(\u001B[49m\u001B[38;5;28;43mself\u001B[39;49m\u001B[43m,\u001B[49m\u001B[43m \u001B[49m\u001B[38;5;124;43m\"\u001B[39;49m\u001B[38;5;124;43mgrad_scale\u001B[39;49m\u001B[38;5;124;43m\"\u001B[39;49m\u001B[43m,\u001B[49m\u001B[43m \u001B[49m\u001B[38;5;28;43;01mNone\u001B[39;49;00m\u001B[43m)\u001B[49m\u001B[43m,\u001B[49m\n\u001B[1;32m    239\u001B[0m \u001B[43m        \u001B[49m\u001B[43mfound_inf\u001B[49m\u001B[38;5;241;43m=\u001B[39;49m\u001B[38;5;28;43mgetattr\u001B[39;49m\u001B[43m(\u001B[49m\u001B[38;5;28;43mself\u001B[39;49m\u001B[43m,\u001B[49m\u001B[43m \u001B[49m\u001B[38;5;124;43m\"\u001B[39;49m\u001B[38;5;124;43mfound_inf\u001B[39;49m\u001B[38;5;124;43m\"\u001B[39;49m\u001B[43m,\u001B[49m\u001B[43m \u001B[49m\u001B[38;5;28;43;01mNone\u001B[39;49;00m\u001B[43m)\u001B[49m\u001B[43m,\u001B[49m\n\u001B[1;32m    240\u001B[0m \u001B[43m        \u001B[49m\u001B[43mhas_complex\u001B[49m\u001B[38;5;241;43m=\u001B[39;49m\u001B[43mhas_complex\u001B[49m\u001B[43m,\u001B[49m\n\u001B[1;32m    241\u001B[0m \u001B[43m    \u001B[49m\u001B[43m)\u001B[49m\n\u001B[1;32m    243\u001B[0m \u001B[38;5;28;01mreturn\u001B[39;00m loss\n",
      "File \u001B[0;32m~/PycharmProjects/kategorijos_huggin_face/.venv/lib/python3.12/site-packages/torch/optim/optimizer.py:154\u001B[0m, in \u001B[0;36m_disable_dynamo_if_unsupported.<locals>.wrapper.<locals>.maybe_fallback\u001B[0;34m(*args, **kwargs)\u001B[0m\n\u001B[1;32m    152\u001B[0m     \u001B[38;5;28;01mreturn\u001B[39;00m disabled_func(\u001B[38;5;241m*\u001B[39margs, \u001B[38;5;241m*\u001B[39m\u001B[38;5;241m*\u001B[39mkwargs)\n\u001B[1;32m    153\u001B[0m \u001B[38;5;28;01melse\u001B[39;00m:\n\u001B[0;32m--> 154\u001B[0m     \u001B[38;5;28;01mreturn\u001B[39;00m \u001B[43mfunc\u001B[49m\u001B[43m(\u001B[49m\u001B[38;5;241;43m*\u001B[39;49m\u001B[43margs\u001B[49m\u001B[43m,\u001B[49m\u001B[43m \u001B[49m\u001B[38;5;241;43m*\u001B[39;49m\u001B[38;5;241;43m*\u001B[39;49m\u001B[43mkwargs\u001B[49m\u001B[43m)\u001B[49m\n",
      "File \u001B[0;32m~/PycharmProjects/kategorijos_huggin_face/.venv/lib/python3.12/site-packages/torch/optim/adamw.py:782\u001B[0m, in \u001B[0;36madamw\u001B[0;34m(params, grads, exp_avgs, exp_avg_sqs, max_exp_avg_sqs, state_steps, foreach, capturable, differentiable, fused, grad_scale, found_inf, has_complex, amsgrad, beta1, beta2, lr, weight_decay, eps, maximize)\u001B[0m\n\u001B[1;32m    779\u001B[0m \u001B[38;5;28;01melse\u001B[39;00m:\n\u001B[1;32m    780\u001B[0m     func \u001B[38;5;241m=\u001B[39m _single_tensor_adamw\n\u001B[0;32m--> 782\u001B[0m \u001B[43mfunc\u001B[49m\u001B[43m(\u001B[49m\n\u001B[1;32m    783\u001B[0m \u001B[43m    \u001B[49m\u001B[43mparams\u001B[49m\u001B[43m,\u001B[49m\n\u001B[1;32m    784\u001B[0m \u001B[43m    \u001B[49m\u001B[43mgrads\u001B[49m\u001B[43m,\u001B[49m\n\u001B[1;32m    785\u001B[0m \u001B[43m    \u001B[49m\u001B[43mexp_avgs\u001B[49m\u001B[43m,\u001B[49m\n\u001B[1;32m    786\u001B[0m \u001B[43m    \u001B[49m\u001B[43mexp_avg_sqs\u001B[49m\u001B[43m,\u001B[49m\n\u001B[1;32m    787\u001B[0m \u001B[43m    \u001B[49m\u001B[43mmax_exp_avg_sqs\u001B[49m\u001B[43m,\u001B[49m\n\u001B[1;32m    788\u001B[0m \u001B[43m    \u001B[49m\u001B[43mstate_steps\u001B[49m\u001B[43m,\u001B[49m\n\u001B[1;32m    789\u001B[0m \u001B[43m    \u001B[49m\u001B[43mamsgrad\u001B[49m\u001B[38;5;241;43m=\u001B[39;49m\u001B[43mamsgrad\u001B[49m\u001B[43m,\u001B[49m\n\u001B[1;32m    790\u001B[0m \u001B[43m    \u001B[49m\u001B[43mbeta1\u001B[49m\u001B[38;5;241;43m=\u001B[39;49m\u001B[43mbeta1\u001B[49m\u001B[43m,\u001B[49m\n\u001B[1;32m    791\u001B[0m \u001B[43m    \u001B[49m\u001B[43mbeta2\u001B[49m\u001B[38;5;241;43m=\u001B[39;49m\u001B[43mbeta2\u001B[49m\u001B[43m,\u001B[49m\n\u001B[1;32m    792\u001B[0m \u001B[43m    \u001B[49m\u001B[43mlr\u001B[49m\u001B[38;5;241;43m=\u001B[39;49m\u001B[43mlr\u001B[49m\u001B[43m,\u001B[49m\n\u001B[1;32m    793\u001B[0m \u001B[43m    \u001B[49m\u001B[43mweight_decay\u001B[49m\u001B[38;5;241;43m=\u001B[39;49m\u001B[43mweight_decay\u001B[49m\u001B[43m,\u001B[49m\n\u001B[1;32m    794\u001B[0m \u001B[43m    \u001B[49m\u001B[43meps\u001B[49m\u001B[38;5;241;43m=\u001B[39;49m\u001B[43meps\u001B[49m\u001B[43m,\u001B[49m\n\u001B[1;32m    795\u001B[0m \u001B[43m    \u001B[49m\u001B[43mmaximize\u001B[49m\u001B[38;5;241;43m=\u001B[39;49m\u001B[43mmaximize\u001B[49m\u001B[43m,\u001B[49m\n\u001B[1;32m    796\u001B[0m \u001B[43m    \u001B[49m\u001B[43mcapturable\u001B[49m\u001B[38;5;241;43m=\u001B[39;49m\u001B[43mcapturable\u001B[49m\u001B[43m,\u001B[49m\n\u001B[1;32m    797\u001B[0m \u001B[43m    \u001B[49m\u001B[43mdifferentiable\u001B[49m\u001B[38;5;241;43m=\u001B[39;49m\u001B[43mdifferentiable\u001B[49m\u001B[43m,\u001B[49m\n\u001B[1;32m    798\u001B[0m \u001B[43m    \u001B[49m\u001B[43mgrad_scale\u001B[49m\u001B[38;5;241;43m=\u001B[39;49m\u001B[43mgrad_scale\u001B[49m\u001B[43m,\u001B[49m\n\u001B[1;32m    799\u001B[0m \u001B[43m    \u001B[49m\u001B[43mfound_inf\u001B[49m\u001B[38;5;241;43m=\u001B[39;49m\u001B[43mfound_inf\u001B[49m\u001B[43m,\u001B[49m\n\u001B[1;32m    800\u001B[0m \u001B[43m    \u001B[49m\u001B[43mhas_complex\u001B[49m\u001B[38;5;241;43m=\u001B[39;49m\u001B[43mhas_complex\u001B[49m\u001B[43m,\u001B[49m\n\u001B[1;32m    801\u001B[0m \u001B[43m\u001B[49m\u001B[43m)\u001B[49m\n",
      "File \u001B[0;32m~/PycharmProjects/kategorijos_huggin_face/.venv/lib/python3.12/site-packages/torch/optim/adamw.py:427\u001B[0m, in \u001B[0;36m_single_tensor_adamw\u001B[0;34m(params, grads, exp_avgs, exp_avg_sqs, max_exp_avg_sqs, state_steps, grad_scale, found_inf, amsgrad, beta1, beta2, lr, weight_decay, eps, maximize, capturable, differentiable, has_complex)\u001B[0m\n\u001B[1;32m    425\u001B[0m         denom \u001B[38;5;241m=\u001B[39m (max_exp_avg_sqs[i]\u001B[38;5;241m.\u001B[39msqrt() \u001B[38;5;241m/\u001B[39m bias_correction2_sqrt)\u001B[38;5;241m.\u001B[39madd_(eps)\n\u001B[1;32m    426\u001B[0m     \u001B[38;5;28;01melse\u001B[39;00m:\n\u001B[0;32m--> 427\u001B[0m         denom \u001B[38;5;241m=\u001B[39m (\u001B[43mexp_avg_sq\u001B[49m\u001B[38;5;241;43m.\u001B[39;49m\u001B[43msqrt\u001B[49m\u001B[43m(\u001B[49m\u001B[43m)\u001B[49m \u001B[38;5;241m/\u001B[39m bias_correction2_sqrt)\u001B[38;5;241m.\u001B[39madd_(eps)\n\u001B[1;32m    429\u001B[0m     param\u001B[38;5;241m.\u001B[39maddcdiv_(exp_avg, denom, value\u001B[38;5;241m=\u001B[39m\u001B[38;5;241m-\u001B[39mstep_size)\n\u001B[1;32m    431\u001B[0m \u001B[38;5;66;03m# Lastly, switch back to complex view\u001B[39;00m\n",
      "\u001B[0;31mRuntimeError\u001B[0m: MPS backend out of memory (MPS allocated: 4.12 GB, other allocations: 13.75 GB, max allowed: 18.13 GB). Tried to allocate 350.24 MB on private pool. Use PYTORCH_MPS_HIGH_WATERMARK_RATIO=0.0 to disable upper limit for memory allocations (may cause system failure)."
     ]
    }
   ],
   "execution_count": 26
  },
  {
   "metadata": {
    "ExecuteTime": {
     "end_time": "2024-11-07T15:29:29.178072Z",
     "start_time": "2024-11-07T14:36:56.665711Z"
    }
   },
   "cell_type": "code",
   "source": "trainer.push_to_hub()",
   "id": "4fa7cde28f927a6d",
   "outputs": [
    {
     "data": {
      "text/plain": [
       "events.out.tfevents.1730988942.Zilvinass-Mac-mini.local.3613.1:   0%|          | 0.00/13.3k [00:00<?, ?B/s]"
      ],
      "application/vnd.jupyter.widget-view+json": {
       "version_major": 2,
       "version_minor": 0,
       "model_id": "7c038d04a76b4a5d913e73131df2cd8f"
      }
     },
     "metadata": {},
     "output_type": "display_data"
    },
    {
     "data": {
      "text/plain": [
       "CommitInfo(commit_url='https://huggingface.co/Vampyrian/my_awesome_model/commit/045ed970b31b6989136faea0dcce80c11a42f7e3', commit_message='End of training', commit_description='', oid='045ed970b31b6989136faea0dcce80c11a42f7e3', pr_url=None, repo_url=RepoUrl('https://huggingface.co/Vampyrian/my_awesome_model', endpoint='https://huggingface.co', repo_type='model', repo_id='Vampyrian/my_awesome_model'), pr_revision=None, pr_num=None)"
      ]
     },
     "execution_count": 68,
     "metadata": {},
     "output_type": "execute_result"
    }
   ],
   "execution_count": 68
  },
  {
   "metadata": {},
   "cell_type": "code",
   "outputs": [],
   "execution_count": null,
   "source": "tokenizer.push_to_hub(my_model_name)",
   "id": "1ad7240c2200d59d"
  },
  {
   "metadata": {},
   "cell_type": "markdown",
   "source": "# Testing",
   "id": "7061036ade58bd46"
  },
  {
   "metadata": {},
   "cell_type": "code",
   "outputs": [],
   "execution_count": null,
   "source": "# from transformers import pipeline",
   "id": "446c7927aa1f4dc"
  },
  {
   "metadata": {
    "ExecuteTime": {
     "end_time": "2024-11-07T15:29:29.178546Z",
     "start_time": "2024-11-07T14:48:04.260934Z"
    }
   },
   "cell_type": "code",
   "source": "# classifier = pipeline(\"text-classification\", model=\"Vampyrian/my_awesome_model\")",
   "id": "b4f00a0dbd1d32bd",
   "outputs": [
    {
     "name": "stderr",
     "output_type": "stream",
     "text": [
      "Hardware accelerator e.g. GPU is available in the environment, but no `device` argument is passed to the `Pipeline` object. Model will be on CPU.\n"
     ]
    }
   ],
   "execution_count": 75
  },
  {
   "metadata": {
    "ExecuteTime": {
     "end_time": "2024-11-07T15:29:29.178666Z",
     "start_time": "2024-11-07T14:48:32.436319Z"
    }
   },
   "cell_type": "code",
   "source": "# classifier('Coleman 3000000396 turistinė viryklė Skystojo kuro viryklė')",
   "id": "a792c57eb6b9d2e",
   "outputs": [
    {
     "data": {
      "text/plain": [
       "[{'label': 'Viryklės', 'score': 0.9028318524360657}]"
      ]
     },
     "execution_count": 77,
     "metadata": {},
     "output_type": "execute_result"
    }
   ],
   "execution_count": 77
  }
 ],
 "metadata": {
  "kernelspec": {
   "display_name": "Python 3",
   "language": "python",
   "name": "python3"
  },
  "language_info": {
   "codemirror_mode": {
    "name": "ipython",
    "version": 2
   },
   "file_extension": ".py",
   "mimetype": "text/x-python",
   "name": "python",
   "nbconvert_exporter": "python",
   "pygments_lexer": "ipython2",
   "version": "2.7.6"
  }
 },
 "nbformat": 4,
 "nbformat_minor": 5
}
