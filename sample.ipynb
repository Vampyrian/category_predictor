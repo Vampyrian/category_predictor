{
 "cells": [
  {
   "metadata": {
    "ExecuteTime": {
     "end_time": "2024-11-07T13:29:49.467527Z",
     "start_time": "2024-11-07T13:29:49.378277Z"
    }
   },
   "cell_type": "code",
   "source": [
    "from huggingface_hub import notebook_login\n",
    "notebook_login()"
   ],
   "id": "352ab15f9a963b3b",
   "outputs": [
    {
     "data": {
      "text/plain": [
       "VBox(children=(HTML(value='<center> <img\\nsrc=https://huggingface.co/front/assets/huggingface_logo-noborder.sv…"
      ],
      "application/vnd.jupyter.widget-view+json": {
       "version_major": 2,
       "version_minor": 0,
       "model_id": "8735cf1d495c4bd4827b6f1d32ab29b1"
      }
     },
     "metadata": {},
     "output_type": "display_data"
    }
   ],
   "execution_count": 1
  },
  {
   "metadata": {
    "ExecuteTime": {
     "end_time": "2024-11-07T13:39:27.322319Z",
     "start_time": "2024-11-07T13:39:27.316334Z"
    }
   },
   "cell_type": "code",
   "source": "from datasets import load_dataset, Dataset",
   "id": "fbc121e30a2defb3",
   "outputs": [],
   "execution_count": 15
  },
  {
   "metadata": {
    "ExecuteTime": {
     "end_time": "2024-11-07T13:39:30.925157Z",
     "start_time": "2024-11-07T13:39:28.677217Z"
    }
   },
   "cell_type": "code",
   "source": [
    "dataset = load_dataset('Vampyrian/products_with_category_household_equipments')\n",
    "dataset"
   ],
   "id": "f76cd9fc45d425d2",
   "outputs": [
    {
     "data": {
      "text/plain": [
       "DatasetDict({\n",
       "    train: Dataset({\n",
       "        features: ['text', 'label', 'label_text'],\n",
       "        num_rows: 26056\n",
       "    })\n",
       "    validation: Dataset({\n",
       "        features: ['text', 'label', 'label_text'],\n",
       "        num_rows: 3453\n",
       "    })\n",
       "    test: Dataset({\n",
       "        features: ['text', 'label', 'label_text'],\n",
       "        num_rows: 3453\n",
       "    })\n",
       "})"
      ]
     },
     "execution_count": 16,
     "metadata": {},
     "output_type": "execute_result"
    }
   ],
   "execution_count": 16
  },
  {
   "metadata": {
    "ExecuteTime": {
     "end_time": "2024-11-07T13:40:29.503166Z",
     "start_time": "2024-11-07T13:40:29.499726Z"
    }
   },
   "cell_type": "code",
   "source": "dataset['train'][3]",
   "id": "e2e1fe8be63993a9",
   "outputs": [
    {
     "data": {
      "text/plain": [
       "{'text': 'BEKO Refrigerator TSE1423N 84 cm, Energy class E (old A++), White',\n",
       " 'label': 0,\n",
       " 'label_text': 'Šaldytuvai'}"
      ]
     },
     "execution_count": 20,
     "metadata": {},
     "output_type": "execute_result"
    }
   ],
   "execution_count": 20
  },
  {
   "metadata": {
    "ExecuteTime": {
     "end_time": "2024-11-07T13:48:46.576109Z",
     "start_time": "2024-11-07T13:48:46.536712Z"
    }
   },
   "cell_type": "code",
   "source": [
    "unique_categories = set(dataset['train']['label_text'])\n",
    "id2label = {idx: label for idx, label in enumerate(unique_categories)}\n",
    "label2id = {label: idx for idx, label in enumerate(unique_categories)}\n",
    "\n",
    "print(len(id2label))\n",
    "print('----')\n",
    "print(\"id2label:\", id2label)\n",
    "print('----')\n",
    "print(\"label2id:\", label2id)"
   ],
   "id": "a4d9cf0e5b9f9a27",
   "outputs": [
    {
     "name": "stdout",
     "output_type": "stream",
     "text": [
      "79\n",
      "----\n",
      "id2label: {0: 'Sumuštinių keptuvės', 1: 'Garų puodai', 2: 'Dulkių siurbliai', 3: 'Virduliai', 4: 'Maisto atliekų smulkintuvai', 5: 'Sulčiaspaudės', 6: 'Rankiniai dulkių siurbliai', 7: 'Šilumos siurbliai oras-oras', 8: 'Plaukų džiovintuvai', 9: 'Epiliatoriai', 10: 'Gartraukių filtrai', 11: 'Platforminės svarstyklės', 12: 'Oro kondicionieriai', 13: 'Kaitlentės', 14: 'Skrudintuvai', 15: 'Pūkų rinkikliai', 16: 'Konvekciniai radiatoriai', 17: 'Infraraudonųjų spindulių šildytuvai', 18: 'Skalbyklės - džiovyklės', 19: 'Vakuumatoriai', 20: 'Cikloninės krosnelės', 21: 'Kiaušinių virimo aparatai', 22: 'Langų valytuvai', 23: 'Skalbimo mašinos', 24: 'Oro šildytuvai', 25: 'Oro drėkintuvai', 26: 'Kavos aparatai', 27: 'Elektriniai šildytuvai', 28: 'Barzdaskutės', 29: 'Plaukų kirpimo mašinėlės', 30: 'Dulkių siurbliai robotai', 31: 'Ventiliatoriai', 32: 'Lygintuvai', 33: 'Blenderiai', 34: 'Viryklės', 35: 'Įmontuojamos indaplovės', 36: 'Griliai ir keptuvės', 37: 'Nešiojami oro kondicionieriai', 38: 'Oro jonizatoriai', 39: 'Ozono generatoriai', 40: 'Kavamalės', 41: 'Plaukų formavimo prietaisai', 42: 'Gartraukiai', 43: 'Dulkių siurblių maišai', 44: 'Elektriniai dantų šepetėliai', 45: 'Drabužių garintuvai', 46: 'Dulkių siurblių antgaliai', 47: 'Pramoniniai dulkių siurbliai', 48: 'Plakikliai mikseriai', 49: 'Dujiniai šildytuvai', 50: 'Ledų gaminimo aparatai', 51: 'Indaplovės', 52: 'Geoterminiai šilumos siurbliai', 53: 'Gruzdintuvės', 54: 'Lubiniai ventiliatoriai', 55: 'Siuvimo mašinos', 56: 'Šilumos siurbliai oras-vanduo', 57: 'Džiovyklės', 58: 'Vaisių džiovintuvai', 59: 'Virtuvinės svarstyklės', 60: 'Vaflinės', 61: 'Pjaustyklės', 62: 'Rekuperatoriai', 63: 'Ventiliatoriniai šildytuvai', 64: 'Sieniniai ventiliatoriai', 65: 'Skalbyklių ir džiovyklių sujungimo rėmeliai', 66: 'Virtuviniai kombainai', 67: 'Daugiafunkciniai puodai', 68: 'Mikrobangų krosnelės', 69: 'Šaldikliai', 70: 'Pieno šaldytuvai', 71: 'Cukraus vatos aparatai', 72: 'Mėsmalės', 73: 'Svarstyklės', 74: 'Orkaitės', 75: 'Oro valytuvai', 76: 'Duonkepės', 77: 'Šaldytuvai', 78: 'Hepa filtrai'}\n",
      "----\n",
      "label2id: {'Sumuštinių keptuvės': 0, 'Garų puodai': 1, 'Dulkių siurbliai': 2, 'Virduliai': 3, 'Maisto atliekų smulkintuvai': 4, 'Sulčiaspaudės': 5, 'Rankiniai dulkių siurbliai': 6, 'Šilumos siurbliai oras-oras': 7, 'Plaukų džiovintuvai': 8, 'Epiliatoriai': 9, 'Gartraukių filtrai': 10, 'Platforminės svarstyklės': 11, 'Oro kondicionieriai': 12, 'Kaitlentės': 13, 'Skrudintuvai': 14, 'Pūkų rinkikliai': 15, 'Konvekciniai radiatoriai': 16, 'Infraraudonųjų spindulių šildytuvai': 17, 'Skalbyklės - džiovyklės': 18, 'Vakuumatoriai': 19, 'Cikloninės krosnelės': 20, 'Kiaušinių virimo aparatai': 21, 'Langų valytuvai': 22, 'Skalbimo mašinos': 23, 'Oro šildytuvai': 24, 'Oro drėkintuvai': 25, 'Kavos aparatai': 26, 'Elektriniai šildytuvai': 27, 'Barzdaskutės': 28, 'Plaukų kirpimo mašinėlės': 29, 'Dulkių siurbliai robotai': 30, 'Ventiliatoriai': 31, 'Lygintuvai': 32, 'Blenderiai': 33, 'Viryklės': 34, 'Įmontuojamos indaplovės': 35, 'Griliai ir keptuvės': 36, 'Nešiojami oro kondicionieriai': 37, 'Oro jonizatoriai': 38, 'Ozono generatoriai': 39, 'Kavamalės': 40, 'Plaukų formavimo prietaisai': 41, 'Gartraukiai': 42, 'Dulkių siurblių maišai': 43, 'Elektriniai dantų šepetėliai': 44, 'Drabužių garintuvai': 45, 'Dulkių siurblių antgaliai': 46, 'Pramoniniai dulkių siurbliai': 47, 'Plakikliai mikseriai': 48, 'Dujiniai šildytuvai': 49, 'Ledų gaminimo aparatai': 50, 'Indaplovės': 51, 'Geoterminiai šilumos siurbliai': 52, 'Gruzdintuvės': 53, 'Lubiniai ventiliatoriai': 54, 'Siuvimo mašinos': 55, 'Šilumos siurbliai oras-vanduo': 56, 'Džiovyklės': 57, 'Vaisių džiovintuvai': 58, 'Virtuvinės svarstyklės': 59, 'Vaflinės': 60, 'Pjaustyklės': 61, 'Rekuperatoriai': 62, 'Ventiliatoriniai šildytuvai': 63, 'Sieniniai ventiliatoriai': 64, 'Skalbyklių ir džiovyklių sujungimo rėmeliai': 65, 'Virtuviniai kombainai': 66, 'Daugiafunkciniai puodai': 67, 'Mikrobangų krosnelės': 68, 'Šaldikliai': 69, 'Pieno šaldytuvai': 70, 'Cukraus vatos aparatai': 71, 'Mėsmalės': 72, 'Svarstyklės': 73, 'Orkaitės': 74, 'Oro valytuvai': 75, 'Duonkepės': 76, 'Šaldytuvai': 77, 'Hepa filtrai': 78}\n"
     ]
    }
   ],
   "execution_count": 30
  },
  {
   "metadata": {
    "ExecuteTime": {
     "end_time": "2024-11-07T13:31:48.160647Z",
     "start_time": "2024-11-07T13:31:47.547014Z"
    }
   },
   "cell_type": "code",
   "source": [
    "def replace_category_with_id(example):\n",
    "    example['label_id'] = label2id[example.pop('label_text')]\n",
    "    return example\n",
    "\n",
    "dataset = dataset.map(replace_category_with_id)\n"
   ],
   "id": "84677a6b9a6290fd",
   "outputs": [
    {
     "data": {
      "text/plain": [
       "Map:   0%|          | 0/26056 [00:00<?, ? examples/s]"
      ],
      "application/vnd.jupyter.widget-view+json": {
       "version_major": 2,
       "version_minor": 0,
       "model_id": "23c1bc694a044449a0d47364d04554aa"
      }
     },
     "metadata": {},
     "output_type": "display_data"
    },
    {
     "data": {
      "text/plain": [
       "Map:   0%|          | 0/3453 [00:00<?, ? examples/s]"
      ],
      "application/vnd.jupyter.widget-view+json": {
       "version_major": 2,
       "version_minor": 0,
       "model_id": "10cf430348c546a39460670d7ee0628f"
      }
     },
     "metadata": {},
     "output_type": "display_data"
    },
    {
     "data": {
      "text/plain": [
       "Map:   0%|          | 0/3453 [00:00<?, ? examples/s]"
      ],
      "application/vnd.jupyter.widget-view+json": {
       "version_major": 2,
       "version_minor": 0,
       "model_id": "537372301faf4339a232a1a00126da4a"
      }
     },
     "metadata": {},
     "output_type": "display_data"
    }
   ],
   "execution_count": 5
  },
  {
   "metadata": {
    "ExecuteTime": {
     "end_time": "2024-11-07T13:31:52.210025Z",
     "start_time": "2024-11-07T13:31:52.199688Z"
    }
   },
   "cell_type": "code",
   "source": "dataset['train'][1]",
   "id": "bd9e138e17109ec1",
   "outputs": [
    {
     "data": {
      "text/plain": [
       "{'text': 'Electrolux LRC5ME38W2 -jääkaappi, valkoinen',\n",
       " 'label': 0,\n",
       " 'label_id': 77}"
      ]
     },
     "execution_count": 6,
     "metadata": {},
     "output_type": "execute_result"
    }
   ],
   "execution_count": 6
  },
  {
   "metadata": {},
   "cell_type": "markdown",
   "source": "# Tokenizing",
   "id": "eee83b2296828a77"
  },
  {
   "metadata": {
    "ExecuteTime": {
     "end_time": "2024-11-07T13:41:27.873571Z",
     "start_time": "2024-11-07T13:41:27.870872Z"
    }
   },
   "cell_type": "code",
   "source": [
    "checkpoint = 'google-bert/bert-base-multilingual-cased'\n",
    "checkpoint = 'amberoad/bert-multilingual-passage-reranking-msmarco'"
   ],
   "id": "40f5da0116cb89e7",
   "outputs": [],
   "execution_count": 21
  },
  {
   "metadata": {
    "ExecuteTime": {
     "end_time": "2024-11-07T13:41:34.663098Z",
     "start_time": "2024-11-07T13:41:34.420449Z"
    }
   },
   "cell_type": "code",
   "source": [
    "from transformers import AutoTokenizer\n",
    "\n",
    "tokenizer = AutoTokenizer.from_pretrained(checkpoint)"
   ],
   "id": "da95845c79168f3e",
   "outputs": [
    {
     "name": "stderr",
     "output_type": "stream",
     "text": [
      "/Users/zilvinasmacius/PycharmProjects/kategorijos_huggin_face/.venv/lib/python3.12/site-packages/transformers/tokenization_utils_base.py:1617: FutureWarning: `clean_up_tokenization_spaces` was not set. It will be set to `True` by default. This behavior will be deprecated in transformers v4.45, and will be then set to `False` by default. For more details check this issue: https://github.com/huggingface/transformers/issues/31884\n",
      "  warnings.warn(\n"
     ]
    }
   ],
   "execution_count": 22
  },
  {
   "metadata": {
    "ExecuteTime": {
     "end_time": "2024-11-07T13:42:11.653904Z",
     "start_time": "2024-11-07T13:42:11.651746Z"
    }
   },
   "cell_type": "code",
   "source": [
    "def tokenize_function(examples):\n",
    "    return tokenizer(examples[\"text\"], padding=\"max_length\", truncation=True)\n",
    "\n",
    "def preprocess_function(examples):\n",
    "    return tokenizer(examples[\"text\"], truncation=True)"
   ],
   "id": "d7ca7fbc690744ba",
   "outputs": [],
   "execution_count": 23
  },
  {
   "metadata": {
    "ExecuteTime": {
     "end_time": "2024-11-07T13:45:51.441072Z",
     "start_time": "2024-11-07T13:45:50.785453Z"
    }
   },
   "cell_type": "code",
   "source": "tokenized_dataset = dataset.map(tokenize_function, batched=True)",
   "id": "92fd83743ac238cc",
   "outputs": [
    {
     "data": {
      "text/plain": [
       "Map:   0%|          | 0/26056 [00:00<?, ? examples/s]"
      ],
      "application/vnd.jupyter.widget-view+json": {
       "version_major": 2,
       "version_minor": 0,
       "model_id": "509e903362364c898839d158c3381774"
      }
     },
     "metadata": {},
     "output_type": "display_data"
    }
   ],
   "execution_count": 26
  },
  {
   "metadata": {
    "ExecuteTime": {
     "end_time": "2024-11-07T11:23:05.360533Z",
     "start_time": "2024-11-07T11:23:05.346145Z"
    }
   },
   "cell_type": "code",
   "source": [
    "from transformers import DataCollatorWithPadding\n",
    "\n",
    "data_collator = DataCollatorWithPadding(tokenizer=tokenizer)"
   ],
   "id": "6e8f806b4c89b99d",
   "outputs": [],
   "execution_count": 29
  },
  {
   "metadata": {
    "ExecuteTime": {
     "end_time": "2024-11-07T13:35:29.487665Z",
     "start_time": "2024-11-07T13:35:23.935151Z"
    }
   },
   "cell_type": "code",
   "source": [
    "import evaluate\n",
    "accuracy = evaluate.load(\"accuracy\")"
   ],
   "id": "f554203dfb3156cc",
   "outputs": [],
   "execution_count": 11
  },
  {
   "metadata": {
    "ExecuteTime": {
     "end_time": "2024-11-07T13:35:31.791563Z",
     "start_time": "2024-11-07T13:35:31.788391Z"
    }
   },
   "cell_type": "code",
   "source": [
    "import numpy as np\n",
    "\n",
    "def compute_metrics(eval_pred):\n",
    "    predictions, labels = eval_pred\n",
    "    predictions = np.argmax(predictions, axis=1)\n",
    "    return accuracy.compute(predictions=predictions, references=labels)"
   ],
   "id": "1004b6af74618aa6",
   "outputs": [],
   "execution_count": 12
  },
  {
   "metadata": {},
   "cell_type": "markdown",
   "source": "# Training started....",
   "id": "4960247872004275"
  },
  {
   "metadata": {
    "ExecuteTime": {
     "end_time": "2024-11-07T13:46:22.087767Z",
     "start_time": "2024-11-07T13:46:22.019202Z"
    }
   },
   "cell_type": "code",
   "source": "from transformers import TrainingArguments, Trainer, AutoModelForSequenceClassification",
   "id": "d152b32b47be31c3",
   "outputs": [],
   "execution_count": 28
  },
  {
   "metadata": {
    "ExecuteTime": {
     "end_time": "2024-11-07T13:50:14.386730Z",
     "start_time": "2024-11-07T13:50:12.142265Z"
    }
   },
   "cell_type": "code",
   "source": [
    "model = AutoModelForSequenceClassification.from_pretrained(checkpoint, num_labels=len(id2label), ignore_mismatched_sizes=True)\n",
    "\n",
    "training_args = TrainingArguments(output_dir=\"test_trainer\", eval_strategy=\"epoch\")"
   ],
   "id": "c591732acc3144e6",
   "outputs": [
    {
     "name": "stderr",
     "output_type": "stream",
     "text": [
      "Some weights of BertForSequenceClassification were not initialized from the model checkpoint at amberoad/bert-multilingual-passage-reranking-msmarco and are newly initialized because the shapes did not match:\n",
      "- classifier.weight: found shape torch.Size([2, 768]) in the checkpoint and torch.Size([79, 768]) in the model instantiated\n",
      "- classifier.bias: found shape torch.Size([2]) in the checkpoint and torch.Size([79]) in the model instantiated\n",
      "You should probably TRAIN this model on a down-stream task to be able to use it for predictions and inference.\n"
     ]
    }
   ],
   "execution_count": 32
  },
  {
   "metadata": {
    "ExecuteTime": {
     "end_time": "2024-11-07T13:50:55.742548Z",
     "start_time": "2024-11-07T13:50:51.749756Z"
    }
   },
   "cell_type": "code",
   "source": [
    "trainer = Trainer(\n",
    "    model=model,\n",
    "    args=training_args,\n",
    "    train_dataset=tokenized_dataset[\"train\"],\n",
    "    eval_dataset=tokenized_dataset[\"test\"],\n",
    "    compute_metrics=compute_metrics,\n",
    ")"
   ],
   "id": "d0aed8492ecc72d2",
   "outputs": [
    {
     "name": "stderr",
     "output_type": "stream",
     "text": [
      "huggingface/tokenizers: The current process just got forked, after parallelism has already been used. Disabling parallelism to avoid deadlocks...\n",
      "To disable this warning, you can either:\n",
      "\t- Avoid using `tokenizers` before the fork if possible\n",
      "\t- Explicitly set the environment variable TOKENIZERS_PARALLELISM=(true | false)\n",
      "[codecarbon INFO @ 15:50:52] [setup] RAM Tracking...\n",
      "[codecarbon INFO @ 15:50:52] [setup] GPU Tracking...\n",
      "[codecarbon INFO @ 15:50:52] No GPU found.\n",
      "[codecarbon INFO @ 15:50:52] [setup] CPU Tracking...\n",
      "huggingface/tokenizers: The current process just got forked, after parallelism has already been used. Disabling parallelism to avoid deadlocks...\n",
      "To disable this warning, you can either:\n",
      "\t- Avoid using `tokenizers` before the fork if possible\n",
      "\t- Explicitly set the environment variable TOKENIZERS_PARALLELISM=(true | false)\n",
      "huggingface/tokenizers: The current process just got forked, after parallelism has already been used. Disabling parallelism to avoid deadlocks...\n",
      "To disable this warning, you can either:\n",
      "\t- Avoid using `tokenizers` before the fork if possible\n",
      "\t- Explicitly set the environment variable TOKENIZERS_PARALLELISM=(true | false)\n",
      "[codecarbon WARNING @ 15:50:52] No CPU tracking mode found. Falling back on CPU constant mode.\n",
      "huggingface/tokenizers: The current process just got forked, after parallelism has already been used. Disabling parallelism to avoid deadlocks...\n",
      "To disable this warning, you can either:\n",
      "\t- Avoid using `tokenizers` before the fork if possible\n",
      "\t- Explicitly set the environment variable TOKENIZERS_PARALLELISM=(true | false)\n",
      "[codecarbon WARNING @ 15:50:52] We saw that you have a Apple M2 but we don't know it. Please contact us.\n",
      "[codecarbon INFO @ 15:50:52] CPU Model on constant consumption mode: Apple M2\n",
      "[codecarbon INFO @ 15:50:52] >>> Tracker's metadata:\n",
      "[codecarbon INFO @ 15:50:52]   Platform system: macOS-15.1-arm64-arm-64bit\n",
      "[codecarbon INFO @ 15:50:52]   Python version: 3.12.3\n",
      "[codecarbon INFO @ 15:50:52]   CodeCarbon version: 2.3.5\n",
      "[codecarbon INFO @ 15:50:52]   Available RAM : 16.000 GB\n",
      "[codecarbon INFO @ 15:50:52]   CPU count: 8\n",
      "[codecarbon INFO @ 15:50:52]   CPU model: Apple M2\n",
      "[codecarbon INFO @ 15:50:52]   GPU count: None\n",
      "[codecarbon INFO @ 15:50:52]   GPU model: None\n"
     ]
    }
   ],
   "execution_count": 33
  },
  {
   "metadata": {
    "ExecuteTime": {
     "end_time": "2024-11-07T13:51:39.286329Z",
     "start_time": "2024-11-07T13:51:38.924982Z"
    }
   },
   "cell_type": "code",
   "source": "trainer.train()",
   "id": "ad1280c4cc2933ab",
   "outputs": [
    {
     "ename": "ValueError",
     "evalue": "expected sequence of length 21 at dim 1 (got 24)",
     "output_type": "error",
     "traceback": [
      "\u001B[0;31m---------------------------------------------------------------------------\u001B[0m",
      "\u001B[0;31mValueError\u001B[0m                                Traceback (most recent call last)",
      "Cell \u001B[0;32mIn[34], line 1\u001B[0m\n\u001B[0;32m----> 1\u001B[0m \u001B[43mtrainer\u001B[49m\u001B[38;5;241;43m.\u001B[39;49m\u001B[43mtrain\u001B[49m\u001B[43m(\u001B[49m\u001B[43m)\u001B[49m\n",
      "File \u001B[0;32m~/PycharmProjects/kategorijos_huggin_face/.venv/lib/python3.12/site-packages/transformers/trainer.py:2052\u001B[0m, in \u001B[0;36mTrainer.train\u001B[0;34m(self, resume_from_checkpoint, trial, ignore_keys_for_eval, **kwargs)\u001B[0m\n\u001B[1;32m   2050\u001B[0m         hf_hub_utils\u001B[38;5;241m.\u001B[39menable_progress_bars()\n\u001B[1;32m   2051\u001B[0m \u001B[38;5;28;01melse\u001B[39;00m:\n\u001B[0;32m-> 2052\u001B[0m     \u001B[38;5;28;01mreturn\u001B[39;00m \u001B[43minner_training_loop\u001B[49m\u001B[43m(\u001B[49m\n\u001B[1;32m   2053\u001B[0m \u001B[43m        \u001B[49m\u001B[43margs\u001B[49m\u001B[38;5;241;43m=\u001B[39;49m\u001B[43margs\u001B[49m\u001B[43m,\u001B[49m\n\u001B[1;32m   2054\u001B[0m \u001B[43m        \u001B[49m\u001B[43mresume_from_checkpoint\u001B[49m\u001B[38;5;241;43m=\u001B[39;49m\u001B[43mresume_from_checkpoint\u001B[49m\u001B[43m,\u001B[49m\n\u001B[1;32m   2055\u001B[0m \u001B[43m        \u001B[49m\u001B[43mtrial\u001B[49m\u001B[38;5;241;43m=\u001B[39;49m\u001B[43mtrial\u001B[49m\u001B[43m,\u001B[49m\n\u001B[1;32m   2056\u001B[0m \u001B[43m        \u001B[49m\u001B[43mignore_keys_for_eval\u001B[49m\u001B[38;5;241;43m=\u001B[39;49m\u001B[43mignore_keys_for_eval\u001B[49m\u001B[43m,\u001B[49m\n\u001B[1;32m   2057\u001B[0m \u001B[43m    \u001B[49m\u001B[43m)\u001B[49m\n",
      "File \u001B[0;32m~/PycharmProjects/kategorijos_huggin_face/.venv/lib/python3.12/site-packages/transformers/trainer.py:2345\u001B[0m, in \u001B[0;36mTrainer._inner_training_loop\u001B[0;34m(self, batch_size, args, resume_from_checkpoint, trial, ignore_keys_for_eval)\u001B[0m\n\u001B[1;32m   2342\u001B[0m     rng_to_sync \u001B[38;5;241m=\u001B[39m \u001B[38;5;28;01mTrue\u001B[39;00m\n\u001B[1;32m   2344\u001B[0m step \u001B[38;5;241m=\u001B[39m \u001B[38;5;241m-\u001B[39m\u001B[38;5;241m1\u001B[39m\n\u001B[0;32m-> 2345\u001B[0m \u001B[43m\u001B[49m\u001B[38;5;28;43;01mfor\u001B[39;49;00m\u001B[43m \u001B[49m\u001B[43mstep\u001B[49m\u001B[43m,\u001B[49m\u001B[43m \u001B[49m\u001B[43minputs\u001B[49m\u001B[43m \u001B[49m\u001B[38;5;129;43;01min\u001B[39;49;00m\u001B[43m \u001B[49m\u001B[38;5;28;43menumerate\u001B[39;49m\u001B[43m(\u001B[49m\u001B[43mepoch_iterator\u001B[49m\u001B[43m)\u001B[49m\u001B[43m:\u001B[49m\n\u001B[1;32m   2346\u001B[0m \u001B[43m    \u001B[49m\u001B[43mtotal_batched_samples\u001B[49m\u001B[43m \u001B[49m\u001B[38;5;241;43m+\u001B[39;49m\u001B[38;5;241;43m=\u001B[39;49m\u001B[43m \u001B[49m\u001B[38;5;241;43m1\u001B[39;49m\n\u001B[1;32m   2348\u001B[0m \u001B[43m    \u001B[49m\u001B[38;5;28;43;01mif\u001B[39;49;00m\u001B[43m \u001B[49m\u001B[38;5;28;43mself\u001B[39;49m\u001B[38;5;241;43m.\u001B[39;49m\u001B[43margs\u001B[49m\u001B[38;5;241;43m.\u001B[39;49m\u001B[43minclude_num_input_tokens_seen\u001B[49m\u001B[43m:\u001B[49m\n",
      "File \u001B[0;32m~/PycharmProjects/kategorijos_huggin_face/.venv/lib/python3.12/site-packages/accelerate/data_loader.py:550\u001B[0m, in \u001B[0;36mDataLoaderShard.__iter__\u001B[0;34m(self)\u001B[0m\n\u001B[1;32m    548\u001B[0m \u001B[38;5;66;03m# We iterate one batch ahead to check when we are at the end\u001B[39;00m\n\u001B[1;32m    549\u001B[0m \u001B[38;5;28;01mtry\u001B[39;00m:\n\u001B[0;32m--> 550\u001B[0m     current_batch \u001B[38;5;241m=\u001B[39m \u001B[38;5;28;43mnext\u001B[39;49m\u001B[43m(\u001B[49m\u001B[43mdataloader_iter\u001B[49m\u001B[43m)\u001B[49m\n\u001B[1;32m    551\u001B[0m \u001B[38;5;28;01mexcept\u001B[39;00m \u001B[38;5;167;01mStopIteration\u001B[39;00m:\n\u001B[1;32m    552\u001B[0m     \u001B[38;5;28;01myield\u001B[39;00m\n",
      "File \u001B[0;32m~/PycharmProjects/kategorijos_huggin_face/.venv/lib/python3.12/site-packages/torch/utils/data/dataloader.py:701\u001B[0m, in \u001B[0;36m_BaseDataLoaderIter.__next__\u001B[0;34m(self)\u001B[0m\n\u001B[1;32m    698\u001B[0m \u001B[38;5;28;01mif\u001B[39;00m \u001B[38;5;28mself\u001B[39m\u001B[38;5;241m.\u001B[39m_sampler_iter \u001B[38;5;129;01mis\u001B[39;00m \u001B[38;5;28;01mNone\u001B[39;00m:\n\u001B[1;32m    699\u001B[0m     \u001B[38;5;66;03m# TODO(https://github.com/pytorch/pytorch/issues/76750)\u001B[39;00m\n\u001B[1;32m    700\u001B[0m     \u001B[38;5;28mself\u001B[39m\u001B[38;5;241m.\u001B[39m_reset()  \u001B[38;5;66;03m# type: ignore[call-arg]\u001B[39;00m\n\u001B[0;32m--> 701\u001B[0m data \u001B[38;5;241m=\u001B[39m \u001B[38;5;28;43mself\u001B[39;49m\u001B[38;5;241;43m.\u001B[39;49m\u001B[43m_next_data\u001B[49m\u001B[43m(\u001B[49m\u001B[43m)\u001B[49m\n\u001B[1;32m    702\u001B[0m \u001B[38;5;28mself\u001B[39m\u001B[38;5;241m.\u001B[39m_num_yielded \u001B[38;5;241m+\u001B[39m\u001B[38;5;241m=\u001B[39m \u001B[38;5;241m1\u001B[39m\n\u001B[1;32m    703\u001B[0m \u001B[38;5;28;01mif\u001B[39;00m (\n\u001B[1;32m    704\u001B[0m     \u001B[38;5;28mself\u001B[39m\u001B[38;5;241m.\u001B[39m_dataset_kind \u001B[38;5;241m==\u001B[39m _DatasetKind\u001B[38;5;241m.\u001B[39mIterable\n\u001B[1;32m    705\u001B[0m     \u001B[38;5;129;01mand\u001B[39;00m \u001B[38;5;28mself\u001B[39m\u001B[38;5;241m.\u001B[39m_IterableDataset_len_called \u001B[38;5;129;01mis\u001B[39;00m \u001B[38;5;129;01mnot\u001B[39;00m \u001B[38;5;28;01mNone\u001B[39;00m\n\u001B[1;32m    706\u001B[0m     \u001B[38;5;129;01mand\u001B[39;00m \u001B[38;5;28mself\u001B[39m\u001B[38;5;241m.\u001B[39m_num_yielded \u001B[38;5;241m>\u001B[39m \u001B[38;5;28mself\u001B[39m\u001B[38;5;241m.\u001B[39m_IterableDataset_len_called\n\u001B[1;32m    707\u001B[0m ):\n",
      "File \u001B[0;32m~/PycharmProjects/kategorijos_huggin_face/.venv/lib/python3.12/site-packages/torch/utils/data/dataloader.py:757\u001B[0m, in \u001B[0;36m_SingleProcessDataLoaderIter._next_data\u001B[0;34m(self)\u001B[0m\n\u001B[1;32m    755\u001B[0m \u001B[38;5;28;01mdef\u001B[39;00m \u001B[38;5;21m_next_data\u001B[39m(\u001B[38;5;28mself\u001B[39m):\n\u001B[1;32m    756\u001B[0m     index \u001B[38;5;241m=\u001B[39m \u001B[38;5;28mself\u001B[39m\u001B[38;5;241m.\u001B[39m_next_index()  \u001B[38;5;66;03m# may raise StopIteration\u001B[39;00m\n\u001B[0;32m--> 757\u001B[0m     data \u001B[38;5;241m=\u001B[39m \u001B[38;5;28;43mself\u001B[39;49m\u001B[38;5;241;43m.\u001B[39;49m\u001B[43m_dataset_fetcher\u001B[49m\u001B[38;5;241;43m.\u001B[39;49m\u001B[43mfetch\u001B[49m\u001B[43m(\u001B[49m\u001B[43mindex\u001B[49m\u001B[43m)\u001B[49m  \u001B[38;5;66;03m# may raise StopIteration\u001B[39;00m\n\u001B[1;32m    758\u001B[0m     \u001B[38;5;28;01mif\u001B[39;00m \u001B[38;5;28mself\u001B[39m\u001B[38;5;241m.\u001B[39m_pin_memory:\n\u001B[1;32m    759\u001B[0m         data \u001B[38;5;241m=\u001B[39m _utils\u001B[38;5;241m.\u001B[39mpin_memory\u001B[38;5;241m.\u001B[39mpin_memory(data, \u001B[38;5;28mself\u001B[39m\u001B[38;5;241m.\u001B[39m_pin_memory_device)\n",
      "File \u001B[0;32m~/PycharmProjects/kategorijos_huggin_face/.venv/lib/python3.12/site-packages/torch/utils/data/_utils/fetch.py:55\u001B[0m, in \u001B[0;36m_MapDatasetFetcher.fetch\u001B[0;34m(self, possibly_batched_index)\u001B[0m\n\u001B[1;32m     53\u001B[0m \u001B[38;5;28;01melse\u001B[39;00m:\n\u001B[1;32m     54\u001B[0m     data \u001B[38;5;241m=\u001B[39m \u001B[38;5;28mself\u001B[39m\u001B[38;5;241m.\u001B[39mdataset[possibly_batched_index]\n\u001B[0;32m---> 55\u001B[0m \u001B[38;5;28;01mreturn\u001B[39;00m \u001B[38;5;28;43mself\u001B[39;49m\u001B[38;5;241;43m.\u001B[39;49m\u001B[43mcollate_fn\u001B[49m\u001B[43m(\u001B[49m\u001B[43mdata\u001B[49m\u001B[43m)\u001B[49m\n",
      "File \u001B[0;32m~/PycharmProjects/kategorijos_huggin_face/.venv/lib/python3.12/site-packages/transformers/data/data_collator.py:92\u001B[0m, in \u001B[0;36mdefault_data_collator\u001B[0;34m(features, return_tensors)\u001B[0m\n\u001B[1;32m     86\u001B[0m \u001B[38;5;66;03m# In this function we'll make the assumption that all `features` in the batch\u001B[39;00m\n\u001B[1;32m     87\u001B[0m \u001B[38;5;66;03m# have the same attributes.\u001B[39;00m\n\u001B[1;32m     88\u001B[0m \u001B[38;5;66;03m# So we will look at the first element as a proxy for what attributes exist\u001B[39;00m\n\u001B[1;32m     89\u001B[0m \u001B[38;5;66;03m# on the whole batch.\u001B[39;00m\n\u001B[1;32m     91\u001B[0m \u001B[38;5;28;01mif\u001B[39;00m return_tensors \u001B[38;5;241m==\u001B[39m \u001B[38;5;124m\"\u001B[39m\u001B[38;5;124mpt\u001B[39m\u001B[38;5;124m\"\u001B[39m:\n\u001B[0;32m---> 92\u001B[0m     \u001B[38;5;28;01mreturn\u001B[39;00m \u001B[43mtorch_default_data_collator\u001B[49m\u001B[43m(\u001B[49m\u001B[43mfeatures\u001B[49m\u001B[43m)\u001B[49m\n\u001B[1;32m     93\u001B[0m \u001B[38;5;28;01melif\u001B[39;00m return_tensors \u001B[38;5;241m==\u001B[39m \u001B[38;5;124m\"\u001B[39m\u001B[38;5;124mtf\u001B[39m\u001B[38;5;124m\"\u001B[39m:\n\u001B[1;32m     94\u001B[0m     \u001B[38;5;28;01mreturn\u001B[39;00m tf_default_data_collator(features)\n",
      "File \u001B[0;32m~/PycharmProjects/kategorijos_huggin_face/.venv/lib/python3.12/site-packages/transformers/data/data_collator.py:158\u001B[0m, in \u001B[0;36mtorch_default_data_collator\u001B[0;34m(features)\u001B[0m\n\u001B[1;32m    156\u001B[0m             batch[k] \u001B[38;5;241m=\u001B[39m torch\u001B[38;5;241m.\u001B[39mfrom_numpy(np\u001B[38;5;241m.\u001B[39mstack([f[k] \u001B[38;5;28;01mfor\u001B[39;00m f \u001B[38;5;129;01min\u001B[39;00m features]))\n\u001B[1;32m    157\u001B[0m         \u001B[38;5;28;01melse\u001B[39;00m:\n\u001B[0;32m--> 158\u001B[0m             batch[k] \u001B[38;5;241m=\u001B[39m \u001B[43mtorch\u001B[49m\u001B[38;5;241;43m.\u001B[39;49m\u001B[43mtensor\u001B[49m\u001B[43m(\u001B[49m\u001B[43m[\u001B[49m\u001B[43mf\u001B[49m\u001B[43m[\u001B[49m\u001B[43mk\u001B[49m\u001B[43m]\u001B[49m\u001B[43m \u001B[49m\u001B[38;5;28;43;01mfor\u001B[39;49;00m\u001B[43m \u001B[49m\u001B[43mf\u001B[49m\u001B[43m \u001B[49m\u001B[38;5;129;43;01min\u001B[39;49;00m\u001B[43m \u001B[49m\u001B[43mfeatures\u001B[49m\u001B[43m]\u001B[49m\u001B[43m)\u001B[49m\n\u001B[1;32m    160\u001B[0m \u001B[38;5;28;01mreturn\u001B[39;00m batch\n",
      "\u001B[0;31mValueError\u001B[0m: expected sequence of length 21 at dim 1 (got 24)"
     ]
    }
   ],
   "execution_count": 34
  },
  {
   "metadata": {
    "ExecuteTime": {
     "end_time": "2024-11-07T13:36:52.092045Z",
     "start_time": "2024-11-07T13:36:51.758452Z"
    }
   },
   "cell_type": "code",
   "source": "from transformers import AutoModelForSequenceClassification, TrainingArguments, Trainer",
   "id": "f86dfe1e2a2dc7ff",
   "outputs": [],
   "execution_count": 13
  },
  {
   "metadata": {
    "ExecuteTime": {
     "end_time": "2024-11-07T11:23:15.061743Z",
     "start_time": "2024-11-07T11:23:12.577246Z"
    }
   },
   "cell_type": "code",
   "source": "model = AutoModelForSequenceClassification.from_pretrained(checkpoint, num_labels=len(id2label), id2label=id2label, label2id=label2id, ignore_mismatched_sizes=True)",
   "id": "7a09922996b9b1f0",
   "outputs": [
    {
     "name": "stderr",
     "output_type": "stream",
     "text": [
      "Some weights of BertForSequenceClassification were not initialized from the model checkpoint at amberoad/bert-multilingual-passage-reranking-msmarco and are newly initialized because the shapes did not match:\n",
      "- classifier.weight: found shape torch.Size([2, 768]) in the checkpoint and torch.Size([79, 768]) in the model instantiated\n",
      "- classifier.bias: found shape torch.Size([2]) in the checkpoint and torch.Size([79]) in the model instantiated\n",
      "You should probably TRAIN this model on a down-stream task to be able to use it for predictions and inference.\n"
     ]
    }
   ],
   "execution_count": 30
  },
  {
   "metadata": {
    "ExecuteTime": {
     "end_time": "2024-11-07T11:24:49.680804Z",
     "start_time": "2024-11-07T11:24:44.305379Z"
    }
   },
   "cell_type": "code",
   "source": [
    "training_args = TrainingArguments(\n",
    "    output_dir=\"category_predictor_for_household_equipments\",\n",
    "    learning_rate=2e-5,\n",
    "    per_device_train_batch_size=16,\n",
    "    per_device_eval_batch_size=16,\n",
    "    num_train_epochs=3,\n",
    "    weight_decay=0.01,\n",
    "    evaluation_strategy=\"epoch\",\n",
    "    save_total_limit=2,\n",
    "    push_to_hub=True,\n",
    ")\n",
    "\n",
    "trainer = Trainer(\n",
    "    model=model,\n",
    "    args=training_args,\n",
    "    train_dataset=tokenized_dataset[\"train\"],\n",
    "    eval_dataset=tokenized_dataset[\"test\"],\n",
    "    data_collator=data_collator,\n",
    "    compute_metrics=compute_metrics,\n",
    ")"
   ],
   "id": "1dc381d0ab93d7df",
   "outputs": [
    {
     "name": "stderr",
     "output_type": "stream",
     "text": [
      "/Users/zilvinasmacius/PycharmProjects/kategorijos_huggin_face/.venv/lib/python3.12/site-packages/transformers/training_args.py:1545: FutureWarning: `evaluation_strategy` is deprecated and will be removed in version 4.46 of 🤗 Transformers. Use `eval_strategy` instead\n",
      "  warnings.warn(\n",
      "huggingface/tokenizers: The current process just got forked, after parallelism has already been used. Disabling parallelism to avoid deadlocks...\n",
      "To disable this warning, you can either:\n",
      "\t- Avoid using `tokenizers` before the fork if possible\n",
      "\t- Explicitly set the environment variable TOKENIZERS_PARALLELISM=(true | false)\n",
      "[codecarbon INFO @ 13:24:46] [setup] RAM Tracking...\n",
      "[codecarbon INFO @ 13:24:46] [setup] GPU Tracking...\n",
      "[codecarbon INFO @ 13:24:46] No GPU found.\n",
      "[codecarbon INFO @ 13:24:46] [setup] CPU Tracking...\n",
      "huggingface/tokenizers: The current process just got forked, after parallelism has already been used. Disabling parallelism to avoid deadlocks...\n",
      "To disable this warning, you can either:\n",
      "\t- Avoid using `tokenizers` before the fork if possible\n",
      "\t- Explicitly set the environment variable TOKENIZERS_PARALLELISM=(true | false)\n",
      "huggingface/tokenizers: The current process just got forked, after parallelism has already been used. Disabling parallelism to avoid deadlocks...\n",
      "To disable this warning, you can either:\n",
      "\t- Avoid using `tokenizers` before the fork if possible\n",
      "\t- Explicitly set the environment variable TOKENIZERS_PARALLELISM=(true | false)\n",
      "[codecarbon WARNING @ 13:24:46] No CPU tracking mode found. Falling back on CPU constant mode.\n",
      "huggingface/tokenizers: The current process just got forked, after parallelism has already been used. Disabling parallelism to avoid deadlocks...\n",
      "To disable this warning, you can either:\n",
      "\t- Avoid using `tokenizers` before the fork if possible\n",
      "\t- Explicitly set the environment variable TOKENIZERS_PARALLELISM=(true | false)\n",
      "[codecarbon WARNING @ 13:24:46] We saw that you have a Apple M2 but we don't know it. Please contact us.\n",
      "[codecarbon INFO @ 13:24:46] CPU Model on constant consumption mode: Apple M2\n",
      "[codecarbon INFO @ 13:24:46] >>> Tracker's metadata:\n",
      "[codecarbon INFO @ 13:24:46]   Platform system: macOS-15.1-arm64-arm-64bit\n",
      "[codecarbon INFO @ 13:24:46]   Python version: 3.12.3\n",
      "[codecarbon INFO @ 13:24:46]   CodeCarbon version: 2.3.5\n",
      "[codecarbon INFO @ 13:24:46]   Available RAM : 16.000 GB\n",
      "[codecarbon INFO @ 13:24:46]   CPU count: 8\n",
      "[codecarbon INFO @ 13:24:46]   CPU model: Apple M2\n",
      "[codecarbon INFO @ 13:24:46]   GPU count: None\n",
      "[codecarbon INFO @ 13:24:46]   GPU model: None\n"
     ]
    }
   ],
   "execution_count": 35
  },
  {
   "metadata": {
    "ExecuteTime": {
     "end_time": "2024-11-07T11:57:15.696664Z",
     "start_time": "2024-11-07T11:25:06.913963Z"
    }
   },
   "cell_type": "code",
   "source": [
    "# import torch\n",
    "# torch.cuda.empty_cache() # Atminčiai sumazinti\n",
    "\n",
    "trainer.train()"
   ],
   "id": "7774e6f317f0dfca",
   "outputs": [
    {
     "data": {
      "text/plain": [
       "<IPython.core.display.HTML object>"
      ],
      "text/html": [
       "\n",
       "    <div>\n",
       "      \n",
       "      <progress value='4887' max='4887' style='width:300px; height:20px; vertical-align: middle;'></progress>\n",
       "      [4887/4887 31:42, Epoch 3/3]\n",
       "    </div>\n",
       "    <table border=\"1\" class=\"dataframe\">\n",
       "  <thead>\n",
       " <tr style=\"text-align: left;\">\n",
       "      <th>Epoch</th>\n",
       "      <th>Training Loss</th>\n",
       "      <th>Validation Loss</th>\n",
       "      <th>Accuracy</th>\n",
       "    </tr>\n",
       "  </thead>\n",
       "  <tbody>\n",
       "    <tr>\n",
       "      <td>1</td>\n",
       "      <td>1.273200</td>\n",
       "      <td>0.982593</td>\n",
       "      <td>0.783956</td>\n",
       "    </tr>\n",
       "    <tr>\n",
       "      <td>2</td>\n",
       "      <td>0.741200</td>\n",
       "      <td>0.689020</td>\n",
       "      <td>0.836085</td>\n",
       "    </tr>\n",
       "    <tr>\n",
       "      <td>3</td>\n",
       "      <td>0.536500</td>\n",
       "      <td>0.613182</td>\n",
       "      <td>0.849986</td>\n",
       "    </tr>\n",
       "  </tbody>\n",
       "</table><p>"
      ]
     },
     "metadata": {},
     "output_type": "display_data"
    },
    {
     "name": "stderr",
     "output_type": "stream",
     "text": [
      "[codecarbon INFO @ 13:25:22] Energy consumed for RAM : 0.000025 kWh. RAM Power : 6.0 W\n",
      "[codecarbon INFO @ 13:25:22] Energy consumed for all CPUs : 0.000177 kWh. Total CPU Power : 42.5 W\n",
      "[codecarbon INFO @ 13:25:22] 0.000202 kWh of electricity used since the beginning.\n",
      "[codecarbon INFO @ 13:25:37] Energy consumed for RAM : 0.000050 kWh. RAM Power : 6.0 W\n",
      "[codecarbon INFO @ 13:25:37] Energy consumed for all CPUs : 0.000354 kWh. Total CPU Power : 42.5 W\n",
      "[codecarbon INFO @ 13:25:37] 0.000404 kWh of electricity used since the beginning.\n",
      "[codecarbon INFO @ 13:25:52] Energy consumed for RAM : 0.000075 kWh. RAM Power : 6.0 W\n",
      "[codecarbon INFO @ 13:25:52] Energy consumed for all CPUs : 0.000531 kWh. Total CPU Power : 42.5 W\n",
      "[codecarbon INFO @ 13:25:52] 0.000606 kWh of electricity used since the beginning.\n",
      "[codecarbon INFO @ 13:26:07] Energy consumed for RAM : 0.000100 kWh. RAM Power : 6.0 W\n",
      "[codecarbon INFO @ 13:26:07] Energy consumed for all CPUs : 0.000709 kWh. Total CPU Power : 42.5 W\n",
      "[codecarbon INFO @ 13:26:07] 0.000809 kWh of electricity used since the beginning.\n",
      "[codecarbon INFO @ 13:26:22] Energy consumed for RAM : 0.000125 kWh. RAM Power : 6.0 W\n",
      "[codecarbon INFO @ 13:26:22] Energy consumed for all CPUs : 0.000886 kWh. Total CPU Power : 42.5 W\n",
      "[codecarbon INFO @ 13:26:22] 0.001011 kWh of electricity used since the beginning.\n",
      "[codecarbon INFO @ 13:26:37] Energy consumed for RAM : 0.000150 kWh. RAM Power : 6.0 W\n",
      "[codecarbon INFO @ 13:26:37] Energy consumed for all CPUs : 0.001063 kWh. Total CPU Power : 42.5 W\n",
      "[codecarbon INFO @ 13:26:37] 0.001213 kWh of electricity used since the beginning.\n",
      "[codecarbon INFO @ 13:26:52] Energy consumed for RAM : 0.000175 kWh. RAM Power : 6.0 W\n",
      "[codecarbon INFO @ 13:26:52] Energy consumed for all CPUs : 0.001240 kWh. Total CPU Power : 42.5 W\n",
      "[codecarbon INFO @ 13:26:52] 0.001415 kWh of electricity used since the beginning.\n",
      "[codecarbon INFO @ 13:27:07] Energy consumed for RAM : 0.000200 kWh. RAM Power : 6.0 W\n",
      "[codecarbon INFO @ 13:27:07] Energy consumed for all CPUs : 0.001417 kWh. Total CPU Power : 42.5 W\n",
      "[codecarbon INFO @ 13:27:07] 0.001617 kWh of electricity used since the beginning.\n",
      "[codecarbon INFO @ 13:27:22] Energy consumed for RAM : 0.000225 kWh. RAM Power : 6.0 W\n",
      "[codecarbon INFO @ 13:27:22] Energy consumed for all CPUs : 0.001594 kWh. Total CPU Power : 42.5 W\n",
      "[codecarbon INFO @ 13:27:22] 0.001819 kWh of electricity used since the beginning.\n",
      "[codecarbon INFO @ 13:27:37] Energy consumed for RAM : 0.000250 kWh. RAM Power : 6.0 W\n",
      "[codecarbon INFO @ 13:27:37] Energy consumed for all CPUs : 0.001771 kWh. Total CPU Power : 42.5 W\n",
      "[codecarbon INFO @ 13:27:37] 0.002021 kWh of electricity used since the beginning.\n",
      "[codecarbon INFO @ 13:27:52] Energy consumed for RAM : 0.000275 kWh. RAM Power : 6.0 W\n",
      "[codecarbon INFO @ 13:27:52] Energy consumed for all CPUs : 0.001949 kWh. Total CPU Power : 42.5 W\n",
      "[codecarbon INFO @ 13:27:52] 0.002224 kWh of electricity used since the beginning.\n",
      "[codecarbon INFO @ 13:28:07] Energy consumed for RAM : 0.000300 kWh. RAM Power : 6.0 W\n",
      "[codecarbon INFO @ 13:28:07] Energy consumed for all CPUs : 0.002126 kWh. Total CPU Power : 42.5 W\n",
      "[codecarbon INFO @ 13:28:07] 0.002426 kWh of electricity used since the beginning.\n",
      "[codecarbon INFO @ 13:28:22] Energy consumed for RAM : 0.000325 kWh. RAM Power : 6.0 W\n",
      "[codecarbon INFO @ 13:28:22] Energy consumed for all CPUs : 0.002303 kWh. Total CPU Power : 42.5 W\n",
      "[codecarbon INFO @ 13:28:22] 0.002628 kWh of electricity used since the beginning.\n",
      "[codecarbon INFO @ 13:28:37] Energy consumed for RAM : 0.000350 kWh. RAM Power : 6.0 W\n",
      "[codecarbon INFO @ 13:28:37] Energy consumed for all CPUs : 0.002480 kWh. Total CPU Power : 42.5 W\n",
      "[codecarbon INFO @ 13:28:37] 0.002830 kWh of electricity used since the beginning.\n",
      "[codecarbon INFO @ 13:28:52] Energy consumed for RAM : 0.000375 kWh. RAM Power : 6.0 W\n",
      "[codecarbon INFO @ 13:28:52] Energy consumed for all CPUs : 0.002657 kWh. Total CPU Power : 42.5 W\n",
      "[codecarbon INFO @ 13:28:52] 0.003032 kWh of electricity used since the beginning.\n",
      "[codecarbon INFO @ 13:29:07] Energy consumed for RAM : 0.000400 kWh. RAM Power : 6.0 W\n",
      "[codecarbon INFO @ 13:29:07] Energy consumed for all CPUs : 0.002834 kWh. Total CPU Power : 42.5 W\n",
      "[codecarbon INFO @ 13:29:07] 0.003234 kWh of electricity used since the beginning.\n",
      "[codecarbon INFO @ 13:29:22] Energy consumed for RAM : 0.000425 kWh. RAM Power : 6.0 W\n",
      "[codecarbon INFO @ 13:29:22] Energy consumed for all CPUs : 0.003011 kWh. Total CPU Power : 42.5 W\n",
      "[codecarbon INFO @ 13:29:22] 0.003436 kWh of electricity used since the beginning.\n",
      "[codecarbon INFO @ 13:29:37] Energy consumed for RAM : 0.000450 kWh. RAM Power : 6.0 W\n",
      "[codecarbon INFO @ 13:29:37] Energy consumed for all CPUs : 0.003188 kWh. Total CPU Power : 42.5 W\n",
      "[codecarbon INFO @ 13:29:37] 0.003638 kWh of electricity used since the beginning.\n",
      "[codecarbon INFO @ 13:29:52] Energy consumed for RAM : 0.000475 kWh. RAM Power : 6.0 W\n",
      "[codecarbon INFO @ 13:29:52] Energy consumed for all CPUs : 0.003365 kWh. Total CPU Power : 42.5 W\n",
      "[codecarbon INFO @ 13:29:52] 0.003841 kWh of electricity used since the beginning.\n",
      "[codecarbon INFO @ 13:30:07] Energy consumed for RAM : 0.000500 kWh. RAM Power : 6.0 W\n",
      "[codecarbon INFO @ 13:30:07] Energy consumed for all CPUs : 0.003543 kWh. Total CPU Power : 42.5 W\n",
      "[codecarbon INFO @ 13:30:07] 0.004043 kWh of electricity used since the beginning.\n",
      "[codecarbon INFO @ 13:30:22] Energy consumed for RAM : 0.000525 kWh. RAM Power : 6.0 W\n",
      "[codecarbon INFO @ 13:30:22] Energy consumed for all CPUs : 0.003720 kWh. Total CPU Power : 42.5 W\n",
      "[codecarbon INFO @ 13:30:22] 0.004245 kWh of electricity used since the beginning.\n",
      "[codecarbon INFO @ 13:30:37] Energy consumed for RAM : 0.000550 kWh. RAM Power : 6.0 W\n",
      "[codecarbon INFO @ 13:30:37] Energy consumed for all CPUs : 0.003897 kWh. Total CPU Power : 42.5 W\n",
      "[codecarbon INFO @ 13:30:37] 0.004447 kWh of electricity used since the beginning.\n",
      "[codecarbon INFO @ 13:30:52] Energy consumed for RAM : 0.000575 kWh. RAM Power : 6.0 W\n",
      "[codecarbon INFO @ 13:30:52] Energy consumed for all CPUs : 0.004074 kWh. Total CPU Power : 42.5 W\n",
      "[codecarbon INFO @ 13:30:52] 0.004649 kWh of electricity used since the beginning.\n",
      "[codecarbon INFO @ 13:31:07] Energy consumed for RAM : 0.000600 kWh. RAM Power : 6.0 W\n",
      "[codecarbon INFO @ 13:31:07] Energy consumed for all CPUs : 0.004251 kWh. Total CPU Power : 42.5 W\n",
      "[codecarbon INFO @ 13:31:07] 0.004851 kWh of electricity used since the beginning.\n",
      "[codecarbon INFO @ 13:31:22] Energy consumed for RAM : 0.000625 kWh. RAM Power : 6.0 W\n",
      "[codecarbon INFO @ 13:31:22] Energy consumed for all CPUs : 0.004428 kWh. Total CPU Power : 42.5 W\n",
      "[codecarbon INFO @ 13:31:22] 0.005053 kWh of electricity used since the beginning.\n",
      "[codecarbon INFO @ 13:31:37] Energy consumed for RAM : 0.000650 kWh. RAM Power : 6.0 W\n",
      "[codecarbon INFO @ 13:31:37] Energy consumed for all CPUs : 0.004605 kWh. Total CPU Power : 42.5 W\n",
      "[codecarbon INFO @ 13:31:37] 0.005256 kWh of electricity used since the beginning.\n",
      "[codecarbon INFO @ 13:31:52] Energy consumed for RAM : 0.000675 kWh. RAM Power : 6.0 W\n",
      "[codecarbon INFO @ 13:31:52] Energy consumed for all CPUs : 0.004783 kWh. Total CPU Power : 42.5 W\n",
      "[codecarbon INFO @ 13:31:52] 0.005458 kWh of electricity used since the beginning.\n",
      "[codecarbon INFO @ 13:32:07] Energy consumed for RAM : 0.000700 kWh. RAM Power : 6.0 W\n",
      "[codecarbon INFO @ 13:32:07] Energy consumed for all CPUs : 0.004960 kWh. Total CPU Power : 42.5 W\n",
      "[codecarbon INFO @ 13:32:07] 0.005660 kWh of electricity used since the beginning.\n",
      "[codecarbon INFO @ 13:32:22] Energy consumed for RAM : 0.000725 kWh. RAM Power : 6.0 W\n",
      "[codecarbon INFO @ 13:32:22] Energy consumed for all CPUs : 0.005137 kWh. Total CPU Power : 42.5 W\n",
      "[codecarbon INFO @ 13:32:22] 0.005862 kWh of electricity used since the beginning.\n",
      "[codecarbon INFO @ 13:32:37] Energy consumed for RAM : 0.000750 kWh. RAM Power : 6.0 W\n",
      "[codecarbon INFO @ 13:32:37] Energy consumed for all CPUs : 0.005314 kWh. Total CPU Power : 42.5 W\n",
      "[codecarbon INFO @ 13:32:37] 0.006064 kWh of electricity used since the beginning.\n",
      "[codecarbon INFO @ 13:32:52] Energy consumed for RAM : 0.000775 kWh. RAM Power : 6.0 W\n",
      "[codecarbon INFO @ 13:32:52] Energy consumed for all CPUs : 0.005491 kWh. Total CPU Power : 42.5 W\n",
      "[codecarbon INFO @ 13:32:52] 0.006266 kWh of electricity used since the beginning.\n",
      "[codecarbon INFO @ 13:33:07] Energy consumed for RAM : 0.000800 kWh. RAM Power : 6.0 W\n",
      "[codecarbon INFO @ 13:33:07] Energy consumed for all CPUs : 0.005668 kWh. Total CPU Power : 42.5 W\n",
      "[codecarbon INFO @ 13:33:07] 0.006468 kWh of electricity used since the beginning.\n",
      "[codecarbon INFO @ 13:33:22] Energy consumed for RAM : 0.000825 kWh. RAM Power : 6.0 W\n",
      "[codecarbon INFO @ 13:33:22] Energy consumed for all CPUs : 0.005845 kWh. Total CPU Power : 42.5 W\n",
      "[codecarbon INFO @ 13:33:22] 0.006670 kWh of electricity used since the beginning.\n",
      "[codecarbon INFO @ 13:33:37] Energy consumed for RAM : 0.000850 kWh. RAM Power : 6.0 W\n",
      "[codecarbon INFO @ 13:33:37] Energy consumed for all CPUs : 0.006022 kWh. Total CPU Power : 42.5 W\n",
      "[codecarbon INFO @ 13:33:37] 0.006873 kWh of electricity used since the beginning.\n",
      "[codecarbon INFO @ 13:33:52] Energy consumed for RAM : 0.000875 kWh. RAM Power : 6.0 W\n",
      "[codecarbon INFO @ 13:33:52] Energy consumed for all CPUs : 0.006200 kWh. Total CPU Power : 42.5 W\n",
      "[codecarbon INFO @ 13:33:52] 0.007075 kWh of electricity used since the beginning.\n",
      "[codecarbon INFO @ 13:34:07] Energy consumed for RAM : 0.000900 kWh. RAM Power : 6.0 W\n",
      "[codecarbon INFO @ 13:34:07] Energy consumed for all CPUs : 0.006377 kWh. Total CPU Power : 42.5 W\n",
      "[codecarbon INFO @ 13:34:07] 0.007277 kWh of electricity used since the beginning.\n",
      "[codecarbon INFO @ 13:34:22] Energy consumed for RAM : 0.000925 kWh. RAM Power : 6.0 W\n",
      "[codecarbon INFO @ 13:34:22] Energy consumed for all CPUs : 0.006554 kWh. Total CPU Power : 42.5 W\n",
      "[codecarbon INFO @ 13:34:22] 0.007479 kWh of electricity used since the beginning.\n",
      "[codecarbon INFO @ 13:34:37] Energy consumed for RAM : 0.000950 kWh. RAM Power : 6.0 W\n",
      "[codecarbon INFO @ 13:34:37] Energy consumed for all CPUs : 0.006731 kWh. Total CPU Power : 42.5 W\n",
      "[codecarbon INFO @ 13:34:37] 0.007681 kWh of electricity used since the beginning.\n",
      "[codecarbon INFO @ 13:34:52] Energy consumed for RAM : 0.000975 kWh. RAM Power : 6.0 W\n",
      "[codecarbon INFO @ 13:34:52] Energy consumed for all CPUs : 0.006908 kWh. Total CPU Power : 42.5 W\n",
      "[codecarbon INFO @ 13:34:52] 0.007883 kWh of electricity used since the beginning.\n",
      "[codecarbon INFO @ 13:35:07] Energy consumed for RAM : 0.001000 kWh. RAM Power : 6.0 W\n",
      "[codecarbon INFO @ 13:35:07] Energy consumed for all CPUs : 0.007085 kWh. Total CPU Power : 42.5 W\n",
      "[codecarbon INFO @ 13:35:07] 0.008085 kWh of electricity used since the beginning.\n",
      "[codecarbon INFO @ 13:35:22] Energy consumed for RAM : 0.001025 kWh. RAM Power : 6.0 W\n",
      "[codecarbon INFO @ 13:35:22] Energy consumed for all CPUs : 0.007262 kWh. Total CPU Power : 42.5 W\n",
      "[codecarbon INFO @ 13:35:22] 0.008288 kWh of electricity used since the beginning.\n",
      "[codecarbon INFO @ 13:35:37] Energy consumed for RAM : 0.001050 kWh. RAM Power : 6.0 W\n",
      "[codecarbon INFO @ 13:35:37] Energy consumed for all CPUs : 0.007440 kWh. Total CPU Power : 42.5 W\n",
      "[codecarbon INFO @ 13:35:37] 0.008490 kWh of electricity used since the beginning.\n",
      "[codecarbon INFO @ 13:35:52] Energy consumed for RAM : 0.001075 kWh. RAM Power : 6.0 W\n",
      "[codecarbon INFO @ 13:35:52] Energy consumed for all CPUs : 0.007617 kWh. Total CPU Power : 42.5 W\n",
      "[codecarbon INFO @ 13:35:52] 0.008692 kWh of electricity used since the beginning.\n",
      "[codecarbon INFO @ 13:36:07] Energy consumed for RAM : 0.001100 kWh. RAM Power : 6.0 W\n",
      "[codecarbon INFO @ 13:36:07] Energy consumed for all CPUs : 0.007794 kWh. Total CPU Power : 42.5 W\n",
      "[codecarbon INFO @ 13:36:07] 0.008894 kWh of electricity used since the beginning.\n",
      "[codecarbon INFO @ 13:36:22] Energy consumed for RAM : 0.001125 kWh. RAM Power : 6.0 W\n",
      "[codecarbon INFO @ 13:36:22] Energy consumed for all CPUs : 0.007971 kWh. Total CPU Power : 42.5 W\n",
      "[codecarbon INFO @ 13:36:22] 0.009096 kWh of electricity used since the beginning.\n",
      "[codecarbon INFO @ 13:36:37] Energy consumed for RAM : 0.001150 kWh. RAM Power : 6.0 W\n",
      "[codecarbon INFO @ 13:36:37] Energy consumed for all CPUs : 0.008148 kWh. Total CPU Power : 42.5 W\n",
      "[codecarbon INFO @ 13:36:37] 0.009298 kWh of electricity used since the beginning.\n",
      "[codecarbon INFO @ 13:36:52] Energy consumed for RAM : 0.001175 kWh. RAM Power : 6.0 W\n",
      "[codecarbon INFO @ 13:36:52] Energy consumed for all CPUs : 0.008325 kWh. Total CPU Power : 42.5 W\n",
      "[codecarbon INFO @ 13:36:52] 0.009500 kWh of electricity used since the beginning.\n",
      "[codecarbon INFO @ 13:37:07] Energy consumed for RAM : 0.001200 kWh. RAM Power : 6.0 W\n",
      "[codecarbon INFO @ 13:37:07] Energy consumed for all CPUs : 0.008502 kWh. Total CPU Power : 42.5 W\n",
      "[codecarbon INFO @ 13:37:07] 0.009702 kWh of electricity used since the beginning.\n",
      "[codecarbon INFO @ 13:37:22] Energy consumed for RAM : 0.001225 kWh. RAM Power : 6.0 W\n",
      "[codecarbon INFO @ 13:37:22] Energy consumed for all CPUs : 0.008679 kWh. Total CPU Power : 42.5 W\n",
      "[codecarbon INFO @ 13:37:22] 0.009905 kWh of electricity used since the beginning.\n",
      "[codecarbon INFO @ 13:37:37] Energy consumed for RAM : 0.001250 kWh. RAM Power : 6.0 W\n",
      "[codecarbon INFO @ 13:37:37] Energy consumed for all CPUs : 0.008857 kWh. Total CPU Power : 42.5 W\n",
      "[codecarbon INFO @ 13:37:37] 0.010107 kWh of electricity used since the beginning.\n",
      "[codecarbon INFO @ 13:37:52] Energy consumed for RAM : 0.001275 kWh. RAM Power : 6.0 W\n",
      "[codecarbon INFO @ 13:37:52] Energy consumed for all CPUs : 0.009034 kWh. Total CPU Power : 42.5 W\n",
      "[codecarbon INFO @ 13:37:52] 0.010309 kWh of electricity used since the beginning.\n",
      "[codecarbon INFO @ 13:38:07] Energy consumed for RAM : 0.001300 kWh. RAM Power : 6.0 W\n",
      "[codecarbon INFO @ 13:38:07] Energy consumed for all CPUs : 0.009211 kWh. Total CPU Power : 42.5 W\n",
      "[codecarbon INFO @ 13:38:07] 0.010511 kWh of electricity used since the beginning.\n",
      "[codecarbon INFO @ 13:38:22] Energy consumed for RAM : 0.001325 kWh. RAM Power : 6.0 W\n",
      "[codecarbon INFO @ 13:38:22] Energy consumed for all CPUs : 0.009388 kWh. Total CPU Power : 42.5 W\n",
      "[codecarbon INFO @ 13:38:22] 0.010713 kWh of electricity used since the beginning.\n",
      "[codecarbon INFO @ 13:38:37] Energy consumed for RAM : 0.001350 kWh. RAM Power : 6.0 W\n",
      "[codecarbon INFO @ 13:38:37] Energy consumed for all CPUs : 0.009565 kWh. Total CPU Power : 42.5 W\n",
      "[codecarbon INFO @ 13:38:37] 0.010915 kWh of electricity used since the beginning.\n",
      "[codecarbon INFO @ 13:38:52] Energy consumed for RAM : 0.001375 kWh. RAM Power : 6.0 W\n",
      "[codecarbon INFO @ 13:38:52] Energy consumed for all CPUs : 0.009742 kWh. Total CPU Power : 42.5 W\n",
      "[codecarbon INFO @ 13:38:52] 0.011117 kWh of electricity used since the beginning.\n",
      "[codecarbon INFO @ 13:39:07] Energy consumed for RAM : 0.001400 kWh. RAM Power : 6.0 W\n",
      "[codecarbon INFO @ 13:39:07] Energy consumed for all CPUs : 0.009919 kWh. Total CPU Power : 42.5 W\n",
      "[codecarbon INFO @ 13:39:07] 0.011319 kWh of electricity used since the beginning.\n",
      "[codecarbon INFO @ 13:39:22] Energy consumed for RAM : 0.001425 kWh. RAM Power : 6.0 W\n",
      "[codecarbon INFO @ 13:39:22] Energy consumed for all CPUs : 0.010096 kWh. Total CPU Power : 42.5 W\n",
      "[codecarbon INFO @ 13:39:22] 0.011522 kWh of electricity used since the beginning.\n",
      "[codecarbon INFO @ 13:39:37] Energy consumed for RAM : 0.001450 kWh. RAM Power : 6.0 W\n",
      "[codecarbon INFO @ 13:39:37] Energy consumed for all CPUs : 0.010274 kWh. Total CPU Power : 42.5 W\n",
      "[codecarbon INFO @ 13:39:37] 0.011724 kWh of electricity used since the beginning.\n",
      "[codecarbon INFO @ 13:39:52] Energy consumed for RAM : 0.001475 kWh. RAM Power : 6.0 W\n",
      "[codecarbon INFO @ 13:39:52] Energy consumed for all CPUs : 0.010451 kWh. Total CPU Power : 42.5 W\n",
      "[codecarbon INFO @ 13:39:52] 0.011926 kWh of electricity used since the beginning.\n",
      "[codecarbon INFO @ 13:40:07] Energy consumed for RAM : 0.001500 kWh. RAM Power : 6.0 W\n",
      "[codecarbon INFO @ 13:40:07] Energy consumed for all CPUs : 0.010628 kWh. Total CPU Power : 42.5 W\n",
      "[codecarbon INFO @ 13:40:07] 0.012128 kWh of electricity used since the beginning.\n",
      "[codecarbon INFO @ 13:40:22] Energy consumed for RAM : 0.001525 kWh. RAM Power : 6.0 W\n",
      "[codecarbon INFO @ 13:40:22] Energy consumed for all CPUs : 0.010805 kWh. Total CPU Power : 42.5 W\n",
      "[codecarbon INFO @ 13:40:22] 0.012330 kWh of electricity used since the beginning.\n",
      "[codecarbon INFO @ 13:40:37] Energy consumed for RAM : 0.001550 kWh. RAM Power : 6.0 W\n",
      "[codecarbon INFO @ 13:40:37] Energy consumed for all CPUs : 0.010982 kWh. Total CPU Power : 42.5 W\n",
      "[codecarbon INFO @ 13:40:37] 0.012532 kWh of electricity used since the beginning.\n",
      "[codecarbon INFO @ 13:40:52] Energy consumed for RAM : 0.001575 kWh. RAM Power : 6.0 W\n",
      "[codecarbon INFO @ 13:40:52] Energy consumed for all CPUs : 0.011159 kWh. Total CPU Power : 42.5 W\n",
      "[codecarbon INFO @ 13:40:52] 0.012734 kWh of electricity used since the beginning.\n",
      "[codecarbon INFO @ 13:41:07] Energy consumed for RAM : 0.001600 kWh. RAM Power : 6.0 W\n",
      "[codecarbon INFO @ 13:41:07] Energy consumed for all CPUs : 0.011336 kWh. Total CPU Power : 42.5 W\n",
      "[codecarbon INFO @ 13:41:07] 0.012937 kWh of electricity used since the beginning.\n",
      "[codecarbon INFO @ 13:41:22] Energy consumed for RAM : 0.001625 kWh. RAM Power : 6.0 W\n",
      "[codecarbon INFO @ 13:41:22] Energy consumed for all CPUs : 0.011513 kWh. Total CPU Power : 42.5 W\n",
      "[codecarbon INFO @ 13:41:22] 0.013139 kWh of electricity used since the beginning.\n",
      "[codecarbon INFO @ 13:41:37] Energy consumed for RAM : 0.001650 kWh. RAM Power : 6.0 W\n",
      "[codecarbon INFO @ 13:41:37] Energy consumed for all CPUs : 0.011691 kWh. Total CPU Power : 42.5 W\n",
      "[codecarbon INFO @ 13:41:37] 0.013341 kWh of electricity used since the beginning.\n",
      "[codecarbon INFO @ 13:41:52] Energy consumed for RAM : 0.001675 kWh. RAM Power : 6.0 W\n",
      "[codecarbon INFO @ 13:41:52] Energy consumed for all CPUs : 0.011868 kWh. Total CPU Power : 42.5 W\n",
      "[codecarbon INFO @ 13:41:52] 0.013543 kWh of electricity used since the beginning.\n",
      "[codecarbon INFO @ 13:42:07] Energy consumed for RAM : 0.001700 kWh. RAM Power : 6.0 W\n",
      "[codecarbon INFO @ 13:42:07] Energy consumed for all CPUs : 0.012045 kWh. Total CPU Power : 42.5 W\n",
      "[codecarbon INFO @ 13:42:07] 0.013745 kWh of electricity used since the beginning.\n",
      "[codecarbon INFO @ 13:42:22] Energy consumed for RAM : 0.001725 kWh. RAM Power : 6.0 W\n",
      "[codecarbon INFO @ 13:42:22] Energy consumed for all CPUs : 0.012222 kWh. Total CPU Power : 42.5 W\n",
      "[codecarbon INFO @ 13:42:22] 0.013947 kWh of electricity used since the beginning.\n",
      "[codecarbon INFO @ 13:42:37] Energy consumed for RAM : 0.001750 kWh. RAM Power : 6.0 W\n",
      "[codecarbon INFO @ 13:42:37] Energy consumed for all CPUs : 0.012399 kWh. Total CPU Power : 42.5 W\n",
      "[codecarbon INFO @ 13:42:37] 0.014149 kWh of electricity used since the beginning.\n",
      "[codecarbon INFO @ 13:42:52] Energy consumed for RAM : 0.001775 kWh. RAM Power : 6.0 W\n",
      "[codecarbon INFO @ 13:42:52] Energy consumed for all CPUs : 0.012576 kWh. Total CPU Power : 42.5 W\n",
      "[codecarbon INFO @ 13:42:52] 0.014351 kWh of electricity used since the beginning.\n",
      "[codecarbon INFO @ 13:43:07] Energy consumed for RAM : 0.001800 kWh. RAM Power : 6.0 W\n",
      "[codecarbon INFO @ 13:43:07] Energy consumed for all CPUs : 0.012753 kWh. Total CPU Power : 42.5 W\n",
      "[codecarbon INFO @ 13:43:07] 0.014554 kWh of electricity used since the beginning.\n",
      "[codecarbon INFO @ 13:43:22] Energy consumed for RAM : 0.001825 kWh. RAM Power : 6.0 W\n",
      "[codecarbon INFO @ 13:43:22] Energy consumed for all CPUs : 0.012930 kWh. Total CPU Power : 42.5 W\n",
      "[codecarbon INFO @ 13:43:22] 0.014756 kWh of electricity used since the beginning.\n",
      "[codecarbon INFO @ 13:43:37] Energy consumed for RAM : 0.001850 kWh. RAM Power : 6.0 W\n",
      "[codecarbon INFO @ 13:43:37] Energy consumed for all CPUs : 0.013108 kWh. Total CPU Power : 42.5 W\n",
      "[codecarbon INFO @ 13:43:37] 0.014958 kWh of electricity used since the beginning.\n",
      "[codecarbon INFO @ 13:43:52] Energy consumed for RAM : 0.001875 kWh. RAM Power : 6.0 W\n",
      "[codecarbon INFO @ 13:43:52] Energy consumed for all CPUs : 0.013285 kWh. Total CPU Power : 42.5 W\n",
      "[codecarbon INFO @ 13:43:52] 0.015160 kWh of electricity used since the beginning.\n",
      "[codecarbon INFO @ 13:44:07] Energy consumed for RAM : 0.001900 kWh. RAM Power : 6.0 W\n",
      "[codecarbon INFO @ 13:44:07] Energy consumed for all CPUs : 0.013462 kWh. Total CPU Power : 42.5 W\n",
      "[codecarbon INFO @ 13:44:07] 0.015362 kWh of electricity used since the beginning.\n",
      "[codecarbon INFO @ 13:44:22] Energy consumed for RAM : 0.001925 kWh. RAM Power : 6.0 W\n",
      "[codecarbon INFO @ 13:44:22] Energy consumed for all CPUs : 0.013639 kWh. Total CPU Power : 42.5 W\n",
      "[codecarbon INFO @ 13:44:22] 0.015564 kWh of electricity used since the beginning.\n",
      "[codecarbon INFO @ 13:44:37] Energy consumed for RAM : 0.001950 kWh. RAM Power : 6.0 W\n",
      "[codecarbon INFO @ 13:44:37] Energy consumed for all CPUs : 0.013816 kWh. Total CPU Power : 42.5 W\n",
      "[codecarbon INFO @ 13:44:37] 0.015766 kWh of electricity used since the beginning.\n",
      "[codecarbon INFO @ 13:44:52] Energy consumed for RAM : 0.001975 kWh. RAM Power : 6.0 W\n",
      "[codecarbon INFO @ 13:44:52] Energy consumed for all CPUs : 0.013993 kWh. Total CPU Power : 42.5 W\n",
      "[codecarbon INFO @ 13:44:52] 0.015969 kWh of electricity used since the beginning.\n",
      "[codecarbon INFO @ 13:45:07] Energy consumed for RAM : 0.002000 kWh. RAM Power : 6.0 W\n",
      "[codecarbon INFO @ 13:45:07] Energy consumed for all CPUs : 0.014170 kWh. Total CPU Power : 42.5 W\n",
      "[codecarbon INFO @ 13:45:07] 0.016171 kWh of electricity used since the beginning.\n",
      "[codecarbon INFO @ 13:45:22] Energy consumed for RAM : 0.002025 kWh. RAM Power : 6.0 W\n",
      "[codecarbon INFO @ 13:45:22] Energy consumed for all CPUs : 0.014348 kWh. Total CPU Power : 42.5 W\n",
      "[codecarbon INFO @ 13:45:22] 0.016373 kWh of electricity used since the beginning.\n",
      "[codecarbon INFO @ 13:45:37] Energy consumed for RAM : 0.002050 kWh. RAM Power : 6.0 W\n",
      "[codecarbon INFO @ 13:45:37] Energy consumed for all CPUs : 0.014525 kWh. Total CPU Power : 42.5 W\n",
      "[codecarbon INFO @ 13:45:37] 0.016575 kWh of electricity used since the beginning.\n",
      "[codecarbon INFO @ 13:45:52] Energy consumed for RAM : 0.002075 kWh. RAM Power : 6.0 W\n",
      "[codecarbon INFO @ 13:45:52] Energy consumed for all CPUs : 0.014702 kWh. Total CPU Power : 42.5 W\n",
      "[codecarbon INFO @ 13:45:52] 0.016777 kWh of electricity used since the beginning.\n",
      "[codecarbon INFO @ 13:46:07] Energy consumed for RAM : 0.002100 kWh. RAM Power : 6.0 W\n",
      "[codecarbon INFO @ 13:46:07] Energy consumed for all CPUs : 0.014879 kWh. Total CPU Power : 42.5 W\n",
      "[codecarbon INFO @ 13:46:07] 0.016979 kWh of electricity used since the beginning.\n",
      "[codecarbon INFO @ 13:46:22] Energy consumed for RAM : 0.002125 kWh. RAM Power : 6.0 W\n",
      "[codecarbon INFO @ 13:46:22] Energy consumed for all CPUs : 0.015056 kWh. Total CPU Power : 42.5 W\n",
      "[codecarbon INFO @ 13:46:22] 0.017181 kWh of electricity used since the beginning.\n",
      "[codecarbon INFO @ 13:46:37] Energy consumed for RAM : 0.002150 kWh. RAM Power : 6.0 W\n",
      "[codecarbon INFO @ 13:46:37] Energy consumed for all CPUs : 0.015233 kWh. Total CPU Power : 42.5 W\n",
      "[codecarbon INFO @ 13:46:37] 0.017384 kWh of electricity used since the beginning.\n",
      "[codecarbon INFO @ 13:46:52] Energy consumed for RAM : 0.002175 kWh. RAM Power : 6.0 W\n",
      "[codecarbon INFO @ 13:46:52] Energy consumed for all CPUs : 0.015410 kWh. Total CPU Power : 42.5 W\n",
      "[codecarbon INFO @ 13:46:52] 0.017586 kWh of electricity used since the beginning.\n",
      "[codecarbon INFO @ 13:47:07] Energy consumed for RAM : 0.002200 kWh. RAM Power : 6.0 W\n",
      "[codecarbon INFO @ 13:47:07] Energy consumed for all CPUs : 0.015587 kWh. Total CPU Power : 42.5 W\n",
      "[codecarbon INFO @ 13:47:07] 0.017788 kWh of electricity used since the beginning.\n",
      "[codecarbon INFO @ 13:47:22] Energy consumed for RAM : 0.002225 kWh. RAM Power : 6.0 W\n",
      "[codecarbon INFO @ 13:47:22] Energy consumed for all CPUs : 0.015765 kWh. Total CPU Power : 42.5 W\n",
      "[codecarbon INFO @ 13:47:22] 0.017990 kWh of electricity used since the beginning.\n",
      "[codecarbon INFO @ 13:47:37] Energy consumed for RAM : 0.002250 kWh. RAM Power : 6.0 W\n",
      "[codecarbon INFO @ 13:47:37] Energy consumed for all CPUs : 0.015942 kWh. Total CPU Power : 42.5 W\n",
      "[codecarbon INFO @ 13:47:37] 0.018192 kWh of electricity used since the beginning.\n",
      "[codecarbon INFO @ 13:47:52] Energy consumed for RAM : 0.002275 kWh. RAM Power : 6.0 W\n",
      "[codecarbon INFO @ 13:47:52] Energy consumed for all CPUs : 0.016119 kWh. Total CPU Power : 42.5 W\n",
      "[codecarbon INFO @ 13:47:52] 0.018394 kWh of electricity used since the beginning.\n",
      "[codecarbon INFO @ 13:48:07] Energy consumed for RAM : 0.002300 kWh. RAM Power : 6.0 W\n",
      "[codecarbon INFO @ 13:48:07] Energy consumed for all CPUs : 0.016296 kWh. Total CPU Power : 42.5 W\n",
      "[codecarbon INFO @ 13:48:07] 0.018596 kWh of electricity used since the beginning.\n",
      "[codecarbon INFO @ 13:48:22] Energy consumed for RAM : 0.002325 kWh. RAM Power : 6.0 W\n",
      "[codecarbon INFO @ 13:48:22] Energy consumed for all CPUs : 0.016473 kWh. Total CPU Power : 42.5 W\n",
      "[codecarbon INFO @ 13:48:22] 0.018798 kWh of electricity used since the beginning.\n",
      "[codecarbon INFO @ 13:48:37] Energy consumed for RAM : 0.002350 kWh. RAM Power : 6.0 W\n",
      "[codecarbon INFO @ 13:48:37] Energy consumed for all CPUs : 0.016650 kWh. Total CPU Power : 42.5 W\n",
      "[codecarbon INFO @ 13:48:37] 0.019001 kWh of electricity used since the beginning.\n",
      "[codecarbon INFO @ 13:48:52] Energy consumed for RAM : 0.002375 kWh. RAM Power : 6.0 W\n",
      "[codecarbon INFO @ 13:48:52] Energy consumed for all CPUs : 0.016827 kWh. Total CPU Power : 42.5 W\n",
      "[codecarbon INFO @ 13:48:52] 0.019203 kWh of electricity used since the beginning.\n",
      "[codecarbon INFO @ 13:49:07] Energy consumed for RAM : 0.002400 kWh. RAM Power : 6.0 W\n",
      "[codecarbon INFO @ 13:49:07] Energy consumed for all CPUs : 0.017004 kWh. Total CPU Power : 42.5 W\n",
      "[codecarbon INFO @ 13:49:07] 0.019405 kWh of electricity used since the beginning.\n",
      "[codecarbon INFO @ 13:49:22] Energy consumed for RAM : 0.002425 kWh. RAM Power : 6.0 W\n",
      "[codecarbon INFO @ 13:49:22] Energy consumed for all CPUs : 0.017182 kWh. Total CPU Power : 42.5 W\n",
      "[codecarbon INFO @ 13:49:22] 0.019607 kWh of electricity used since the beginning.\n",
      "[codecarbon INFO @ 13:49:37] Energy consumed for RAM : 0.002450 kWh. RAM Power : 6.0 W\n",
      "[codecarbon INFO @ 13:49:37] Energy consumed for all CPUs : 0.017359 kWh. Total CPU Power : 42.5 W\n",
      "[codecarbon INFO @ 13:49:37] 0.019809 kWh of electricity used since the beginning.\n",
      "[codecarbon INFO @ 13:49:52] Energy consumed for RAM : 0.002475 kWh. RAM Power : 6.0 W\n",
      "[codecarbon INFO @ 13:49:52] Energy consumed for all CPUs : 0.017536 kWh. Total CPU Power : 42.5 W\n",
      "[codecarbon INFO @ 13:49:52] 0.020011 kWh of electricity used since the beginning.\n",
      "[codecarbon INFO @ 13:50:07] Energy consumed for RAM : 0.002500 kWh. RAM Power : 6.0 W\n",
      "[codecarbon INFO @ 13:50:07] Energy consumed for all CPUs : 0.017713 kWh. Total CPU Power : 42.5 W\n",
      "[codecarbon INFO @ 13:50:07] 0.020213 kWh of electricity used since the beginning.\n",
      "[codecarbon INFO @ 13:50:22] Energy consumed for RAM : 0.002525 kWh. RAM Power : 6.0 W\n",
      "[codecarbon INFO @ 13:50:22] Energy consumed for all CPUs : 0.017890 kWh. Total CPU Power : 42.5 W\n",
      "[codecarbon INFO @ 13:50:22] 0.020416 kWh of electricity used since the beginning.\n",
      "[codecarbon INFO @ 13:50:37] Energy consumed for RAM : 0.002550 kWh. RAM Power : 6.0 W\n",
      "[codecarbon INFO @ 13:50:37] Energy consumed for all CPUs : 0.018067 kWh. Total CPU Power : 42.5 W\n",
      "[codecarbon INFO @ 13:50:37] 0.020618 kWh of electricity used since the beginning.\n",
      "[codecarbon INFO @ 13:50:52] Energy consumed for RAM : 0.002575 kWh. RAM Power : 6.0 W\n",
      "[codecarbon INFO @ 13:50:52] Energy consumed for all CPUs : 0.018244 kWh. Total CPU Power : 42.5 W\n",
      "[codecarbon INFO @ 13:50:52] 0.020820 kWh of electricity used since the beginning.\n",
      "[codecarbon INFO @ 13:51:07] Energy consumed for RAM : 0.002600 kWh. RAM Power : 6.0 W\n",
      "[codecarbon INFO @ 13:51:07] Energy consumed for all CPUs : 0.018422 kWh. Total CPU Power : 42.5 W\n",
      "[codecarbon INFO @ 13:51:07] 0.021022 kWh of electricity used since the beginning.\n",
      "[codecarbon INFO @ 13:51:22] Energy consumed for RAM : 0.002625 kWh. RAM Power : 6.0 W\n",
      "[codecarbon INFO @ 13:51:22] Energy consumed for all CPUs : 0.018599 kWh. Total CPU Power : 42.5 W\n",
      "[codecarbon INFO @ 13:51:22] 0.021224 kWh of electricity used since the beginning.\n",
      "[codecarbon INFO @ 13:51:37] Energy consumed for RAM : 0.002650 kWh. RAM Power : 6.0 W\n",
      "[codecarbon INFO @ 13:51:37] Energy consumed for all CPUs : 0.018776 kWh. Total CPU Power : 42.5 W\n",
      "[codecarbon INFO @ 13:51:37] 0.021426 kWh of electricity used since the beginning.\n",
      "[codecarbon INFO @ 13:51:52] Energy consumed for RAM : 0.002675 kWh. RAM Power : 6.0 W\n",
      "[codecarbon INFO @ 13:51:52] Energy consumed for all CPUs : 0.018953 kWh. Total CPU Power : 42.5 W\n",
      "[codecarbon INFO @ 13:51:52] 0.021628 kWh of electricity used since the beginning.\n",
      "[codecarbon INFO @ 13:52:07] Energy consumed for RAM : 0.002700 kWh. RAM Power : 6.0 W\n",
      "[codecarbon INFO @ 13:52:07] Energy consumed for all CPUs : 0.019130 kWh. Total CPU Power : 42.5 W\n",
      "[codecarbon INFO @ 13:52:07] 0.021830 kWh of electricity used since the beginning.\n",
      "[codecarbon INFO @ 13:52:22] Energy consumed for RAM : 0.002725 kWh. RAM Power : 6.0 W\n",
      "[codecarbon INFO @ 13:52:22] Energy consumed for all CPUs : 0.019307 kWh. Total CPU Power : 42.5 W\n",
      "[codecarbon INFO @ 13:52:22] 0.022033 kWh of electricity used since the beginning.\n",
      "[codecarbon INFO @ 13:52:37] Energy consumed for RAM : 0.002750 kWh. RAM Power : 6.0 W\n",
      "[codecarbon INFO @ 13:52:37] Energy consumed for all CPUs : 0.019484 kWh. Total CPU Power : 42.5 W\n",
      "[codecarbon INFO @ 13:52:37] 0.022235 kWh of electricity used since the beginning.\n",
      "[codecarbon INFO @ 13:52:52] Energy consumed for RAM : 0.002775 kWh. RAM Power : 6.0 W\n",
      "[codecarbon INFO @ 13:52:52] Energy consumed for all CPUs : 0.019661 kWh. Total CPU Power : 42.5 W\n",
      "[codecarbon INFO @ 13:52:52] 0.022437 kWh of electricity used since the beginning.\n",
      "[codecarbon INFO @ 13:53:07] Energy consumed for RAM : 0.002800 kWh. RAM Power : 6.0 W\n",
      "[codecarbon INFO @ 13:53:07] Energy consumed for all CPUs : 0.019838 kWh. Total CPU Power : 42.5 W\n",
      "[codecarbon INFO @ 13:53:07] 0.022639 kWh of electricity used since the beginning.\n",
      "[codecarbon INFO @ 13:53:22] Energy consumed for RAM : 0.002825 kWh. RAM Power : 6.0 W\n",
      "[codecarbon INFO @ 13:53:22] Energy consumed for all CPUs : 0.020016 kWh. Total CPU Power : 42.5 W\n",
      "[codecarbon INFO @ 13:53:22] 0.022841 kWh of electricity used since the beginning.\n",
      "[codecarbon INFO @ 13:53:37] Energy consumed for RAM : 0.002850 kWh. RAM Power : 6.0 W\n",
      "[codecarbon INFO @ 13:53:37] Energy consumed for all CPUs : 0.020193 kWh. Total CPU Power : 42.5 W\n",
      "[codecarbon INFO @ 13:53:37] 0.023043 kWh of electricity used since the beginning.\n",
      "[codecarbon INFO @ 13:53:52] Energy consumed for RAM : 0.002875 kWh. RAM Power : 6.0 W\n",
      "[codecarbon INFO @ 13:53:52] Energy consumed for all CPUs : 0.020370 kWh. Total CPU Power : 42.5 W\n",
      "[codecarbon INFO @ 13:53:52] 0.023245 kWh of electricity used since the beginning.\n",
      "[codecarbon INFO @ 13:54:07] Energy consumed for RAM : 0.002900 kWh. RAM Power : 6.0 W\n",
      "[codecarbon INFO @ 13:54:07] Energy consumed for all CPUs : 0.020547 kWh. Total CPU Power : 42.5 W\n",
      "[codecarbon INFO @ 13:54:07] 0.023447 kWh of electricity used since the beginning.\n",
      "[codecarbon INFO @ 13:54:22] Energy consumed for RAM : 0.002925 kWh. RAM Power : 6.0 W\n",
      "[codecarbon INFO @ 13:54:22] Energy consumed for all CPUs : 0.020724 kWh. Total CPU Power : 42.5 W\n",
      "[codecarbon INFO @ 13:54:22] 0.023650 kWh of electricity used since the beginning.\n",
      "[codecarbon INFO @ 13:54:37] Energy consumed for RAM : 0.002950 kWh. RAM Power : 6.0 W\n",
      "[codecarbon INFO @ 13:54:37] Energy consumed for all CPUs : 0.020901 kWh. Total CPU Power : 42.5 W\n",
      "[codecarbon INFO @ 13:54:37] 0.023852 kWh of electricity used since the beginning.\n",
      "[codecarbon INFO @ 13:54:52] Energy consumed for RAM : 0.002975 kWh. RAM Power : 6.0 W\n",
      "[codecarbon INFO @ 13:54:52] Energy consumed for all CPUs : 0.021078 kWh. Total CPU Power : 42.5 W\n",
      "[codecarbon INFO @ 13:54:52] 0.024054 kWh of electricity used since the beginning.\n",
      "[codecarbon INFO @ 13:55:07] Energy consumed for RAM : 0.003000 kWh. RAM Power : 6.0 W\n",
      "[codecarbon INFO @ 13:55:07] Energy consumed for all CPUs : 0.021255 kWh. Total CPU Power : 42.5 W\n",
      "[codecarbon INFO @ 13:55:07] 0.024256 kWh of electricity used since the beginning.\n",
      "[codecarbon INFO @ 13:55:22] Energy consumed for RAM : 0.003025 kWh. RAM Power : 6.0 W\n",
      "[codecarbon INFO @ 13:55:22] Energy consumed for all CPUs : 0.021433 kWh. Total CPU Power : 42.5 W\n",
      "[codecarbon INFO @ 13:55:22] 0.024458 kWh of electricity used since the beginning.\n",
      "[codecarbon INFO @ 13:55:37] Energy consumed for RAM : 0.003050 kWh. RAM Power : 6.0 W\n",
      "[codecarbon INFO @ 13:55:37] Energy consumed for all CPUs : 0.021610 kWh. Total CPU Power : 42.5 W\n",
      "[codecarbon INFO @ 13:55:37] 0.024660 kWh of electricity used since the beginning.\n",
      "[codecarbon INFO @ 13:55:52] Energy consumed for RAM : 0.003075 kWh. RAM Power : 6.0 W\n",
      "[codecarbon INFO @ 13:55:52] Energy consumed for all CPUs : 0.021787 kWh. Total CPU Power : 42.5 W\n",
      "[codecarbon INFO @ 13:55:52] 0.024862 kWh of electricity used since the beginning.\n",
      "[codecarbon INFO @ 13:56:07] Energy consumed for RAM : 0.003101 kWh. RAM Power : 6.0 W\n",
      "[codecarbon INFO @ 13:56:07] Energy consumed for all CPUs : 0.021964 kWh. Total CPU Power : 42.5 W\n",
      "[codecarbon INFO @ 13:56:07] 0.025065 kWh of electricity used since the beginning.\n",
      "[codecarbon INFO @ 13:56:22] Energy consumed for RAM : 0.003126 kWh. RAM Power : 6.0 W\n",
      "[codecarbon INFO @ 13:56:22] Energy consumed for all CPUs : 0.022141 kWh. Total CPU Power : 42.5 W\n",
      "[codecarbon INFO @ 13:56:22] 0.025267 kWh of electricity used since the beginning.\n",
      "[codecarbon INFO @ 13:56:37] Energy consumed for RAM : 0.003151 kWh. RAM Power : 6.0 W\n",
      "[codecarbon INFO @ 13:56:37] Energy consumed for all CPUs : 0.022318 kWh. Total CPU Power : 42.5 W\n",
      "[codecarbon INFO @ 13:56:37] 0.025469 kWh of electricity used since the beginning.\n",
      "[codecarbon INFO @ 13:56:51] Energy consumed for RAM : 0.003173 kWh. RAM Power : 6.0 W\n",
      "[codecarbon INFO @ 13:56:51] Energy consumed for all CPUs : 0.022479 kWh. Total CPU Power : 42.5 W\n",
      "[codecarbon INFO @ 13:56:51] 0.025652 kWh of electricity used since the beginning.\n",
      "/Users/zilvinasmacius/PycharmProjects/kategorijos_huggin_face/.venv/lib/python3.12/site-packages/codecarbon/output.py:168: FutureWarning: The behavior of DataFrame concatenation with empty or all-NA entries is deprecated. In a future version, this will no longer exclude empty or all-NA columns when determining the result dtypes. To retain the old behavior, exclude the relevant entries before the concat operation.\n",
      "  df = pd.concat([df, pd.DataFrame.from_records([dict(data.values)])])\n"
     ]
    },
    {
     "data": {
      "text/plain": [
       "TrainOutput(global_step=4887, training_loss=1.1745200784557164, metrics={'train_runtime': 1904.2071, 'train_samples_per_second': 41.05, 'train_steps_per_second': 2.566, 'total_flos': 1118316268051440.0, 'train_loss': 1.1745200784557164, 'epoch': 3.0})"
      ]
     },
     "execution_count": 36,
     "metadata": {},
     "output_type": "execute_result"
    }
   ],
   "execution_count": 36
  },
  {
   "metadata": {
    "ExecuteTime": {
     "end_time": "2024-11-07T12:02:37.769948Z",
     "start_time": "2024-11-07T12:02:29.845954Z"
    }
   },
   "cell_type": "code",
   "source": [
    "from transformers import pipeline\n",
    "\n",
    "classifier = pipeline(task=\"text-classification\", model=\"Vampyrian/category_predictor_for_household_equipments\")"
   ],
   "id": "ef33f3c1619f07b",
   "outputs": [
    {
     "ename": "OSError",
     "evalue": "Can't load tokenizer for 'Vampyrian/category_predictor_for_household_equipments'. If you were trying to load it from 'https://huggingface.co/models', make sure you don't have a local directory with the same name. Otherwise, make sure 'Vampyrian/category_predictor_for_household_equipments' is the correct path to a directory containing all relevant files for a BertTokenizerFast tokenizer.",
     "output_type": "error",
     "traceback": [
      "\u001B[0;31m---------------------------------------------------------------------------\u001B[0m",
      "\u001B[0;31mOSError\u001B[0m                                   Traceback (most recent call last)",
      "Cell \u001B[0;32mIn[1], line 3\u001B[0m\n\u001B[1;32m      1\u001B[0m \u001B[38;5;28;01mfrom\u001B[39;00m \u001B[38;5;21;01mtransformers\u001B[39;00m \u001B[38;5;28;01mimport\u001B[39;00m pipeline\n\u001B[0;32m----> 3\u001B[0m classifier \u001B[38;5;241m=\u001B[39m \u001B[43mpipeline\u001B[49m\u001B[43m(\u001B[49m\u001B[43mtask\u001B[49m\u001B[38;5;241;43m=\u001B[39;49m\u001B[38;5;124;43m\"\u001B[39;49m\u001B[38;5;124;43mtext-classification\u001B[39;49m\u001B[38;5;124;43m\"\u001B[39;49m\u001B[43m,\u001B[49m\u001B[43m \u001B[49m\u001B[43mmodel\u001B[49m\u001B[38;5;241;43m=\u001B[39;49m\u001B[38;5;124;43m\"\u001B[39;49m\u001B[38;5;124;43mVampyrian/category_predictor_for_household_equipments\u001B[39;49m\u001B[38;5;124;43m\"\u001B[39;49m\u001B[43m)\u001B[49m\n",
      "File \u001B[0;32m~/PycharmProjects/kategorijos_huggin_face/.venv/lib/python3.12/site-packages/transformers/pipelines/__init__.py:999\u001B[0m, in \u001B[0;36mpipeline\u001B[0;34m(task, model, config, tokenizer, feature_extractor, image_processor, framework, revision, use_fast, token, device, device_map, torch_dtype, trust_remote_code, model_kwargs, pipeline_class, **kwargs)\u001B[0m\n\u001B[1;32m    996\u001B[0m             tokenizer_kwargs \u001B[38;5;241m=\u001B[39m model_kwargs\u001B[38;5;241m.\u001B[39mcopy()\n\u001B[1;32m    997\u001B[0m             tokenizer_kwargs\u001B[38;5;241m.\u001B[39mpop(\u001B[38;5;124m\"\u001B[39m\u001B[38;5;124mtorch_dtype\u001B[39m\u001B[38;5;124m\"\u001B[39m, \u001B[38;5;28;01mNone\u001B[39;00m)\n\u001B[0;32m--> 999\u001B[0m         tokenizer \u001B[38;5;241m=\u001B[39m \u001B[43mAutoTokenizer\u001B[49m\u001B[38;5;241;43m.\u001B[39;49m\u001B[43mfrom_pretrained\u001B[49m\u001B[43m(\u001B[49m\n\u001B[1;32m   1000\u001B[0m \u001B[43m            \u001B[49m\u001B[43mtokenizer_identifier\u001B[49m\u001B[43m,\u001B[49m\u001B[43m \u001B[49m\u001B[43muse_fast\u001B[49m\u001B[38;5;241;43m=\u001B[39;49m\u001B[43muse_fast\u001B[49m\u001B[43m,\u001B[49m\u001B[43m \u001B[49m\u001B[43m_from_pipeline\u001B[49m\u001B[38;5;241;43m=\u001B[39;49m\u001B[43mtask\u001B[49m\u001B[43m,\u001B[49m\u001B[43m \u001B[49m\u001B[38;5;241;43m*\u001B[39;49m\u001B[38;5;241;43m*\u001B[39;49m\u001B[43mhub_kwargs\u001B[49m\u001B[43m,\u001B[49m\u001B[43m \u001B[49m\u001B[38;5;241;43m*\u001B[39;49m\u001B[38;5;241;43m*\u001B[39;49m\u001B[43mtokenizer_kwargs\u001B[49m\n\u001B[1;32m   1001\u001B[0m \u001B[43m        \u001B[49m\u001B[43m)\u001B[49m\n\u001B[1;32m   1003\u001B[0m \u001B[38;5;28;01mif\u001B[39;00m load_image_processor:\n\u001B[1;32m   1004\u001B[0m     \u001B[38;5;66;03m# Try to infer image processor from model or config name (if provided as str)\u001B[39;00m\n\u001B[1;32m   1005\u001B[0m     \u001B[38;5;28;01mif\u001B[39;00m image_processor \u001B[38;5;129;01mis\u001B[39;00m \u001B[38;5;28;01mNone\u001B[39;00m:\n",
      "File \u001B[0;32m~/PycharmProjects/kategorijos_huggin_face/.venv/lib/python3.12/site-packages/transformers/models/auto/tokenization_auto.py:926\u001B[0m, in \u001B[0;36mAutoTokenizer.from_pretrained\u001B[0;34m(cls, pretrained_model_name_or_path, *inputs, **kwargs)\u001B[0m\n\u001B[1;32m    923\u001B[0m tokenizer_class_py, tokenizer_class_fast \u001B[38;5;241m=\u001B[39m TOKENIZER_MAPPING[\u001B[38;5;28mtype\u001B[39m(config)]\n\u001B[1;32m    925\u001B[0m \u001B[38;5;28;01mif\u001B[39;00m tokenizer_class_fast \u001B[38;5;129;01mand\u001B[39;00m (use_fast \u001B[38;5;129;01mor\u001B[39;00m tokenizer_class_py \u001B[38;5;129;01mis\u001B[39;00m \u001B[38;5;28;01mNone\u001B[39;00m):\n\u001B[0;32m--> 926\u001B[0m     \u001B[38;5;28;01mreturn\u001B[39;00m \u001B[43mtokenizer_class_fast\u001B[49m\u001B[38;5;241;43m.\u001B[39;49m\u001B[43mfrom_pretrained\u001B[49m\u001B[43m(\u001B[49m\u001B[43mpretrained_model_name_or_path\u001B[49m\u001B[43m,\u001B[49m\u001B[43m \u001B[49m\u001B[38;5;241;43m*\u001B[39;49m\u001B[43minputs\u001B[49m\u001B[43m,\u001B[49m\u001B[43m \u001B[49m\u001B[38;5;241;43m*\u001B[39;49m\u001B[38;5;241;43m*\u001B[39;49m\u001B[43mkwargs\u001B[49m\u001B[43m)\u001B[49m\n\u001B[1;32m    927\u001B[0m \u001B[38;5;28;01melse\u001B[39;00m:\n\u001B[1;32m    928\u001B[0m     \u001B[38;5;28;01mif\u001B[39;00m tokenizer_class_py \u001B[38;5;129;01mis\u001B[39;00m \u001B[38;5;129;01mnot\u001B[39;00m \u001B[38;5;28;01mNone\u001B[39;00m:\n",
      "File \u001B[0;32m~/PycharmProjects/kategorijos_huggin_face/.venv/lib/python3.12/site-packages/transformers/tokenization_utils_base.py:2200\u001B[0m, in \u001B[0;36mPreTrainedTokenizerBase.from_pretrained\u001B[0;34m(cls, pretrained_model_name_or_path, cache_dir, force_download, local_files_only, token, revision, trust_remote_code, *init_inputs, **kwargs)\u001B[0m\n\u001B[1;32m   2197\u001B[0m \u001B[38;5;66;03m# If one passes a GGUF file path to `gguf_file` there is no need for this check as the tokenizer will be\u001B[39;00m\n\u001B[1;32m   2198\u001B[0m \u001B[38;5;66;03m# loaded directly from the GGUF file.\u001B[39;00m\n\u001B[1;32m   2199\u001B[0m \u001B[38;5;28;01mif\u001B[39;00m \u001B[38;5;28mall\u001B[39m(full_file_name \u001B[38;5;129;01mis\u001B[39;00m \u001B[38;5;28;01mNone\u001B[39;00m \u001B[38;5;28;01mfor\u001B[39;00m full_file_name \u001B[38;5;129;01min\u001B[39;00m resolved_vocab_files\u001B[38;5;241m.\u001B[39mvalues()) \u001B[38;5;129;01mand\u001B[39;00m \u001B[38;5;129;01mnot\u001B[39;00m gguf_file:\n\u001B[0;32m-> 2200\u001B[0m     \u001B[38;5;28;01mraise\u001B[39;00m \u001B[38;5;167;01mEnvironmentError\u001B[39;00m(\n\u001B[1;32m   2201\u001B[0m         \u001B[38;5;124mf\u001B[39m\u001B[38;5;124m\"\u001B[39m\u001B[38;5;124mCan\u001B[39m\u001B[38;5;124m'\u001B[39m\u001B[38;5;124mt load tokenizer for \u001B[39m\u001B[38;5;124m'\u001B[39m\u001B[38;5;132;01m{\u001B[39;00mpretrained_model_name_or_path\u001B[38;5;132;01m}\u001B[39;00m\u001B[38;5;124m'\u001B[39m\u001B[38;5;124m. If you were trying to load it from \u001B[39m\u001B[38;5;124m\"\u001B[39m\n\u001B[1;32m   2202\u001B[0m         \u001B[38;5;124m\"\u001B[39m\u001B[38;5;124m'\u001B[39m\u001B[38;5;124mhttps://huggingface.co/models\u001B[39m\u001B[38;5;124m'\u001B[39m\u001B[38;5;124m, make sure you don\u001B[39m\u001B[38;5;124m'\u001B[39m\u001B[38;5;124mt have a local directory with the same name. \u001B[39m\u001B[38;5;124m\"\u001B[39m\n\u001B[1;32m   2203\u001B[0m         \u001B[38;5;124mf\u001B[39m\u001B[38;5;124m\"\u001B[39m\u001B[38;5;124mOtherwise, make sure \u001B[39m\u001B[38;5;124m'\u001B[39m\u001B[38;5;132;01m{\u001B[39;00mpretrained_model_name_or_path\u001B[38;5;132;01m}\u001B[39;00m\u001B[38;5;124m'\u001B[39m\u001B[38;5;124m is the correct path to a directory \u001B[39m\u001B[38;5;124m\"\u001B[39m\n\u001B[1;32m   2204\u001B[0m         \u001B[38;5;124mf\u001B[39m\u001B[38;5;124m\"\u001B[39m\u001B[38;5;124mcontaining all relevant files for a \u001B[39m\u001B[38;5;132;01m{\u001B[39;00m\u001B[38;5;28mcls\u001B[39m\u001B[38;5;241m.\u001B[39m\u001B[38;5;18m__name__\u001B[39m\u001B[38;5;132;01m}\u001B[39;00m\u001B[38;5;124m tokenizer.\u001B[39m\u001B[38;5;124m\"\u001B[39m\n\u001B[1;32m   2205\u001B[0m     )\n\u001B[1;32m   2207\u001B[0m \u001B[38;5;28;01mfor\u001B[39;00m file_id, file_path \u001B[38;5;129;01min\u001B[39;00m vocab_files\u001B[38;5;241m.\u001B[39mitems():\n\u001B[1;32m   2208\u001B[0m     \u001B[38;5;28;01mif\u001B[39;00m file_id \u001B[38;5;129;01mnot\u001B[39;00m \u001B[38;5;129;01min\u001B[39;00m resolved_vocab_files:\n",
      "\u001B[0;31mOSError\u001B[0m: Can't load tokenizer for 'Vampyrian/category_predictor_for_household_equipments'. If you were trying to load it from 'https://huggingface.co/models', make sure you don't have a local directory with the same name. Otherwise, make sure 'Vampyrian/category_predictor_for_household_equipments' is the correct path to a directory containing all relevant files for a BertTokenizerFast tokenizer."
     ]
    }
   ],
   "execution_count": 1
  },
  {
   "metadata": {
    "ExecuteTime": {
     "end_time": "2024-11-04T09:33:59.375419Z",
     "start_time": "2024-11-04T09:33:59.163822Z"
    }
   },
   "cell_type": "code",
   "source": [
    "text = \"visas tarpinių komplektas, variklis ENT000054\"\n",
    "prediction = classifier(text)\n",
    "print(prediction)"
   ],
   "id": "4bd3b8fabc3b826e",
   "outputs": [
    {
     "name": "stdout",
     "output_type": "stream",
     "text": [
      "[{'label': 'Griliai ir keptuvės', 'score': 0.3706127405166626}]\n"
     ]
    }
   ],
   "execution_count": 12
  },
  {
   "metadata": {},
   "cell_type": "code",
   "outputs": [],
   "execution_count": null,
   "source": "",
   "id": "8468250afe8050c3"
  },
  {
   "metadata": {},
   "cell_type": "markdown",
   "source": "# AUTOTRAIN",
   "id": "8c03d376584c5c6d"
  }
 ],
 "metadata": {
  "kernelspec": {
   "display_name": "Python 3",
   "language": "python",
   "name": "python3"
  },
  "language_info": {
   "codemirror_mode": {
    "name": "ipython",
    "version": 2
   },
   "file_extension": ".py",
   "mimetype": "text/x-python",
   "name": "python",
   "nbconvert_exporter": "python",
   "pygments_lexer": "ipython2",
   "version": "2.7.6"
  }
 },
 "nbformat": 4,
 "nbformat_minor": 5
}
