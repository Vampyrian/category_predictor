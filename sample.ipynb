{
 "cells": [
  {
   "metadata": {},
   "cell_type": "markdown",
   "source": "# Logins",
   "id": "98e56972f1fe689"
  },
  {
   "metadata": {
    "ExecuteTime": {
     "end_time": "2024-11-09T13:41:01.982516Z",
     "start_time": "2024-11-09T13:41:01.960160Z"
    }
   },
   "cell_type": "code",
   "source": [
    "from dotenv import load_dotenv\n",
    "import os\n",
    "\n",
    "load_dotenv()\n",
    "\n",
    "hf_token = os.getenv('HF_TOKEN')"
   ],
   "id": "8add10080ed15486",
   "outputs": [],
   "execution_count": 49
  },
  {
   "metadata": {
    "ExecuteTime": {
     "end_time": "2024-11-09T05:06:11.204730Z",
     "start_time": "2024-11-09T05:06:10.774475Z"
    }
   },
   "cell_type": "code",
   "source": [
    "from huggingface_hub import login\n",
    "login(token=hf_token)"
   ],
   "id": "352ab15f9a963b3b",
   "outputs": [
    {
     "name": "stderr",
     "output_type": "stream",
     "text": [
      "Note: Environment variable`HF_TOKEN` is set and is the current active token independently from the token you've just configured.\n"
     ]
    }
   ],
   "execution_count": 7
  },
  {
   "metadata": {},
   "cell_type": "markdown",
   "source": "# Settings",
   "id": "8f9d2677405e6df0"
  },
  {
   "metadata": {
    "ExecuteTime": {
     "end_time": "2024-11-09T13:43:55.583088Z",
     "start_time": "2024-11-09T13:43:55.579764Z"
    }
   },
   "cell_type": "code",
   "source": [
    "# checkpoint = 'google-bert/bert-base-multilingual-cased'\n",
    "checkpoint = 'amberoad/bert-multilingual-passage-reranking-msmarco'\n",
    "\n",
    "is_test = 0\n",
    "\n",
    "if is_test == 1: \n",
    "    my_model_name = 'category_predictor_for_household_equipments'\n",
    "    dataset_name = 'Vampyrian/products_with_category_household_equipments'\n",
    "else:\n",
    "    my_model_name = 'category_predictor'\n",
    "    dataset_name = 'Vampyrian/products_with_category'\n",
    "    \n",
    "print(my_model_name)\n",
    "print(dataset_name)"
   ],
   "id": "43c0c207f22be19c",
   "outputs": [
    {
     "name": "stdout",
     "output_type": "stream",
     "text": [
      "category_predictor\n",
      "Vampyrian/products_with_category\n"
     ]
    }
   ],
   "execution_count": 53
  },
  {
   "metadata": {},
   "cell_type": "markdown",
   "source": "# Prepare dataset",
   "id": "a7055365bed99b83"
  },
  {
   "metadata": {
    "ExecuteTime": {
     "end_time": "2024-11-09T05:06:53.602930Z",
     "start_time": "2024-11-09T05:06:52.812864Z"
    }
   },
   "cell_type": "code",
   "source": "from datasets import load_dataset, Dataset",
   "id": "fbc121e30a2defb3",
   "outputs": [],
   "execution_count": 9
  },
  {
   "metadata": {
    "ExecuteTime": {
     "end_time": "2024-11-09T05:07:23.832905Z",
     "start_time": "2024-11-09T05:07:18.077627Z"
    }
   },
   "cell_type": "code",
   "source": "dataset = load_dataset(dataset_name)",
   "id": "f76cd9fc45d425d2",
   "outputs": [
    {
     "data": {
      "text/plain": [
       "train.json:   0%|          | 0.00/2.37M [00:00<?, ?B/s]"
      ],
      "application/vnd.jupyter.widget-view+json": {
       "version_major": 2,
       "version_minor": 0,
       "model_id": "06db8e81a51f4b82b91ca00ee8787efe"
      }
     },
     "metadata": {},
     "output_type": "display_data"
    },
    {
     "data": {
      "text/plain": [
       "validation.json:   0%|          | 0.00/303k [00:00<?, ?B/s]"
      ],
      "application/vnd.jupyter.widget-view+json": {
       "version_major": 2,
       "version_minor": 0,
       "model_id": "5970e0acc1134a34a4d408ca4643df46"
      }
     },
     "metadata": {},
     "output_type": "display_data"
    },
    {
     "data": {
      "text/plain": [
       "test.json:   0%|          | 0.00/305k [00:00<?, ?B/s]"
      ],
      "application/vnd.jupyter.widget-view+json": {
       "version_major": 2,
       "version_minor": 0,
       "model_id": "105c63b02a38416bbb960bce2eaabae5"
      }
     },
     "metadata": {},
     "output_type": "display_data"
    },
    {
     "data": {
      "text/plain": [
       "Generating train split:   0%|          | 0/16824 [00:00<?, ? examples/s]"
      ],
      "application/vnd.jupyter.widget-view+json": {
       "version_major": 2,
       "version_minor": 0,
       "model_id": "1e938332ad584ca7846ccfe9ca492178"
      }
     },
     "metadata": {},
     "output_type": "display_data"
    },
    {
     "data": {
      "text/plain": [
       "Generating validation split:   0%|          | 0/2153 [00:00<?, ? examples/s]"
      ],
      "application/vnd.jupyter.widget-view+json": {
       "version_major": 2,
       "version_minor": 0,
       "model_id": "c6464ae7fad04bed879cb4dbde8fef74"
      }
     },
     "metadata": {},
     "output_type": "display_data"
    },
    {
     "data": {
      "text/plain": [
       "Generating test split:   0%|          | 0/2153 [00:00<?, ? examples/s]"
      ],
      "application/vnd.jupyter.widget-view+json": {
       "version_major": 2,
       "version_minor": 0,
       "model_id": "8cb856264d5543759aa7d9039038aaa8"
      }
     },
     "metadata": {},
     "output_type": "display_data"
    }
   ],
   "execution_count": 10
  },
  {
   "metadata": {
    "ExecuteTime": {
     "end_time": "2024-11-09T05:07:40.300035Z",
     "start_time": "2024-11-09T05:07:40.292343Z"
    }
   },
   "cell_type": "code",
   "source": "dataset",
   "id": "469e83f6263a2cee",
   "outputs": [
    {
     "data": {
      "text/plain": [
       "DatasetDict({\n",
       "    train: Dataset({\n",
       "        features: ['text', 'label', 'label_text'],\n",
       "        num_rows: 16824\n",
       "    })\n",
       "    validation: Dataset({\n",
       "        features: ['text', 'label', 'label_text'],\n",
       "        num_rows: 2153\n",
       "    })\n",
       "    test: Dataset({\n",
       "        features: ['text', 'label', 'label_text'],\n",
       "        num_rows: 2153\n",
       "    })\n",
       "})"
      ]
     },
     "execution_count": 11,
     "metadata": {},
     "output_type": "execute_result"
    }
   ],
   "execution_count": 11
  },
  {
   "metadata": {
    "ExecuteTime": {
     "end_time": "2024-11-09T05:07:49.417458Z",
     "start_time": "2024-11-09T05:07:49.402783Z"
    }
   },
   "cell_type": "code",
   "source": "dataset = dataset.remove_columns('label')",
   "id": "e2e1fe8be63993a9",
   "outputs": [],
   "execution_count": 12
  },
  {
   "metadata": {
    "ExecuteTime": {
     "end_time": "2024-11-09T05:07:55.098716Z",
     "start_time": "2024-11-09T05:07:55.053977Z"
    }
   },
   "cell_type": "code",
   "source": [
    "unique_categories = set(dataset['train']['label_text'])\n",
    "id2label = {idx: label for idx, label in enumerate(unique_categories)}\n",
    "label2id = {label: idx for idx, label in enumerate(unique_categories)}"
   ],
   "id": "a4d9cf0e5b9f9a27",
   "outputs": [],
   "execution_count": 13
  },
  {
   "metadata": {
    "ExecuteTime": {
     "end_time": "2024-11-09T05:08:10.826349Z",
     "start_time": "2024-11-09T05:08:10.824579Z"
    }
   },
   "cell_type": "code",
   "source": [
    "# print(len(id2label))\n",
    "# print('----')\n",
    "# print(\"id2label:\", id2label)\n",
    "# print('----')\n",
    "# print(\"label2id:\", label2id)"
   ],
   "id": "36769af76420bf86",
   "outputs": [],
   "execution_count": 14
  },
  {
   "metadata": {
    "ExecuteTime": {
     "end_time": "2024-11-09T05:08:17.983870Z",
     "start_time": "2024-11-09T05:08:17.977612Z"
    }
   },
   "cell_type": "code",
   "source": [
    "def replace_category_with_id(example):\n",
    "    example['label'] = label2id[example.pop('label_text')]\n",
    "    return example"
   ],
   "id": "84677a6b9a6290fd",
   "outputs": [],
   "execution_count": 15
  },
  {
   "metadata": {
    "ExecuteTime": {
     "end_time": "2024-11-09T05:08:21.398788Z",
     "start_time": "2024-11-09T05:08:21.052709Z"
    }
   },
   "cell_type": "code",
   "source": "dataset = dataset.map(replace_category_with_id)",
   "id": "9373a1ea204fee6",
   "outputs": [
    {
     "data": {
      "text/plain": [
       "Map:   0%|          | 0/16824 [00:00<?, ? examples/s]"
      ],
      "application/vnd.jupyter.widget-view+json": {
       "version_major": 2,
       "version_minor": 0,
       "model_id": "9672e445edf3421f82d14f2bbe1fc607"
      }
     },
     "metadata": {},
     "output_type": "display_data"
    },
    {
     "data": {
      "text/plain": [
       "Map:   0%|          | 0/2153 [00:00<?, ? examples/s]"
      ],
      "application/vnd.jupyter.widget-view+json": {
       "version_major": 2,
       "version_minor": 0,
       "model_id": "072ef978af02479497f9f60d2be2eb27"
      }
     },
     "metadata": {},
     "output_type": "display_data"
    },
    {
     "data": {
      "text/plain": [
       "Map:   0%|          | 0/2153 [00:00<?, ? examples/s]"
      ],
      "application/vnd.jupyter.widget-view+json": {
       "version_major": 2,
       "version_minor": 0,
       "model_id": "c3436e90a71440fc853d8d82d83da815"
      }
     },
     "metadata": {},
     "output_type": "display_data"
    }
   ],
   "execution_count": 16
  },
  {
   "metadata": {
    "ExecuteTime": {
     "end_time": "2024-11-09T05:08:43.131805Z",
     "start_time": "2024-11-09T05:08:43.114055Z"
    }
   },
   "cell_type": "code",
   "source": "# dataset = dataset.shuffle(seed=42)",
   "id": "3e13871ce8fd6de9",
   "outputs": [],
   "execution_count": 17
  },
  {
   "metadata": {
    "ExecuteTime": {
     "end_time": "2024-11-09T05:10:25.120867Z",
     "start_time": "2024-11-09T05:10:25.117916Z"
    }
   },
   "cell_type": "code",
   "source": [
    "index = 1561\n",
    "print(dataset['train'][index])\n",
    "print(id2label[dataset['train'][index]['label']])"
   ],
   "id": "bd9e138e17109ec1",
   "outputs": [
    {
     "name": "stdout",
     "output_type": "stream",
     "text": [
      "{'text': 'Brock vaflinė 19,2cm WM 3001', 'label': 75}\n",
      "Vaflinės\n"
     ]
    }
   ],
   "execution_count": 24
  },
  {
   "metadata": {},
   "cell_type": "markdown",
   "source": "# Tokenizing",
   "id": "eee83b2296828a77"
  },
  {
   "metadata": {
    "ExecuteTime": {
     "end_time": "2024-11-09T05:10:33.743773Z",
     "start_time": "2024-11-09T05:10:32.661381Z"
    }
   },
   "cell_type": "code",
   "source": "from transformers import AutoTokenizer",
   "id": "da95845c79168f3e",
   "outputs": [],
   "execution_count": 25
  },
  {
   "metadata": {
    "ExecuteTime": {
     "end_time": "2024-11-09T05:10:46.436831Z",
     "start_time": "2024-11-09T05:10:46.193548Z"
    }
   },
   "cell_type": "code",
   "source": "tokenizer = AutoTokenizer.from_pretrained(checkpoint)",
   "id": "fb1c397a657e7e31",
   "outputs": [],
   "execution_count": 26
  },
  {
   "metadata": {
    "ExecuteTime": {
     "end_time": "2024-11-09T05:10:49.811393Z",
     "start_time": "2024-11-09T05:10:49.805133Z"
    }
   },
   "cell_type": "code",
   "source": [
    "def preprocess_function(examples):\n",
    "    return tokenizer(examples[\"text\"], truncation=True)"
   ],
   "id": "d7ca7fbc690744ba",
   "outputs": [],
   "execution_count": 27
  },
  {
   "metadata": {
    "ExecuteTime": {
     "end_time": "2024-11-09T05:10:52.335618Z",
     "start_time": "2024-11-09T05:10:51.731055Z"
    }
   },
   "cell_type": "code",
   "source": "tokenized_dataset = dataset.map(preprocess_function, batched=True)",
   "id": "92fd83743ac238cc",
   "outputs": [
    {
     "data": {
      "text/plain": [
       "Map:   0%|          | 0/16824 [00:00<?, ? examples/s]"
      ],
      "application/vnd.jupyter.widget-view+json": {
       "version_major": 2,
       "version_minor": 0,
       "model_id": "cf44d994b17e4a5484cbd06ea5139400"
      }
     },
     "metadata": {},
     "output_type": "display_data"
    },
    {
     "name": "stderr",
     "output_type": "stream",
     "text": [
      "Asking to truncate to max_length but no maximum length is provided and the model has no predefined maximum length. Default to no truncation.\n"
     ]
    },
    {
     "data": {
      "text/plain": [
       "Map:   0%|          | 0/2153 [00:00<?, ? examples/s]"
      ],
      "application/vnd.jupyter.widget-view+json": {
       "version_major": 2,
       "version_minor": 0,
       "model_id": "101d4eef7a9d47e7b5995b7d428dbb75"
      }
     },
     "metadata": {},
     "output_type": "display_data"
    },
    {
     "data": {
      "text/plain": [
       "Map:   0%|          | 0/2153 [00:00<?, ? examples/s]"
      ],
      "application/vnd.jupyter.widget-view+json": {
       "version_major": 2,
       "version_minor": 0,
       "model_id": "3f14daff58084ec4a575a7654609fc0a"
      }
     },
     "metadata": {},
     "output_type": "display_data"
    }
   ],
   "execution_count": 28
  },
  {
   "metadata": {
    "ExecuteTime": {
     "end_time": "2024-11-09T05:11:00.106206Z",
     "start_time": "2024-11-09T05:10:56.846039Z"
    }
   },
   "cell_type": "code",
   "source": [
    "from transformers import DataCollatorWithPadding\n",
    "\n",
    "data_collator = DataCollatorWithPadding(tokenizer=tokenizer)"
   ],
   "id": "6e8f806b4c89b99d",
   "outputs": [],
   "execution_count": 29
  },
  {
   "metadata": {},
   "cell_type": "markdown",
   "source": "# Evaluate",
   "id": "6dbcfad0fab4b24b"
  },
  {
   "metadata": {
    "ExecuteTime": {
     "end_time": "2024-11-09T05:11:05.389287Z",
     "start_time": "2024-11-09T05:11:03.404353Z"
    }
   },
   "cell_type": "code",
   "source": [
    "import evaluate\n",
    "accuracy = evaluate.load(\"accuracy\")"
   ],
   "id": "f554203dfb3156cc",
   "outputs": [],
   "execution_count": 30
  },
  {
   "metadata": {
    "ExecuteTime": {
     "end_time": "2024-11-09T05:11:07.511606Z",
     "start_time": "2024-11-09T05:11:07.508188Z"
    }
   },
   "cell_type": "code",
   "source": [
    "import numpy as np\n",
    "\n",
    "def compute_metrics(eval_pred):\n",
    "    predictions, labels = eval_pred\n",
    "    predictions = np.argmax(predictions, axis=1)\n",
    "    return accuracy.compute(predictions=predictions, references=labels)"
   ],
   "id": "1004b6af74618aa6",
   "outputs": [],
   "execution_count": 31
  },
  {
   "metadata": {},
   "cell_type": "markdown",
   "source": "# Train",
   "id": "4960247872004275"
  },
  {
   "metadata": {
    "ExecuteTime": {
     "end_time": "2024-11-09T05:11:12.479205Z",
     "start_time": "2024-11-09T05:11:12.249553Z"
    }
   },
   "cell_type": "code",
   "source": "from transformers import TrainingArguments, Trainer, AutoModelForSequenceClassification",
   "id": "d152b32b47be31c3",
   "outputs": [],
   "execution_count": 32
  },
  {
   "metadata": {
    "ExecuteTime": {
     "end_time": "2024-11-09T05:11:18.283333Z",
     "start_time": "2024-11-09T05:11:15.918431Z"
    }
   },
   "cell_type": "code",
   "source": "model = AutoModelForSequenceClassification.from_pretrained(checkpoint, num_labels=len(id2label), id2label=id2label, label2id=label2id, ignore_mismatched_sizes=True)",
   "id": "c591732acc3144e6",
   "outputs": [
    {
     "name": "stderr",
     "output_type": "stream",
     "text": [
      "Some weights of BertForSequenceClassification were not initialized from the model checkpoint at amberoad/bert-multilingual-passage-reranking-msmarco and are newly initialized because the shapes did not match:\n",
      "- classifier.weight: found shape torch.Size([2, 768]) in the checkpoint and torch.Size([79, 768]) in the model instantiated\n",
      "- classifier.bias: found shape torch.Size([2]) in the checkpoint and torch.Size([79]) in the model instantiated\n",
      "You should probably TRAIN this model on a down-stream task to be able to use it for predictions and inference.\n"
     ]
    }
   ],
   "execution_count": 33
  },
  {
   "metadata": {
    "ExecuteTime": {
     "end_time": "2024-11-09T06:50:43.900146Z",
     "start_time": "2024-11-09T06:50:43.895919Z"
    }
   },
   "cell_type": "code",
   "source": [
    "training_args = TrainingArguments(\n",
    "    output_dir=my_model_name,\n",
    "    learning_rate=2e-5,\n",
    "    per_device_train_batch_size=4,\n",
    "    per_device_eval_batch_size=4,\n",
    "    num_train_epochs=3,\n",
    "    weight_decay=0.01,\n",
    "    eval_strategy=\"epoch\",\n",
    "    save_strategy=\"epoch\",\n",
    "    load_best_model_at_end=True,\n",
    "    push_to_hub=True,\n",
    ")"
   ],
   "id": "22619744d21cda0c",
   "outputs": [],
   "execution_count": 37
  },
  {
   "metadata": {
    "ExecuteTime": {
     "end_time": "2024-11-09T06:50:46.785073Z",
     "start_time": "2024-11-09T06:50:46.575623Z"
    }
   },
   "cell_type": "code",
   "source": [
    "trainer = Trainer(\n",
    "    model=model,\n",
    "    args=training_args,\n",
    "    train_dataset=tokenized_dataset[\"train\"],\n",
    "    eval_dataset=tokenized_dataset[\"test\"],\n",
    "    data_collator=data_collator,\n",
    "    compute_metrics=compute_metrics,\n",
    ")"
   ],
   "id": "d0aed8492ecc72d2",
   "outputs": [],
   "execution_count": 38
  },
  {
   "metadata": {
    "ExecuteTime": {
     "end_time": "2024-11-09T06:09:47.984084Z",
     "start_time": "2024-11-09T05:11:35.499593Z"
    }
   },
   "cell_type": "code",
   "source": "trainer.train()",
   "id": "ad1280c4cc2933ab",
   "outputs": [
    {
     "data": {
      "text/plain": [
       "<IPython.core.display.HTML object>"
      ],
      "text/html": [
       "\n",
       "    <div>\n",
       "      \n",
       "      <progress value='12618' max='12618' style='width:300px; height:20px; vertical-align: middle;'></progress>\n",
       "      [12618/12618 57:50, Epoch 3/3]\n",
       "    </div>\n",
       "    <table border=\"1\" class=\"dataframe\">\n",
       "  <thead>\n",
       " <tr style=\"text-align: left;\">\n",
       "      <th>Epoch</th>\n",
       "      <th>Training Loss</th>\n",
       "      <th>Validation Loss</th>\n",
       "      <th>Accuracy</th>\n",
       "    </tr>\n",
       "  </thead>\n",
       "  <tbody>\n",
       "    <tr>\n",
       "      <td>1</td>\n",
       "      <td>0.967200</td>\n",
       "      <td>0.913175</td>\n",
       "      <td>0.787274</td>\n",
       "    </tr>\n",
       "    <tr>\n",
       "      <td>2</td>\n",
       "      <td>0.629700</td>\n",
       "      <td>0.730860</td>\n",
       "      <td>0.837901</td>\n",
       "    </tr>\n",
       "    <tr>\n",
       "      <td>3</td>\n",
       "      <td>0.479700</td>\n",
       "      <td>0.727262</td>\n",
       "      <td>0.844868</td>\n",
       "    </tr>\n",
       "  </tbody>\n",
       "</table><p>"
      ]
     },
     "metadata": {},
     "output_type": "display_data"
    },
    {
     "data": {
      "text/plain": [
       "TrainOutput(global_step=12618, training_loss=1.0228470146117525, metrics={'train_runtime': 3471.0903, 'train_samples_per_second': 14.541, 'train_steps_per_second': 3.635, 'total_flos': 598388784722424.0, 'train_loss': 1.0228470146117525, 'epoch': 3.0})"
      ]
     },
     "execution_count": 36,
     "metadata": {},
     "output_type": "execute_result"
    }
   ],
   "execution_count": 36
  },
  {
   "metadata": {
    "ExecuteTime": {
     "end_time": "2024-11-09T06:50:58.815803Z",
     "start_time": "2024-11-09T06:50:54.222527Z"
    }
   },
   "cell_type": "code",
   "source": "trainer.push_to_hub()",
   "id": "4fa7cde28f927a6d",
   "outputs": [
    {
     "data": {
      "text/plain": [
       "Upload 2 LFS files:   0%|          | 0/2 [00:00<?, ?it/s]"
      ],
      "application/vnd.jupyter.widget-view+json": {
       "version_major": 2,
       "version_minor": 0,
       "model_id": "319bc37480794138afd752ba25f71391"
      }
     },
     "metadata": {},
     "output_type": "display_data"
    },
    {
     "data": {
      "text/plain": [
       "events.out.tfevents.1731129095.Zilvinass-Mac-mini.local.2154.0:   0%|          | 0.00/17.8k [00:00<?, ?B/s]"
      ],
      "application/vnd.jupyter.widget-view+json": {
       "version_major": 2,
       "version_minor": 0,
       "model_id": "fb341d7f1b544bae8f4ed490feb4cd42"
      }
     },
     "metadata": {},
     "output_type": "display_data"
    },
    {
     "data": {
      "text/plain": [
       "training_args.bin:   0%|          | 0.00/5.37k [00:00<?, ?B/s]"
      ],
      "application/vnd.jupyter.widget-view+json": {
       "version_major": 2,
       "version_minor": 0,
       "model_id": "b0ba463a43e24bd8b345e4d6e15deed0"
      }
     },
     "metadata": {},
     "output_type": "display_data"
    },
    {
     "data": {
      "text/plain": [
       "CommitInfo(commit_url='https://huggingface.co/Vampyrian/category_predictor_for_household_equipments/commit/76427cc813cc099d49357b943384fd0e8e0eb277', commit_message='End of training', commit_description='', oid='76427cc813cc099d49357b943384fd0e8e0eb277', pr_url=None, repo_url=RepoUrl('https://huggingface.co/Vampyrian/category_predictor_for_household_equipments', endpoint='https://huggingface.co', repo_type='model', repo_id='Vampyrian/category_predictor_for_household_equipments'), pr_revision=None, pr_num=None)"
      ]
     },
     "execution_count": 39,
     "metadata": {},
     "output_type": "execute_result"
    }
   ],
   "execution_count": 39
  },
  {
   "metadata": {
    "ExecuteTime": {
     "end_time": "2024-11-09T06:51:04.245512Z",
     "start_time": "2024-11-09T06:51:01.503811Z"
    }
   },
   "cell_type": "code",
   "source": "tokenizer.push_to_hub(my_model_name)",
   "id": "1ad7240c2200d59d",
   "outputs": [
    {
     "data": {
      "text/plain": [
       "README.md:   0%|          | 0.00/1.29k [00:00<?, ?B/s]"
      ],
      "application/vnd.jupyter.widget-view+json": {
       "version_major": 2,
       "version_minor": 0,
       "model_id": "39cc2c6c227b4bc1b11e16e8d19648bd"
      }
     },
     "metadata": {},
     "output_type": "display_data"
    },
    {
     "data": {
      "text/plain": [
       "CommitInfo(commit_url='https://huggingface.co/Vampyrian/category_predictor_for_household_equipments/commit/4e6d41c3154d973ffe8119f7b20a89e8f59e8718', commit_message='Upload tokenizer', commit_description='', oid='4e6d41c3154d973ffe8119f7b20a89e8f59e8718', pr_url=None, repo_url=RepoUrl('https://huggingface.co/Vampyrian/category_predictor_for_household_equipments', endpoint='https://huggingface.co', repo_type='model', repo_id='Vampyrian/category_predictor_for_household_equipments'), pr_revision=None, pr_num=None)"
      ]
     },
     "execution_count": 40,
     "metadata": {},
     "output_type": "execute_result"
    }
   ],
   "execution_count": 40
  },
  {
   "metadata": {},
   "cell_type": "markdown",
   "source": "# Testing",
   "id": "7061036ade58bd46"
  },
  {
   "metadata": {
    "ExecuteTime": {
     "end_time": "2024-11-09T06:51:25.968040Z",
     "start_time": "2024-11-09T06:51:25.964009Z"
    }
   },
   "cell_type": "code",
   "source": "from transformers import pipeline",
   "id": "446c7927aa1f4dc",
   "outputs": [],
   "execution_count": 41
  },
  {
   "metadata": {
    "ExecuteTime": {
     "end_time": "2024-11-09T06:52:26.049492Z",
     "start_time": "2024-11-09T06:52:26.046850Z"
    }
   },
   "cell_type": "code",
   "source": "trained_model_name_on_hugging_face = 'Vampyrian/' + my_model_name",
   "id": "3ccaab983ccc7a4a",
   "outputs": [
    {
     "data": {
      "text/plain": [
       "'Vampyrian/category_predictor_for_household_equipments'"
      ]
     },
     "execution_count": 43,
     "metadata": {},
     "output_type": "execute_result"
    }
   ],
   "execution_count": 43
  },
  {
   "metadata": {
    "ExecuteTime": {
     "end_time": "2024-11-09T06:53:07.136320Z",
     "start_time": "2024-11-09T06:52:41.627119Z"
    }
   },
   "cell_type": "code",
   "source": "classifier = pipeline(\"text-classification\", model=trained_model_name_on_hugging_face)",
   "id": "b4f00a0dbd1d32bd",
   "outputs": [
    {
     "data": {
      "text/plain": [
       "config.json:   0%|          | 0.00/6.77k [00:00<?, ?B/s]"
      ],
      "application/vnd.jupyter.widget-view+json": {
       "version_major": 2,
       "version_minor": 0,
       "model_id": "4b186268724c438d811ac3e41d5cbba6"
      }
     },
     "metadata": {},
     "output_type": "display_data"
    },
    {
     "data": {
      "text/plain": [
       "model.safetensors:   0%|          | 0.00/670M [00:00<?, ?B/s]"
      ],
      "application/vnd.jupyter.widget-view+json": {
       "version_major": 2,
       "version_minor": 0,
       "model_id": "3b670c44a5234aa5951dc7f9ef2cf300"
      }
     },
     "metadata": {},
     "output_type": "display_data"
    },
    {
     "data": {
      "text/plain": [
       "tokenizer_config.json:   0%|          | 0.00/1.30k [00:00<?, ?B/s]"
      ],
      "application/vnd.jupyter.widget-view+json": {
       "version_major": 2,
       "version_minor": 0,
       "model_id": "f2933d0940b14649a1aae573de53502a"
      }
     },
     "metadata": {},
     "output_type": "display_data"
    },
    {
     "data": {
      "text/plain": [
       "vocab.txt:   0%|          | 0.00/872k [00:00<?, ?B/s]"
      ],
      "application/vnd.jupyter.widget-view+json": {
       "version_major": 2,
       "version_minor": 0,
       "model_id": "11180853871b4c58bd20499a64fa8268"
      }
     },
     "metadata": {},
     "output_type": "display_data"
    },
    {
     "data": {
      "text/plain": [
       "tokenizer.json:   0%|          | 0.00/2.56M [00:00<?, ?B/s]"
      ],
      "application/vnd.jupyter.widget-view+json": {
       "version_major": 2,
       "version_minor": 0,
       "model_id": "53dcb952ca5a401998f19345a50165e2"
      }
     },
     "metadata": {},
     "output_type": "display_data"
    },
    {
     "data": {
      "text/plain": [
       "special_tokens_map.json:   0%|          | 0.00/125 [00:00<?, ?B/s]"
      ],
      "application/vnd.jupyter.widget-view+json": {
       "version_major": 2,
       "version_minor": 0,
       "model_id": "8bb5a43e1eb440f9a7716568b5d3893f"
      }
     },
     "metadata": {},
     "output_type": "display_data"
    },
    {
     "name": "stderr",
     "output_type": "stream",
     "text": [
      "Hardware accelerator e.g. GPU is available in the environment, but no `device` argument is passed to the `Pipeline` object. Model will be on CPU.\n"
     ]
    }
   ],
   "execution_count": 44
  },
  {
   "metadata": {
    "ExecuteTime": {
     "end_time": "2024-11-09T06:57:49.337195Z",
     "start_time": "2024-11-09T06:57:49.177986Z"
    }
   },
   "cell_type": "code",
   "source": "classifier('virykle labai gera')",
   "id": "a792c57eb6b9d2e",
   "outputs": [
    {
     "data": {
      "text/plain": [
       "[{'label': 'Viryklės', 'score': 0.8829935193061829}]"
      ]
     },
     "execution_count": 48,
     "metadata": {},
     "output_type": "execute_result"
    }
   ],
   "execution_count": 48
  }
 ],
 "metadata": {
  "kernelspec": {
   "display_name": "Python 3",
   "language": "python",
   "name": "python3"
  },
  "language_info": {
   "codemirror_mode": {
    "name": "ipython",
    "version": 2
   },
   "file_extension": ".py",
   "mimetype": "text/x-python",
   "name": "python",
   "nbconvert_exporter": "python",
   "pygments_lexer": "ipython2",
   "version": "2.7.6"
  }
 },
 "nbformat": 4,
 "nbformat_minor": 5
}
